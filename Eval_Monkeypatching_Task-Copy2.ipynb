{
 "cells": [
  {
   "cell_type": "markdown",
   "id": "4e7d83dc-5050-4e1d-b35a-2c71de9c9f29",
   "metadata": {},
   "source": [
    "1) Write a Python program that accepts a string containing a mathematical expression and a dictionary of variables. The program should evaluate the expression only using the variables in the dictionary.\n",
    " expression = \"a + b * c\"\n",
    " variables = {\"a\": 4, \"b\": 2, \"c\": 3}\n",
    " output= 10"
   ]
  },
  {
   "cell_type": "code",
   "execution_count": 2,
   "id": "d6458db4-df52-4437-9e6a-605fdcb83c1f",
   "metadata": {},
   "outputs": [
    {
     "name": "stdin",
     "output_type": "stream",
     "text": [
      "Enter a dictionary:  {\"a\": 4, \"b\": 2, \"c\": 3}\n",
      "Enter an expression:  a + b * c\n"
     ]
    },
    {
     "name": "stdout",
     "output_type": "stream",
     "text": [
      "Result: 10\n"
     ]
    }
   ],
   "source": [
    "user_input = input(\"Enter a dictionary: \")\n",
    "user_input = eval(user_input)\n",
    "expr = input(\"Enter an expression: \")\n",
    "result = eval(expr,user_input)\n",
    "print(\"Result:\", result)"
   ]
  },
  {
   "cell_type": "markdown",
   "id": "2ba240aa-1a10-413e-a448-514c116db66d",
   "metadata": {},
   "source": [
    "2) Problem Statement: Write a Python program that takes a JSON string representing an inventory of items and evaluates a conditional expression. The expression will check whether certain items' quantities are above a threshold and calculate the result accordingly."
   ]
  },
  {
   "cell_type": "code",
   "execution_count": 7,
   "id": "61d451ec-7c4c-4b05-b645-dd5a674b900e",
   "metadata": {},
   "outputs": [
    {
     "name": "stdin",
     "output_type": "stream",
     "text": [
      "Enter a condition:  item1 if item1 > 40 else item2\n"
     ]
    },
    {
     "data": {
      "text/plain": [
       "50"
      ]
     },
     "execution_count": 7,
     "metadata": {},
     "output_type": "execute_result"
    }
   ],
   "source": [
    "json ={\n",
    "  \"item1\": 50,\n",
    "  \"item2\": 30,\n",
    "  \"item3\": 100\n",
    "}\n",
    "expr = input(\"Enter a condition: \")\n",
    "result = eval(expr,json)\n",
    "result\n"
   ]
  },
  {
   "cell_type": "markdown",
   "id": "61ad8f46-4980-4441-b269-4d6cda4fd1f8",
   "metadata": {},
   "source": [
    "3) You are given a list of dictionaries where each dictionary represents a product with its name and price. Write a program that:\n",
    "\n",
    "Creates a lambda function to apply a discount of 10% to the price of each product.\n",
    "Use eval() to evaluate an expression that applies this lambda function to the product list.\n",
    "Output the list of products with the updated prices after applying the discount.\n",
    "Example Input:\n",
    "\n",
    "json\n",
    "\n",
    "[\n",
    "    {\"name\": \"apple\", \"price\": 30},\n",
    "    {\"name\": \"banana\", \"price\": 20},\n",
    "    {\"name\": \"cherry\", \"price\": 50}\n",
    "]\n",
    "Expression: \"list(map(lambda x: {'name': x['name'], 'price': round(x['price'] * 0.9, 2)}, products))\"\n",
    "\n",
    "Expected Output:\n",
    "\n",
    "json\n",
    "[\n",
    "    {\"name\": \"apple\", \"price\": 27.0},\n",
    "    {\"name\": \"banana\", \"price\": 18.0},\n",
    "    {\"name\": \"cherry\", \"price\": 45.0}\n",
    "]"
   ]
  },
  {
   "cell_type": "code",
   "execution_count": 10,
   "id": "f223f671-77fe-4eac-bacf-f7958d2a99c2",
   "metadata": {},
   "outputs": [
    {
     "name": "stdout",
     "output_type": "stream",
     "text": [
      "Actual Products : [{'name': 'apple', 'price': 30}, {'name': 'banana', 'price': 20}, {'name': 'cherry', 'price': 50}]\n",
      "Products after getting discount :  [{'name': 'apple', 'price': 27.0}, {'name': 'banana', 'price': 18.0}, {'name': 'cherry', 'price': 45.0}]\n"
     ]
    }
   ],
   "source": [
    "products = [\n",
    "    {\"name\": \"apple\", \"price\": 30},\n",
    "    {\"name\": \"banana\", \"price\": 20},\n",
    "    {\"name\": \"cherry\", \"price\": 50}\n",
    "]\n",
    "expr = \"list(map(lambda x: {'name': x['name'], 'price': round(x['price'] * 0.9, 2)}, products))\"\n",
    "updated_products = eval(expr)\n",
    "print(\"Actual Products :\" ,products)\n",
    "print(\"Products after getting discount : \",updated_products)"
   ]
  },
  {
   "cell_type": "raw",
   "id": "acd5e91f-bda4-4300-9770-2f64d7416ade",
   "metadata": {},
   "source": [
    "4) Objective: You are given a Python class with a method that needs to be updated dynamically (i.e., monkey patched) to alter its behavior. Write a Python program that demonstrates how to use monkey patching to change the method of a class at runtime.\n",
    "\n",
    "Problem Statement:\n",
    "You have a Car class with a method start_engine() that prints a simple message: \"Engine started!\". Your task is to:\n",
    "\n",
    "Dynamically modify the start_engine() method to print \"Engine started with a roar!\" instead of the original message.\n",
    "Use monkey patching to change the behavior of start_engine() at runtime.\n",
    "\n",
    "Class Definition:\n",
    "python:- \n",
    "\n",
    "class Car:\n",
    "    def start_engine(self):\n",
    "        print(\"Engine started!\")\n",
    "\n",
    "Expected Output:\n",
    "\n",
    "# Before patching\n",
    "car = Car()\n",
    "car.start_engine()\n",
    "# Output: Engine started!\n",
    "\n",
    "# After patching\n",
    "car.start_engine()\n",
    "# Output: Engine started with a roar!"
   ]
  },
  {
   "cell_type": "code",
   "execution_count": 15,
   "id": "ff6f30e6-a08e-4c25-9231-bf7fc7221c28",
   "metadata": {},
   "outputs": [
    {
     "name": "stdout",
     "output_type": "stream",
     "text": [
      "Engine started!\n",
      "Engine started with a roar!\n",
      "None\n"
     ]
    }
   ],
   "source": [
    "class Car:\n",
    "    def start_engine(self):\n",
    "        print(\"Engine started!\")\n",
    "#Before MonkeyPatching\n",
    "car = Car()\n",
    "car.start_engine()\n",
    "# MonkeyPatching\n",
    "def updated_start_engine():\n",
    "    print(\"Engine started with a roar!\")\n",
    "# After MonkeyPatching\n",
    "Car.start_engine = updated_start_engine()\n",
    "print(Car.start_engine)"
   ]
  },
  {
   "cell_type": "code",
   "execution_count": null,
   "id": "f8589115-8b69-4016-8efa-6e3d93b82b7e",
   "metadata": {},
   "outputs": [],
   "source": []
  }
 ],
 "metadata": {
  "kernelspec": {
   "display_name": "Python 3 (ipykernel)",
   "language": "python",
   "name": "python3"
  },
  "language_info": {
   "codemirror_mode": {
    "name": "ipython",
    "version": 3
   },
   "file_extension": ".py",
   "mimetype": "text/x-python",
   "name": "python",
   "nbconvert_exporter": "python",
   "pygments_lexer": "ipython3",
   "version": "3.12.4"
  }
 },
 "nbformat": 4,
 "nbformat_minor": 5
}
