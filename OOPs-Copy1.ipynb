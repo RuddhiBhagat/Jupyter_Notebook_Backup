{
 "cells": [
  {
   "cell_type": "code",
   "execution_count": 49,
   "id": "9e51bf56-cdfa-48cb-9a38-62e48fd47498",
   "metadata": {},
   "outputs": [
    {
     "name": "stdin",
     "output_type": "stream",
     "text": [
      "\n",
      "                        Hello,how would you like to proceed?\n",
      "                        1. Enter 1 to create pin\n",
      "                        2. Enter 2 to deposit\n",
      "                        3. Enter 3 to withdraw\n",
      "                        4. Enter 4 to check balance\n",
      "                        5. Enter 5 to exit\n",
      " 5\n"
     ]
    },
    {
     "name": "stdout",
     "output_type": "stream",
     "text": [
      "Thank you for using Atm\n"
     ]
    }
   ],
   "source": [
    "# this is creating own data type using magic methods.(fraction operations are not supported in python.)\n",
    "\n",
    "\n",
    "class Atm:\n",
    "    # Constructor\n",
    "    def __init__(self):\n",
    "        self.pin = \"\"\n",
    "        self.balance = 0\n",
    "\n",
    "        self.menu()\n",
    "\n",
    "    def menu(self):\n",
    "        user_input = input(\"\"\"\n",
    "                        Hello,how would you like to proceed?\n",
    "                        1. Enter 1 to create pin\n",
    "                        2. Enter 2 to deposit\n",
    "                        3. Enter 3 to withdraw\n",
    "                        4. Enter 4 to check balance\n",
    "                        5. Enter 5 to exit\n",
    "\"\"\")\n",
    "        if user_input == \"1\":\n",
    "            self.create_pin()\n",
    "        elif user_input == \"2\":\n",
    "            self.deposit()\n",
    "        elif user_input == \"3\":\n",
    "            self.withdraw()\n",
    "        elif user_input == \"4\":\n",
    "            self.check_bal()\n",
    "        else:\n",
    "            print(\"Thank you for using Atm\")\n",
    "\n",
    "    def create_pin(self):\n",
    "        self.pin = input(\"Enter new pin\")\n",
    "        print(\"Your pin set successfully\")\n",
    "        print(\"Please don't share your pin with anyone\")\n",
    "\n",
    "    def deposit(self):\n",
    "        temp = input(\"Enter your pin\")\n",
    "        if temp == self.pin:\n",
    "            new_amt = int(input(\"Enter Amount to be deposited\"))\n",
    "            self.balance = self.balance + new_amt\n",
    "            print(\"Amount deposited successfully.\")\n",
    "        else:\n",
    "            print(\"Invalid pin\")\n",
    "            \n",
    "    def withdraw(self):\n",
    "        temp = input(\"Enter your pin\")\n",
    "        if temp == self.pin:\n",
    "            with_amt = int(input(\"Enter Amount to be withdrawed\"))\n",
    "            if with_amt <= self.balance:\n",
    "                self.balance = self.balance - with_amount\n",
    "            else:\n",
    "                print(\"Oops ! Insufficient balance...\")\n",
    "        else:\n",
    "            print(\"Invalid pin\")\n",
    "    \n",
    "    def check_bal(self):\n",
    "        temp = input(\"Enter your pin\")\n",
    "        if temp == self.pin:\n",
    "            print(f\"Total balance in your account is RS.{self.balance}.\")\n",
    "        else:\n",
    "            print(\"Invalid pin\")\n",
    "\n",
    "Ruddhi = Atm()\n"
   ]
  },
  {
   "cell_type": "code",
   "execution_count": 45,
   "id": "e930d9ba-4783-48fe-bad6-7eb4426f867c",
   "metadata": {},
   "outputs": [
    {
     "name": "stdout",
     "output_type": "stream",
     "text": [
      "Hey! This is string method.\n",
      "Hey! This is string method.\n",
      "12/9\n",
      "None\n",
      "0/9\n",
      "None\n",
      "4/9\n",
      "None\n",
      "6/6\n",
      "None\n"
     ]
    }
   ],
   "source": [
    "class Fraction:\n",
    "    def __init__(self,n,d):\n",
    "        self.n = n\n",
    "        self.d = d\n",
    "\n",
    "    def __str__(self):\n",
    "        return \"Hey! This is string method.\"\n",
    "\n",
    "    def __add__(self,other):\n",
    "        temp_num = self.n * other.d + self.d * other.n\n",
    "        temp_deno = self.d * other.d\n",
    "        print(f\"{temp_num}/{temp_deno}\")\n",
    "\n",
    "    def __sub__(self,other):\n",
    "        temp_num = self.n * other.d - self.d *other.n\n",
    "        temp_deno = self.d * other.d\n",
    "        print(f\"{temp_num}/{temp_deno}\")\n",
    "\n",
    "    def __mul__(self,other):\n",
    "        temp_num = self.n * other.n\n",
    "        temp_deno = self.d * other.d\n",
    "        print(f\"{temp_num}/{temp_deno}\")\n",
    "\n",
    "    def __truediv__(self,other):\n",
    "        temp_num = self.n * other.d\n",
    "        temp_deno = self.d * other.n\n",
    "        print(f\"{temp_num}/{temp_deno}\")\n",
    "x = Fraction(2,3)\n",
    "y = Fraction(2,3)\n",
    "print(x)\n",
    "print(y)\n",
    "print(x + y)\n",
    "print(x - y)\n",
    "print(x * y)\n",
    "print(x / y)\n"
   ]
  },
  {
   "cell_type": "markdown",
   "id": "76aa35d2-2117-493a-9a7e-31fba9cf981b",
   "metadata": {},
   "source": [
    "### Encapsulation"
   ]
  },
  {
   "cell_type": "code",
   "execution_count": 1,
   "id": "7daba4ee-bd55-4e41-9c72-dfbddbee7b47",
   "metadata": {},
   "outputs": [],
   "source": [
    "#variables which are made inside constructor are called as instance variable e.g self.pin self.balance.\n",
    "#it is called as instance variable because its value changes as instance changes--object changes.\n",
    "\n",
    "# when we do Ruddhi.pin -- it is accessible so it wont happen it should be hidden right ? otherwise everyone will able to access it.\n",
    "# use self.__balance self.__pin --- check for objname.pin it will show error now\n",
    "# if we set any value as self.__balance = \"asdrfnjnj\" -- it wont show you error it will execute. but it cant affect the code as all methods will use _Atm__balance"
   ]
  },
  {
   "cell_type": "code",
   "execution_count": 3,
   "id": "47dad2f0-c617-44bd-802e-d92a7c1e0788",
   "metadata": {},
   "outputs": [
    {
     "name": "stdin",
     "output_type": "stream",
     "text": [
      "\n",
      "                        Hello,how would you like to proceed?\n",
      "                        1. Enter 1 to create pin\n",
      "                        2. Enter 2 to deposit\n",
      "                        3. Enter 3 to withdraw\n",
      "                        4. Enter 4 to check balance\n",
      "                        5. Enter 5 to exit\n",
      " 5\n"
     ]
    },
    {
     "name": "stdout",
     "output_type": "stream",
     "text": [
      "Thank you for using Atm\n"
     ]
    }
   ],
   "source": [
    "\n",
    "\n",
    "\n",
    "class Atm:\n",
    "    # Constructor\n",
    "    def __init__(self):\n",
    "        self.__pin = \"\"\n",
    "        self.__balance = 0\n",
    "\n",
    "        self.menu()\n",
    "\n",
    "    def set_pin(pin):\n",
    "        self.pin = pin\n",
    "        print(\"Pin changed\")\n",
    "    def get_pin():\n",
    "        return self.pin\n",
    "        \n",
    "\n",
    "    def menu(self):\n",
    "        user_input = input(\"\"\"\n",
    "                        Hello,how would you like to proceed?\n",
    "                        1. Enter 1 to create pin\n",
    "                        2. Enter 2 to deposit\n",
    "                        3. Enter 3 to withdraw\n",
    "                        4. Enter 4 to check balance\n",
    "                        5. Enter 5 to exit\n",
    "\"\"\")\n",
    "        if user_input == \"1\":\n",
    "            self.create_pin()\n",
    "        elif user_input == \"2\":\n",
    "            self.deposit()\n",
    "        elif user_input == \"3\":\n",
    "            self.withdraw()\n",
    "        elif user_input == \"4\":\n",
    "            self.check_bal()\n",
    "        else:\n",
    "            print(\"Thank you for using Atm\")\n",
    "\n",
    "    def create_pin(self):\n",
    "        self.__pin = input(\"Enter new pin\")\n",
    "        print(\"Your pin set successfully\")\n",
    "        print(\"Please don't share your pin with anyone\")\n",
    "\n",
    "    def deposit(self):\n",
    "        temp = input(\"Enter your pin\")\n",
    "        if temp == self.__pin:\n",
    "            new_amt = int(input(\"Enter Amount to be deposited\"))\n",
    "            self.__balance = self.__balance + new_amt\n",
    "            print(\"Amount deposited successfully.\")\n",
    "        else:\n",
    "            print(\"Invalid pin\")\n",
    "            \n",
    "    def withdraw(self):\n",
    "        temp = input(\"Enter your pin\")\n",
    "        if temp == self.__pin:\n",
    "            with_amt = int(input(\"Enter Amount to be withdrawed\"))\n",
    "            if with_amt <= self.__balance:\n",
    "                self.__balance = self.__balance - with_amount\n",
    "            else:\n",
    "                print(\"Oops ! Insufficient balance...\")\n",
    "        else:\n",
    "            print(\"Invalid pin\")\n",
    "    \n",
    "    def check_bal(self):\n",
    "        temp = input(\"Enter your pin\")\n",
    "        if temp == self.__pin:\n",
    "            print(f\"Total balance in your account is RS.{self.__balance}.\")\n",
    "        else:\n",
    "            print(\"Invalid pin\")\n",
    "\n",
    "Ruddhi = Atm()"
   ]
  },
  {
   "cell_type": "code",
   "execution_count": 6,
   "id": "15246bbf-81ef-4e62-9619-3871e7d5a107",
   "metadata": {},
   "outputs": [
    {
     "name": "stdout",
     "output_type": "stream",
     "text": [
      "10\n"
     ]
    }
   ],
   "source": [
    "# public \n",
    "class Test:\n",
    "    def __init__(self):\n",
    "        self.value = 10\n",
    "\n",
    "t = Test()\n",
    "print(t.value)  # ✅ Accessible\n"
   ]
  },
  {
   "cell_type": "code",
   "execution_count": 8,
   "id": "10edbdbc-e8f4-4fe4-92ac-4b8ab8ee345a",
   "metadata": {},
   "outputs": [
    {
     "name": "stdout",
     "output_type": "stream",
     "text": [
      "20\n",
      "20\n"
     ]
    }
   ],
   "source": [
    "# protected\n",
    "class Test:\n",
    "    def __init__(self):\n",
    "        self._value = 20  # Protected\n",
    "\n",
    "class SubTest(Test):\n",
    "    def show(self):\n",
    "        print(self._value)  # ✅ Accessible in subclass\n",
    "\n",
    "t = SubTest()\n",
    "t.show()\n",
    "print(t._value)  # 😬 Still accessible, but not recommended\n"
   ]
  },
  {
   "cell_type": "code",
   "execution_count": 10,
   "id": "4beb4585-0736-41d7-8bef-17a4b0ca3e91",
   "metadata": {},
   "outputs": [
    {
     "name": "stdout",
     "output_type": "stream",
     "text": [
      "30\n"
     ]
    },
    {
     "ename": "AttributeError",
     "evalue": "'Test' object has no attribute '__value'",
     "output_type": "error",
     "traceback": [
      "\u001b[1;31m---------------------------------------------------------------------------\u001b[0m",
      "\u001b[1;31mAttributeError\u001b[0m                            Traceback (most recent call last)",
      "Cell \u001b[1;32mIn[10], line 10\u001b[0m\n\u001b[0;32m      8\u001b[0m t \u001b[38;5;241m=\u001b[39m Test()\n\u001b[0;32m      9\u001b[0m \u001b[38;5;28mprint\u001b[39m(t\u001b[38;5;241m.\u001b[39mget_value())   \u001b[38;5;66;03m# ✅ OK\u001b[39;00m\n\u001b[1;32m---> 10\u001b[0m \u001b[38;5;28mprint\u001b[39m(t\u001b[38;5;241m.\u001b[39m__value)       \u001b[38;5;66;03m# ❌ Error: AttributeError\u001b[39;00m\n\u001b[0;32m     11\u001b[0m \u001b[38;5;28mprint\u001b[39m(t\u001b[38;5;241m.\u001b[39m_Test__value)\n",
      "\u001b[1;31mAttributeError\u001b[0m: 'Test' object has no attribute '__value'"
     ]
    }
   ],
   "source": [
    "class Test:\n",
    "    def __init__(self):\n",
    "        self.__value = 30  # Private\n",
    "\n",
    "    def get_value(self):\n",
    "        return self.__value\n",
    "\n",
    "t = Test()\n",
    "print(t.get_value())   # ✅ OK\n",
    "print(t.__value)       # ❌ Error: AttributeError\n",
    "print(t._Test__value)  # ⚠️ Works, but not recommended\n"
   ]
  },
  {
   "cell_type": "code",
   "execution_count": 1,
   "id": "0415b306-c657-4339-b640-4dc43d5ba293",
   "metadata": {},
   "outputs": [],
   "source": [
    "# CUSTOM EXCEPTIONS FINALLY RAISE\n",
    "# LOGGERS\n",
    "# CHANGE PIN --- ENTER EXISTING PIN"
   ]
  },
  {
   "cell_type": "code",
   "execution_count": 3,
   "id": "2fb6d761-1c90-4867-a545-741da4084595",
   "metadata": {},
   "outputs": [],
   "source": [
    "# Reference variable"
   ]
  },
  {
   "cell_type": "raw",
   "id": "f94c196b-7c78-41ec-baaa-6f4b25d29748",
   "metadata": {},
   "source": [
    "Ruddhi = Atm()\n",
    "When we create object, it is stored in a variable. This variable called as reference variable."
   ]
  },
  {
   "cell_type": "code",
   "execution_count": 8,
   "id": "ea93b147-3fc2-43b5-9ee4-6bee719fe735",
   "metadata": {},
   "outputs": [
    {
     "name": "stdout",
     "output_type": "stream",
     "text": [
      "Hello\n",
      "Aryan\n"
     ]
    }
   ],
   "source": [
    "# Pass by reference\n",
    "class Customer:\n",
    "    def __init__(self,name):\n",
    "        self.name = name\n",
    "        print(\"Hello\")\n",
    "\n",
    "cust = Customer(\"Aryan\")\n",
    "print(cust.name)"
   ]
  },
  {
   "cell_type": "code",
   "execution_count": 12,
   "id": "989bb529-0602-4202-be57-28339916b301",
   "metadata": {},
   "outputs": [
    {
     "name": "stdout",
     "output_type": "stream",
     "text": [
      "Hello Aryan\n"
     ]
    }
   ],
   "source": [
    "class Customer:\n",
    "    def __init__(self,name):\n",
    "        self.name = name\n",
    "def greet(customer):\n",
    "    print(\"Hello\",customer.name)\n",
    "\n",
    "cust = Customer(\"Aryan\")\n",
    "greet(cust)"
   ]
  },
  {
   "cell_type": "code",
   "execution_count": 14,
   "id": "e47c3898-3f91-4a89-af34-2673b4adcc19",
   "metadata": {},
   "outputs": [
    {
     "name": "stdout",
     "output_type": "stream",
     "text": [
      "2246332345056\n",
      "2246332345056\n"
     ]
    }
   ],
   "source": [
    "class Customer:\n",
    "    def __init__(self,name):\n",
    "        self.name = name\n",
    "def greet(customer):\n",
    "    print(id(customer))\n",
    "\n",
    "cust = Customer(\"Ruddhi\")\n",
    "print(id(cust))\n",
    "\n",
    "greet(cust)"
   ]
  },
  {
   "cell_type": "code",
   "execution_count": 16,
   "id": "aa9bc4ee-99f8-4b2c-b52c-1b81ca29688a",
   "metadata": {},
   "outputs": [],
   "source": [
    "# See here id of cust and customer is same."
   ]
  },
  {
   "cell_type": "code",
   "execution_count": 22,
   "id": "844deb41-1b27-4f98-86f2-7b6e89307cd3",
   "metadata": {},
   "outputs": [
    {
     "name": "stdout",
     "output_type": "stream",
     "text": [
      "Aryan\n",
      "2246309030432\n",
      "Aryan\n",
      "2246309030432\n"
     ]
    }
   ],
   "source": [
    "class Customer:\n",
    "    def __init__(self,name):\n",
    "        self.name = name\n",
    "def greet(customer):\n",
    "    customer.name = \"Aryan\"\n",
    "    print(customer.name)\n",
    "    print(id(customer))\n",
    "    \n",
    "cust = Customer(\"Ruddhi\")\n",
    "\n",
    "greet(cust)\n",
    "print(cust.name)\n",
    "print(id(cust))"
   ]
  },
  {
   "cell_type": "code",
   "execution_count": 1,
   "id": "0215325c-e7fa-4f13-94d1-1a3ca5cd1fca",
   "metadata": {},
   "outputs": [],
   "source": [
    "# if we pass any object to a function, and that function edits object then changes will be reflected in original object.\n",
    "# this proves that object is mutable...(we can change it).just like lists , dictionary,sets."
   ]
  },
  {
   "cell_type": "markdown",
   "id": "0c40c388-46a1-422a-ace1-ab1d5a9fbdd3",
   "metadata": {},
   "source": [
    "#### Collection of objects"
   ]
  },
  {
   "cell_type": "code",
   "execution_count": 18,
   "id": "6a5c1b9c-dd23-4b8c-b984-9213b9be941a",
   "metadata": {},
   "outputs": [
    {
     "name": "stdout",
     "output_type": "stream",
     "text": [
      "I am Ruddhi and I am 22 .\n",
      "I am Shruti and I am 22 .\n",
      "I am Shreya and I am 23 .\n"
     ]
    }
   ],
   "source": [
    "class Customer:\n",
    "    def __init__(self,name,age):\n",
    "        self.name = name\n",
    "        self.age = age\n",
    "    def intro(self):\n",
    "        print(\"I am\",self.name,\"and I am\",self.age,'.')\n",
    "\n",
    "c1 = Customer(\"Ruddhi\",22)\n",
    "c2 = Customer(\"Shruti\",22)\n",
    "c3 = Customer(\"Shreya\",23)\n",
    "\n",
    "l = [c1,c2,c3]\n",
    "for i in l:\n",
    "    i.intro()"
   ]
  },
  {
   "cell_type": "markdown",
   "id": "4b71198d-6e70-4c33-b564-d42729b62d74",
   "metadata": {},
   "source": [
    "#### Static"
   ]
  },
  {
   "cell_type": "code",
   "execution_count": 21,
   "id": "4fbc07b0-e82c-4483-a16a-f2f89f979d6f",
   "metadata": {},
   "outputs": [],
   "source": [
    "#If your manager asks you to add serial number for customers , customer1 as 1 , 2 as 2 .\n",
    "# two type of variable - instance and static... for instance its varies which dont vary is static eg ifsc code  \n",
    "# we create static variable outside constructor ...and instance variable inside constructor\n",
    "# for example counter = 1\n",
    "# and we call it inside constructor as self.sno = Atm.counter---classname.static_var_name\n",
    "\n",
    "# if you are making any method with the use of static variable you dont need to pass self(object).\n"
   ]
  },
  {
   "cell_type": "code",
   "execution_count": null,
   "id": "247c56a8-39dc-4d96-9385-dc43b05695ee",
   "metadata": {},
   "outputs": [],
   "source": [
    "class Atm:\n",
    "    # Static\n",
    "    __counter = 1\n",
    "    # Constructor\n",
    "    def __init__(self):\n",
    "        self.__pin = \"\"\n",
    "        self.__balance = 0\n",
    "        self.sno = Atm.__counter\n",
    "        Atm.__counter = Atm.__counter + 1\n",
    "\n",
    "    @staticmethod\n",
    "    def get_counter():\n",
    "        return Atm.__counter\n",
    "        \n",
    "    @staticmethod\n",
    "    def set_counter(new):\n",
    "        if type(new) == int:\n",
    "            Atm.__counter = new\n",
    "        else:\n",
    "            print(\"Not Allowed\")\n",
    "        \n",
    "\n",
    "        #self.menu()\n",
    "\n",
    "    def set_pin(pin):\n",
    "        self.pin = pin\n",
    "        print(\"Pin changed\")\n",
    "    def get_pin():\n",
    "        return self.pin\n",
    "        \n",
    "\n",
    "    def menu(self):\n",
    "        user_input = input(\"\"\"\n",
    "                        Hello,how would you like to proceed?\n",
    "                        1. Enter 1 to create pin\n",
    "                        2. Enter 2 to deposit\n",
    "                        3. Enter 3 to withdraw\n",
    "                        4. Enter 4 to check balance\n",
    "                        5. Enter 5 to exit\n",
    "\"\"\")\n",
    "        if user_input == \"1\":\n",
    "            self.create_pin()\n",
    "        elif user_input == \"2\":\n",
    "            self.deposit()\n",
    "        elif user_input == \"3\":\n",
    "            self.withdraw()\n",
    "        elif user_input == \"4\":\n",
    "            self.check_bal()\n",
    "        else:\n",
    "            print(\"Thank you for using Atm\")\n",
    "\n",
    "    def create_pin(self):\n",
    "        self.__pin = input(\"Enter new pin\")\n",
    "        print(\"Your pin set successfully\")\n",
    "        print(\"Please don't share your pin with anyone\")\n",
    "\n",
    "    def deposit(self):\n",
    "        temp = input(\"Enter your pin\")\n",
    "        if temp == self.__pin:\n",
    "            new_amt = int(input(\"Enter Amount to be deposited\"))\n",
    "            self.__balance = self.__balance + new_amt\n",
    "            print(\"Amount deposited successfully.\")\n",
    "        else:\n",
    "            print(\"Invalid pin\")\n",
    "            \n",
    "    def withdraw(self):\n",
    "        temp = input(\"Enter your pin\")\n",
    "        if temp == self.__pin:\n",
    "            with_amt = int(input(\"Enter Amount to be withdrawed\"))\n",
    "            if with_amt <= self.__balance:\n",
    "                self.__balance = self.__balance - with_amount\n",
    "            else:\n",
    "                print(\"Oops ! Insufficient balance...\")\n",
    "        else:\n",
    "            print(\"Invalid pin\")\n",
    "    \n",
    "    def check_bal(self):\n",
    "        temp = input(\"Enter your pin\")\n",
    "        if temp == self.__pin:\n",
    "            print(f\"Total balance in your account is RS.{self.__balance}.\")\n",
    "        else:\n",
    "            print(\"Invalid pin\")\n",
    "\n",
    "C1 = Atm()\n",
    "C2 = Atm()\n",
    "C3 = Atm()\n",
    "l= [C1,C2,C3]\n",
    "for i in l:\n",
    "    print(i.sno)\n",
    "Atm.get_counter()\n",
    "Atm.set_counter(4)\n",
    "Atm.get_counter()"
   ]
  },
  {
   "cell_type": "markdown",
   "id": "19162891-d07e-4e3b-b165-f68a6c13b01d",
   "metadata": {},
   "source": [
    "#### Relationship \n"
   ]
  },
  {
   "cell_type": "raw",
   "id": "354b13ac-191c-4a06-8d6c-5a987dded4f8",
   "metadata": {},
   "source": [
    "2 types --- 1.Aggregations (Has-A)-- daimond  2.Inheritance (Is-A)\n",
    "Car(child class) is a Vehicle(parent class)\n",
    "Customer(parent) has a Address(child)"
   ]
  },
  {
   "cell_type": "markdown",
   "id": "9997bea8-2b93-459c-9a02-356f55bd9947",
   "metadata": {},
   "source": [
    "Aggregation"
   ]
  },
  {
   "cell_type": "code",
   "execution_count": 67,
   "id": "e5f0c727-e5f6-45ab-b585-cd15bda29ff6",
   "metadata": {},
   "outputs": [
    {
     "name": "stdout",
     "output_type": "stream",
     "text": [
      "700156\n",
      "123455\n"
     ]
    }
   ],
   "source": [
    "class Customer:\n",
    "    def __init__(self,name,gender,address):\n",
    "        self.name = name\n",
    "        self.gender = gender\n",
    "        self.address = address\n",
    "\n",
    "    def edit_profile(self,new_name,new_city,new_pin,new_state):\n",
    "        self.name = new_name\n",
    "        self.address.change_address(new_city,new_pin,new_state)\n",
    "        \n",
    "\n",
    "class Address:\n",
    "    def __init__(self,city,pincode,state):\n",
    "        self.city = city\n",
    "        self.pincode = pincode\n",
    "        self.state = state\n",
    "\n",
    "    def change_address(self,new_city,new_pin,new_state):\n",
    "        self.city = new_city\n",
    "        self.pincode = new_pin\n",
    "        self.state = new_state\n",
    "\n",
    "add = Address(\"Pune\",700156,\"MH\")\n",
    "cust = Customer(\"Ruddhi\",\"Female\",add)\n",
    "print(cust.address.pincode)\n",
    "cust.edit_profile(\"Shruti\",\"Mumbai\",123455,\"BL\")\n",
    "print(cust.address.pincode)"
   ]
  },
  {
   "cell_type": "code",
   "execution_count": 69,
   "id": "c4fd0dc1-9add-4d21-88b1-ebf7214615a4",
   "metadata": {},
   "outputs": [],
   "source": [
    "#inheritance"
   ]
  },
  {
   "cell_type": "raw",
   "id": "1631c265-7ccf-443c-909f-7399a5fd066c",
   "metadata": {},
   "source": [
    "data members , methods and constructors can be inherited.\n",
    "private members cannot be inherited."
   ]
  },
  {
   "cell_type": "code",
   "execution_count": 74,
   "id": "5c337dd9-a296-4131-94c2-28e6d238434c",
   "metadata": {},
   "outputs": [
    {
     "name": "stdout",
     "output_type": "stream",
     "text": [
      "login\n",
      "None\n"
     ]
    }
   ],
   "source": [
    "class User:\n",
    "    def login(self):\n",
    "        print(\"login\")\n",
    "    def register(self):\n",
    "        print(\"register\")\n",
    "class Student(User):\n",
    "    def enroll(self):\n",
    "        print(\"enroll\")\n",
    "    def review(self):\n",
    "        print(\"review\")\n",
    "\n",
    "stud1 = Student()\n",
    "print(stud1.login())"
   ]
  },
  {
   "cell_type": "code",
   "execution_count": 76,
   "id": "39c1ee74-6d67-47a8-a767-275536c38f7f",
   "metadata": {},
   "outputs": [],
   "source": [
    "# inheriting the constructor\n"
   ]
  },
  {
   "cell_type": "code",
   "execution_count": 84,
   "id": "cdc36ce2-ad37-4127-9d72-68f0b50db3da",
   "metadata": {},
   "outputs": [
    {
     "name": "stdout",
     "output_type": "stream",
     "text": [
      "Inside phone constructor\n",
      "Buying a phone of price 40000.\n"
     ]
    }
   ],
   "source": [
    "class Phone:\n",
    "    def __init__(self,price,brand,camera):\n",
    "        print(\"Inside phone constructor\")\n",
    "        self.price = price\n",
    "        self.brand = brand\n",
    "        self.camera = camera\n",
    "    def buy(self):\n",
    "        print(f\"Buying a phone of price {self.price}.\")\n",
    "    def return_phone(self):\n",
    "        print(\"Returning a phone\")\n",
    "\n",
    "class FeaturePhone(Phone):\n",
    "    pass\n",
    "\n",
    "class SmartPhone(Phone):\n",
    "    pass\n",
    "\n",
    "s = SmartPhone(40000,\"Oneplus\",13)\n",
    "s.buy()"
   ]
  },
  {
   "cell_type": "code",
   "execution_count": null,
   "id": "ebd13070-8dcf-4122-a986-9e1191a7a9ec",
   "metadata": {},
   "outputs": [],
   "source": [
    "#method overriding"
   ]
  },
  {
   "cell_type": "code",
   "execution_count": 86,
   "id": "842c7432-5b74-4703-bad4-fd8383025a73",
   "metadata": {},
   "outputs": [
    {
     "name": "stdout",
     "output_type": "stream",
     "text": [
      "Inside phone constructor\n",
      "buy me first\n"
     ]
    }
   ],
   "source": [
    "class Phone:\n",
    "    def __init__(self,price,brand,camera):\n",
    "        print(\"Inside phone constructor\")\n",
    "        self.price = price\n",
    "        self.brand = brand\n",
    "        self.camera = camera\n",
    "    def buy(self):\n",
    "        print(f\"Buying a phone of price {self.price}.\")\n",
    "    \n",
    "class SmartPhone(Phone):\n",
    "    def buy(self):\n",
    "        print(\"buy me first\")\n",
    "\n",
    "s = SmartPhone(40000,\"Oneplus\",13)\n",
    "s.buy()"
   ]
  },
  {
   "cell_type": "raw",
   "id": "dcbf5bfa-a231-477d-8d4f-7b3a4a6bf1be",
   "metadata": {},
   "source": [
    "if child have no constructor , parent uses its own -- but if child have it then parent dont allow them to use it."
   ]
  },
  {
   "cell_type": "code",
   "execution_count": 90,
   "id": "32fa65f5-2d29-442a-9720-d4aeda4d27e6",
   "metadata": {},
   "outputs": [],
   "source": [
    "#super keyword"
   ]
  },
  {
   "cell_type": "code",
   "execution_count": 92,
   "id": "63c35051-f8ef-4457-b327-9f96d105197d",
   "metadata": {},
   "outputs": [
    {
     "name": "stdout",
     "output_type": "stream",
     "text": [
      "Inside phone constructor\n",
      "buy me first\n",
      "Buying a phone of price 40000.\n"
     ]
    }
   ],
   "source": [
    "class Phone:\n",
    "    def __init__(self,price,brand,camera):\n",
    "        print(\"Inside phone constructor\")\n",
    "        self.price = price\n",
    "        self.brand = brand\n",
    "        self.camera = camera\n",
    "    def buy(self):\n",
    "        print(f\"Buying a phone of price {self.price}.\")\n",
    "    \n",
    "class SmartPhone(Phone):\n",
    "    def buy(self):\n",
    "        print(\"buy me first\")\n",
    "        super().buy()\n",
    "\n",
    "s = SmartPhone(40000,\"Oneplus\",13)\n",
    "s.buy()"
   ]
  },
  {
   "cell_type": "raw",
   "id": "7bfb21dc-dc3e-4be0-9dc9-617806983ad6",
   "metadata": {},
   "source": [
    "note - super keyword dont work outside the class"
   ]
  },
  {
   "cell_type": "code",
   "execution_count": 94,
   "id": "248950ef-0a00-402e-af8c-70d751ac0b4a",
   "metadata": {},
   "outputs": [
    {
     "name": "stdout",
     "output_type": "stream",
     "text": [
      "Pehle yaha\n",
      "Inside phone constructor\n",
      "Inside Smartphone constructor\n"
     ]
    }
   ],
   "source": [
    "class Phone:\n",
    "    def __init__(self,price,brand,camera):\n",
    "        print(\"Inside phone constructor\")\n",
    "        self.price = price\n",
    "        self.brand = brand\n",
    "        self.camera = camera\n",
    "\n",
    "class SmartPhone(Phone):\n",
    "    def __init__(self,price,brand,camera,os,ram):\n",
    "        print(\"Pehle yaha\")\n",
    "        super().__init__(price,brand,camera)\n",
    "        self.os = os\n",
    "        self.ram = ram\n",
    "        print(\"Inside Smartphone constructor\")\n",
    "\n",
    "s = SmartPhone(20000,\"Oneplus\",64,'Android',16)"
   ]
  },
  {
   "cell_type": "code",
   "execution_count": null,
   "id": "052b52e3-ae99-4114-bf02-e4cfb2c43bb2",
   "metadata": {},
   "outputs": [],
   "source": []
  }
 ],
 "metadata": {
  "kernelspec": {
   "display_name": "Python 3 (ipykernel)",
   "language": "python",
   "name": "python3"
  },
  "language_info": {
   "codemirror_mode": {
    "name": "ipython",
    "version": 3
   },
   "file_extension": ".py",
   "mimetype": "text/x-python",
   "name": "python",
   "nbconvert_exporter": "python",
   "pygments_lexer": "ipython3",
   "version": "3.12.4"
  }
 },
 "nbformat": 4,
 "nbformat_minor": 5
}
