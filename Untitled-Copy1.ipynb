{
 "cells": [
  {
   "cell_type": "code",
   "execution_count": 1,
   "id": "729fb552-13a4-4d88-a7fe-8405fc02cf29",
   "metadata": {},
   "outputs": [
    {
     "ename": "ValueError",
     "evalue": "invalid literal for int() with base 10: 'x'",
     "output_type": "error",
     "traceback": [
      "\u001b[1;31m---------------------------------------------------------------------------\u001b[0m",
      "\u001b[1;31mValueError\u001b[0m                                Traceback (most recent call last)",
      "Cell \u001b[1;32mIn[1], line 1\u001b[0m\n\u001b[1;32m----> 1\u001b[0m k \u001b[38;5;241m=\u001b[39m \u001b[38;5;28mint\u001b[39m(\u001b[38;5;124m'\u001b[39m\u001b[38;5;124mx\u001b[39m\u001b[38;5;124m'\u001b[39m)\n",
      "\u001b[1;31mValueError\u001b[0m: invalid literal for int() with base 10: 'x'"
     ]
    }
   ],
   "source": [
    "k = int('x')"
   ]
  },
  {
   "cell_type": "code",
   "execution_count": null,
   "id": "eb76596a-8fd6-42de-835a-f696fc0af89f",
   "metadata": {},
   "outputs": [],
   "source": []
  },
  {
   "cell_type": "code",
   "execution_count": 5,
   "id": "e6d5ab00-0a94-45f9-bddd-5ad5976e072e",
   "metadata": {},
   "outputs": [
    {
     "data": {
      "text/plain": [
       "10"
      ]
     },
     "execution_count": 5,
     "metadata": {},
     "output_type": "execute_result"
    }
   ],
   "source": [
    "k = int(\"10\")\n",
    "k"
   ]
  },
  {
   "cell_type": "code",
   "execution_count": 5,
   "id": "ba2061c5-5d7e-4117-b0d8-f6b3b26a14b6",
   "metadata": {},
   "outputs": [
    {
     "name": "stdout",
     "output_type": "stream",
     "text": [
      "82\n",
      "c23c5a5d8f8de1ef72700d5d74544b43\n"
     ]
    }
   ],
   "source": [
    "import secrets\n",
    "\n",
    "# Generate a secure random number\n",
    "secure_num = secrets.randbelow(100)  # Random number between 0 and 99\n",
    "print(secure_num)\n",
    "\n",
    "# Generate a secure random token\n",
    "token = secrets.token_hex(16)  # 32-character hexadecimal string\n",
    "print(token)\n",
    "\n"
   ]
  },
  {
   "cell_type": "code",
   "execution_count": 7,
   "id": "58d68876-5562-4cbb-87ec-cbd20bb41824",
   "metadata": {},
   "outputs": [],
   "source": [
    "name = b'Ruddhi'"
   ]
  },
  {
   "cell_type": "code",
   "execution_count": 9,
   "id": "ca5fe3dc-7d0b-4738-8ace-67ba68f99d58",
   "metadata": {},
   "outputs": [
    {
     "data": {
      "text/plain": [
       "bytes"
      ]
     },
     "execution_count": 9,
     "metadata": {},
     "output_type": "execute_result"
    }
   ],
   "source": [
    "type(name)"
   ]
  },
  {
   "cell_type": "code",
   "execution_count": 11,
   "id": "b6fb5823-094b-4f0d-a9d9-f1d7590c4b0a",
   "metadata": {},
   "outputs": [
    {
     "name": "stdout",
     "output_type": "stream",
     "text": [
      "82\n",
      "117\n",
      "100\n",
      "100\n",
      "104\n",
      "105\n"
     ]
    }
   ],
   "source": [
    "for i in name:\n",
    "    print(i)"
   ]
  },
  {
   "cell_type": "code",
   "execution_count": 13,
   "id": "00db0ca0-f32e-4cbc-a527-f88a19072e8c",
   "metadata": {},
   "outputs": [
    {
     "name": "stdout",
     "output_type": "stream",
     "text": [
      "0\n",
      "1\n",
      "2\n",
      "3\n",
      "4\n",
      "5\n"
     ]
    }
   ],
   "source": [
    "for i in range(len(name)):\n",
    "    print(i)"
   ]
  },
  {
   "cell_type": "code",
   "execution_count": 15,
   "id": "40e49c68-1d86-4bea-b5fb-74fe92784d93",
   "metadata": {},
   "outputs": [
    {
     "ename": "TypeError",
     "evalue": "'bytes' object cannot be interpreted as an integer",
     "output_type": "error",
     "traceback": [
      "\u001b[1;31m---------------------------------------------------------------------------\u001b[0m",
      "\u001b[1;31mTypeError\u001b[0m                                 Traceback (most recent call last)",
      "Cell \u001b[1;32mIn[15], line 1\u001b[0m\n\u001b[1;32m----> 1\u001b[0m \u001b[38;5;28;01mfor\u001b[39;00m i \u001b[38;5;129;01min\u001b[39;00m \u001b[38;5;28mrange\u001b[39m(name):\n\u001b[0;32m      2\u001b[0m     \u001b[38;5;28mprint\u001b[39m(i)\n",
      "\u001b[1;31mTypeError\u001b[0m: 'bytes' object cannot be interpreted as an integer"
     ]
    }
   ],
   "source": [
    "for i in range(name):\n",
    "    print(i)"
   ]
  },
  {
   "cell_type": "code",
   "execution_count": 21,
   "id": "d0ec52cf-acc5-4eeb-b104-f4c879bfb2e1",
   "metadata": {},
   "outputs": [],
   "source": [
    "import random"
   ]
  },
  {
   "cell_type": "code",
   "execution_count": 23,
   "id": "caf9b2f8-c901-462a-bb6b-916143452d0b",
   "metadata": {},
   "outputs": [],
   "source": [
    "k = random.randint(1,100)"
   ]
  },
  {
   "cell_type": "code",
   "execution_count": 25,
   "id": "b1c439a6-f693-47b4-9abe-c3dd2f5d3ca3",
   "metadata": {},
   "outputs": [
    {
     "data": {
      "text/plain": [
       "81"
      ]
     },
     "execution_count": 25,
     "metadata": {},
     "output_type": "execute_result"
    }
   ],
   "source": [
    "k"
   ]
  },
  {
   "cell_type": "code",
   "execution_count": 32,
   "id": "c17194f6-c2f9-4547-afad-b4ea4fddec40",
   "metadata": {},
   "outputs": [
    {
     "data": {
      "text/plain": [
       "3"
      ]
     },
     "execution_count": 32,
     "metadata": {},
     "output_type": "execute_result"
    }
   ],
   "source": [
    "s = random.choice([1,2,3,4])\n",
    "s"
   ]
  },
  {
   "cell_type": "code",
   "execution_count": 34,
   "id": "0ee29fca-2ae2-482b-a940-650e972e6ee9",
   "metadata": {},
   "outputs": [
    {
     "ename": "TypeError",
     "evalue": "'str' object does not support item assignment",
     "output_type": "error",
     "traceback": [
      "\u001b[1;31m---------------------------------------------------------------------------\u001b[0m",
      "\u001b[1;31mTypeError\u001b[0m                                 Traceback (most recent call last)",
      "Cell \u001b[1;32mIn[34], line 1\u001b[0m\n\u001b[1;32m----> 1\u001b[0m y \u001b[38;5;241m=\u001b[39m random\u001b[38;5;241m.\u001b[39mshuffle(\u001b[38;5;124m\"\u001b[39m\u001b[38;5;124mruddhi\u001b[39m\u001b[38;5;124m\"\u001b[39m)\n\u001b[0;32m      2\u001b[0m y\n",
      "File \u001b[1;32m~\\anaconda3\\Lib\\random.py:357\u001b[0m, in \u001b[0;36mRandom.shuffle\u001b[1;34m(self, x)\u001b[0m\n\u001b[0;32m    354\u001b[0m \u001b[38;5;28;01mfor\u001b[39;00m i \u001b[38;5;129;01min\u001b[39;00m \u001b[38;5;28mreversed\u001b[39m(\u001b[38;5;28mrange\u001b[39m(\u001b[38;5;241m1\u001b[39m, \u001b[38;5;28mlen\u001b[39m(x))):\n\u001b[0;32m    355\u001b[0m     \u001b[38;5;66;03m# pick an element in x[:i+1] with which to exchange x[i]\u001b[39;00m\n\u001b[0;32m    356\u001b[0m     j \u001b[38;5;241m=\u001b[39m randbelow(i \u001b[38;5;241m+\u001b[39m \u001b[38;5;241m1\u001b[39m)\n\u001b[1;32m--> 357\u001b[0m     x[i], x[j] \u001b[38;5;241m=\u001b[39m x[j], x[i]\n",
      "\u001b[1;31mTypeError\u001b[0m: 'str' object does not support item assignment"
     ]
    }
   ],
   "source": [
    "y = random.shuffle(rudd)\n",
    "y"
   ]
  },
  {
   "cell_type": "code",
   "execution_count": 38,
   "id": "81dfe7b8-4a07-4b14-acfe-15afd0aafd8c",
   "metadata": {},
   "outputs": [
    {
     "name": "stdout",
     "output_type": "stream",
     "text": [
      "[1, 4, 5, 2, 3]\n"
     ]
    }
   ],
   "source": [
    "my_list = [1, 2, 3, 4, 5]\n",
    "\n",
    "random.shuffle(my_list)\n",
    "\n",
    "print(my_list) \n"
   ]
  },
  {
   "cell_type": "code",
   "execution_count": 44,
   "id": "cba78c49-8068-4852-b64e-2a8fe283759d",
   "metadata": {},
   "outputs": [],
   "source": [
    "x = 20 \n",
    "x = 30\n",
    "def my_function():\n",
    "    return x"
   ]
  },
  {
   "cell_type": "code",
   "execution_count": 46,
   "id": "4643c8b5-ec56-49ca-b9d0-571fe4440029",
   "metadata": {},
   "outputs": [],
   "source": [
    "a = 10\n",
    "k = str(a)"
   ]
  },
  {
   "cell_type": "code",
   "execution_count": 48,
   "id": "ae027a87-4cbd-47d5-a339-41121d50a34d",
   "metadata": {},
   "outputs": [
    {
     "name": "stdout",
     "output_type": "stream",
     "text": [
      "10\n"
     ]
    }
   ],
   "source": [
    "print(k)"
   ]
  },
  {
   "cell_type": "code",
   "execution_count": 52,
   "id": "44811567-5547-489c-a058-61610f2f9a02",
   "metadata": {},
   "outputs": [
    {
     "data": {
      "text/plain": [
       "str"
      ]
     },
     "execution_count": 52,
     "metadata": {},
     "output_type": "execute_result"
    }
   ],
   "source": [
    "type(k)"
   ]
  },
  {
   "cell_type": "code",
   "execution_count": 54,
   "id": "63088e67-49ac-4c78-9573-5a1ed32745e8",
   "metadata": {},
   "outputs": [],
   "source": [
    "k = int(\"10\")"
   ]
  },
  {
   "cell_type": "code",
   "execution_count": 56,
   "id": "a0756d79-17f8-4432-8b6a-af12b0502b14",
   "metadata": {},
   "outputs": [
    {
     "data": {
      "text/plain": [
       "10"
      ]
     },
     "execution_count": 56,
     "metadata": {},
     "output_type": "execute_result"
    }
   ],
   "source": [
    "k"
   ]
  },
  {
   "cell_type": "code",
   "execution_count": 58,
   "id": "0b271850-fb9e-423d-8ac9-a4eed92c7437",
   "metadata": {},
   "outputs": [
    {
     "data": {
      "text/plain": [
       "(10+0j)"
      ]
     },
     "execution_count": 58,
     "metadata": {},
     "output_type": "execute_result"
    }
   ],
   "source": [
    "k = complex(10)\n",
    "k"
   ]
  },
  {
   "cell_type": "code",
   "execution_count": 62,
   "id": "1222ed50-55ad-47fe-9a49-0939376a83a9",
   "metadata": {},
   "outputs": [
    {
     "data": {
      "text/plain": [
       "107"
      ]
     },
     "execution_count": 62,
     "metadata": {},
     "output_type": "execute_result"
    }
   ],
   "source": [
    "k = ord('k')\n",
    "k"
   ]
  },
  {
   "cell_type": "code",
   "execution_count": 66,
   "id": "99934070-d334-44dc-9006-c99e0acb3623",
   "metadata": {},
   "outputs": [
    {
     "name": "stdout",
     "output_type": "stream",
     "text": [
      "It is a integer\n"
     ]
    },
    {
     "data": {
      "text/plain": [
       "10"
      ]
     },
     "execution_count": 66,
     "metadata": {},
     "output_type": "execute_result"
    }
   ],
   "source": [
    "def type_caste(x):\n",
    "    if type(x) == int:\n",
    "        print(\"It is a integer\")\n",
    "    elif type(x) == float:\n",
    "        print(\"It is a Float\")\n",
    "    elif type(x) == complex:\n",
    "        print(\"It is a Complex\")\n",
    "    elif type(x) == str:\n",
    "        print(\"It is a string\")\n",
    "    else:\n",
    "        print(\"Invalid\")\n",
    "\n",
    "    return x\n",
    "type_caste(10)\n",
    "\n",
    "        "
   ]
  },
  {
   "cell_type": "code",
   "execution_count": 1,
   "id": "84fbee4b-87b8-461d-adec-0779e843da9a",
   "metadata": {},
   "outputs": [
    {
     "data": {
      "text/plain": [
       "2"
      ]
     },
     "execution_count": 1,
     "metadata": {},
     "output_type": "execute_result"
    }
   ],
   "source": [
    "5//2"
   ]
  },
  {
   "cell_type": "code",
   "execution_count": 3,
   "id": "3414d5e9-3c57-4ebe-8b26-a23969bd3ccc",
   "metadata": {},
   "outputs": [
    {
     "data": {
      "text/plain": [
       "2.5"
      ]
     },
     "execution_count": 3,
     "metadata": {},
     "output_type": "execute_result"
    }
   ],
   "source": [
    "5/2"
   ]
  },
  {
   "cell_type": "code",
   "execution_count": 5,
   "id": "85089c75-7366-43a6-af4e-72d02de095b3",
   "metadata": {},
   "outputs": [
    {
     "ename": "SyntaxError",
     "evalue": "cannot assign to expression here. Maybe you meant '==' instead of '='? (4118997887.py, line 1)",
     "output_type": "error",
     "traceback": [
      "\u001b[1;36m  Cell \u001b[1;32mIn[5], line 1\u001b[1;36m\u001b[0m\n\u001b[1;33m    sumit-sawant = 4\u001b[0m\n\u001b[1;37m    ^\u001b[0m\n\u001b[1;31mSyntaxError\u001b[0m\u001b[1;31m:\u001b[0m cannot assign to expression here. Maybe you meant '==' instead of '='?\n"
     ]
    }
   ],
   "source": [
    "sumit-sawant = 4"
   ]
  },
  {
   "cell_type": "code",
   "execution_count": 7,
   "id": "83350b99-e0df-4d77-86f2-79a11d6dfd7e",
   "metadata": {},
   "outputs": [],
   "source": [
    "Sumit = 5"
   ]
  },
  {
   "cell_type": "code",
   "execution_count": 9,
   "id": "0577dc79-6e81-4cd1-9a68-fd828567f1f9",
   "metadata": {},
   "outputs": [
    {
     "name": "stdout",
     "output_type": "stream",
     "text": [
      "False\n"
     ]
    }
   ],
   "source": [
    "#comparison operators\n",
    "a = 5 \n",
    "b = 7\n",
    "if a == b:\n",
    "    print(True)\n",
    "else:\n",
    "    print(False)\n",
    "    \n",
    "    "
   ]
  },
  {
   "cell_type": "code",
   "execution_count": 11,
   "id": "3f0dc3e1-8f3f-4198-a2f9-2fefabff470f",
   "metadata": {},
   "outputs": [
    {
     "name": "stdout",
     "output_type": "stream",
     "text": [
      "True\n"
     ]
    }
   ],
   "source": [
    "if a != b:\n",
    "    print(True)\n",
    "else:\n",
    "    print(False)\n",
    "    "
   ]
  },
  {
   "cell_type": "code",
   "execution_count": 13,
   "id": "e2a08132-3e95-4c81-be65-708e54c29a1f",
   "metadata": {},
   "outputs": [
    {
     "name": "stdout",
     "output_type": "stream",
     "text": [
      "False\n"
     ]
    }
   ],
   "source": [
    "if a > b:\n",
    "    print(True)\n",
    "else:\n",
    "    print(False)\n",
    "    "
   ]
  },
  {
   "cell_type": "code",
   "execution_count": 15,
   "id": "478d0dd3-e6e3-49f3-8f94-441ef1d4cd29",
   "metadata": {},
   "outputs": [
    {
     "name": "stdout",
     "output_type": "stream",
     "text": [
      "True\n"
     ]
    }
   ],
   "source": [
    "if a < b:\n",
    "    print(True)\n",
    "else:\n",
    "    print(False)\n",
    "    "
   ]
  },
  {
   "cell_type": "code",
   "execution_count": 19,
   "id": "824c3318-1b52-4227-af7d-ffd1d6cab84b",
   "metadata": {},
   "outputs": [
    {
     "name": "stdout",
     "output_type": "stream",
     "text": [
      "Present\n"
     ]
    }
   ],
   "source": [
    "vikas = [0,1,2,8,10]\n",
    "num = 2\n",
    "if num in vikas:\n",
    "    print(\"Present\")\n",
    "else:\n",
    "    print(\"Not present\")\n",
    "    \n",
    "    "
   ]
  },
  {
   "cell_type": "code",
   "execution_count": null,
   "id": "f687fa62-dbb0-43f3-8157-c329c91160d2",
   "metadata": {},
   "outputs": [],
   "source": [
    "\n",
    "def check_function(vikas):\n",
    "    if target in vikas:\n",
    "        print(\"it is present\")\n",
    "    else:\n",
    "        print(\" not present\")\n",
    "    return target\n",
    "check_function([0,1,2,8,10])\n",
    "target = int(input(\"Enter The Target :\"))\n",
    "\n"
   ]
  },
  {
   "cell_type": "code",
   "execution_count": null,
   "id": "34744e6f-fdf7-431b-979e-586b0765551f",
   "metadata": {},
   "outputs": [],
   "source": [
    "# diff between is and ==\n",
    "a = [1,2,3]\n",
    "b = [1,2,3]\n",
    "print(a==b)\n",
    "print(a is b)"
   ]
  },
  {
   "cell_type": "code",
   "execution_count": null,
   "id": "210fd81c-c385-419e-8c13-8c22a832bcbd",
   "metadata": {},
   "outputs": [],
   "source": [
    "x = None \n",
    "if x:\n",
    "    print(\"if x is none\")\n",
    "elif x is False:\n",
    "    print(\"if x is not none\")\n",
    "else:\n",
    "    print(\"None is not true not false\")\n",
    "    "
   ]
  },
  {
   "cell_type": "code",
   "execution_count": 1,
   "id": "975e4f2a-2db2-4349-a40a-417928b08711",
   "metadata": {},
   "outputs": [
    {
     "name": "stdout",
     "output_type": "stream",
     "text": [
      "True\n"
     ]
    }
   ],
   "source": [
    "a = 24\n",
    "b = 23\n",
    "c = a\n",
    "print(a is c)"
   ]
  },
  {
   "cell_type": "code",
   "execution_count": 5,
   "id": "e9155ef7-e4a7-4156-8734-c9ecb120a949",
   "metadata": {},
   "outputs": [
    {
     "name": "stdout",
     "output_type": "stream",
     "text": [
      "False\n"
     ]
    }
   ],
   "source": [
    "a = 1000\n",
    "b = 1000\n",
    "print(a is b)"
   ]
  },
  {
   "cell_type": "code",
   "execution_count": null,
   "id": "0c950e0b-e8b4-473f-91ce-f84873af56c5",
   "metadata": {},
   "outputs": [],
   "source": [
    "    "
   ]
  },
  {
   "cell_type": "code",
   "execution_count": null,
   "id": "79bfc570-ca40-4b36-a73d-85f8ba34ad0f",
   "metadata": {},
   "outputs": [],
   "source": []
  },
  {
   "cell_type": "code",
   "execution_count": null,
   "id": "be9ede04-6030-425d-b601-51fbc9608a1a",
   "metadata": {},
   "outputs": [],
   "source": []
  },
  {
   "cell_type": "code",
   "execution_count": null,
   "id": "401030d6-896b-4638-a419-09bca51f8b0b",
   "metadata": {},
   "outputs": [],
   "source": []
  },
  {
   "cell_type": "code",
   "execution_count": null,
   "id": "33752dd3-f074-4216-a5b5-fc52b4154a45",
   "metadata": {},
   "outputs": [],
   "source": []
  },
  {
   "cell_type": "code",
   "execution_count": null,
   "id": "902a8c95-c838-4940-9542-3f7a6f448351",
   "metadata": {},
   "outputs": [],
   "source": []
  },
  {
   "cell_type": "code",
   "execution_count": null,
   "id": "a2b1e67d-24ba-4053-86e7-5a89e6807aeb",
   "metadata": {},
   "outputs": [],
   "source": []
  },
  {
   "cell_type": "code",
   "execution_count": null,
   "id": "3477687a-7e5f-4f31-a606-64a2b71a3175",
   "metadata": {},
   "outputs": [],
   "source": []
  },
  {
   "cell_type": "code",
   "execution_count": 11,
   "id": "067b3923-aa67-4e11-8c36-9344b28edace",
   "metadata": {},
   "outputs": [
    {
     "name": "stdout",
     "output_type": "stream",
     "text": [
      "* * * * \n",
      "  * * * \n",
      "    * * \n",
      "      * \n"
     ]
    }
   ],
   "source": [
    "for i in range(1,5):\n",
    "    for j in range(1,5):\n",
    "        if j >= i:\n",
    "            print(\"*\",end = \" \")\n",
    "        else:\n",
    "            print(' ', end = ' ')\n",
    "    print()"
   ]
  },
  {
   "cell_type": "code",
   "execution_count": 13,
   "id": "c5e0466d-41d4-4e6b-8528-bd4b36fa1c4d",
   "metadata": {},
   "outputs": [
    {
     "name": "stdout",
     "output_type": "stream",
     "text": [
      "(1, 2, 3)\n",
      "(1, 2, 4)\n",
      "(1, 2, 5)\n",
      "(1, 2, 6)\n",
      "(1, 2, 7)\n",
      "(1, 3, 2)\n",
      "(1, 3, 4)\n",
      "(1, 3, 5)\n",
      "(1, 3, 6)\n",
      "(1, 3, 7)\n",
      "(1, 4, 2)\n",
      "(1, 4, 3)\n",
      "(1, 4, 5)\n",
      "(1, 4, 6)\n",
      "(1, 4, 7)\n",
      "(1, 5, 2)\n",
      "(1, 5, 3)\n",
      "(1, 5, 4)\n",
      "(1, 5, 6)\n",
      "(1, 5, 7)\n",
      "(1, 6, 2)\n",
      "(1, 6, 3)\n",
      "(1, 6, 4)\n",
      "(1, 6, 5)\n",
      "(1, 6, 7)\n",
      "(1, 7, 2)\n",
      "(1, 7, 3)\n",
      "(1, 7, 4)\n",
      "(1, 7, 5)\n",
      "(1, 7, 6)\n",
      "(2, 1, 3)\n",
      "(2, 1, 4)\n",
      "(2, 1, 5)\n",
      "(2, 1, 6)\n",
      "(2, 1, 7)\n",
      "(2, 3, 1)\n",
      "(2, 3, 4)\n",
      "(2, 3, 5)\n",
      "(2, 3, 6)\n",
      "(2, 3, 7)\n",
      "(2, 4, 1)\n",
      "(2, 4, 3)\n",
      "(2, 4, 5)\n",
      "(2, 4, 6)\n",
      "(2, 4, 7)\n",
      "(2, 5, 1)\n",
      "(2, 5, 3)\n",
      "(2, 5, 4)\n",
      "(2, 5, 6)\n",
      "(2, 5, 7)\n",
      "(2, 6, 1)\n",
      "(2, 6, 3)\n",
      "(2, 6, 4)\n",
      "(2, 6, 5)\n",
      "(2, 6, 7)\n",
      "(2, 7, 1)\n",
      "(2, 7, 3)\n",
      "(2, 7, 4)\n",
      "(2, 7, 5)\n",
      "(2, 7, 6)\n",
      "(3, 1, 2)\n",
      "(3, 1, 4)\n",
      "(3, 1, 5)\n",
      "(3, 1, 6)\n",
      "(3, 1, 7)\n",
      "(3, 2, 1)\n",
      "(3, 2, 4)\n",
      "(3, 2, 5)\n",
      "(3, 2, 6)\n",
      "(3, 2, 7)\n",
      "(3, 4, 1)\n",
      "(3, 4, 2)\n",
      "(3, 4, 5)\n",
      "(3, 4, 6)\n",
      "(3, 4, 7)\n",
      "(3, 5, 1)\n",
      "(3, 5, 2)\n",
      "(3, 5, 4)\n",
      "(3, 5, 6)\n",
      "(3, 5, 7)\n",
      "(3, 6, 1)\n",
      "(3, 6, 2)\n",
      "(3, 6, 4)\n",
      "(3, 6, 5)\n",
      "(3, 6, 7)\n",
      "(3, 7, 1)\n",
      "(3, 7, 2)\n",
      "(3, 7, 4)\n",
      "(3, 7, 5)\n",
      "(3, 7, 6)\n",
      "(4, 1, 2)\n",
      "(4, 1, 3)\n",
      "(4, 1, 5)\n",
      "(4, 1, 6)\n",
      "(4, 1, 7)\n",
      "(4, 2, 1)\n",
      "(4, 2, 3)\n",
      "(4, 2, 5)\n",
      "(4, 2, 6)\n",
      "(4, 2, 7)\n",
      "(4, 3, 1)\n",
      "(4, 3, 2)\n",
      "(4, 3, 5)\n",
      "(4, 3, 6)\n",
      "(4, 3, 7)\n",
      "(4, 5, 1)\n",
      "(4, 5, 2)\n",
      "(4, 5, 3)\n",
      "(4, 5, 6)\n",
      "(4, 5, 7)\n",
      "(4, 6, 1)\n",
      "(4, 6, 2)\n",
      "(4, 6, 3)\n",
      "(4, 6, 5)\n",
      "(4, 6, 7)\n",
      "(4, 7, 1)\n",
      "(4, 7, 2)\n",
      "(4, 7, 3)\n",
      "(4, 7, 5)\n",
      "(4, 7, 6)\n",
      "(5, 1, 2)\n",
      "(5, 1, 3)\n",
      "(5, 1, 4)\n",
      "(5, 1, 6)\n",
      "(5, 1, 7)\n",
      "(5, 2, 1)\n",
      "(5, 2, 3)\n",
      "(5, 2, 4)\n",
      "(5, 2, 6)\n",
      "(5, 2, 7)\n",
      "(5, 3, 1)\n",
      "(5, 3, 2)\n",
      "(5, 3, 4)\n",
      "(5, 3, 6)\n",
      "(5, 3, 7)\n",
      "(5, 4, 1)\n",
      "(5, 4, 2)\n",
      "(5, 4, 3)\n",
      "(5, 4, 6)\n",
      "(5, 4, 7)\n",
      "(5, 6, 1)\n",
      "(5, 6, 2)\n",
      "(5, 6, 3)\n",
      "(5, 6, 4)\n",
      "(5, 6, 7)\n",
      "(5, 7, 1)\n",
      "(5, 7, 2)\n",
      "(5, 7, 3)\n",
      "(5, 7, 4)\n",
      "(5, 7, 6)\n",
      "(6, 1, 2)\n",
      "(6, 1, 3)\n",
      "(6, 1, 4)\n",
      "(6, 1, 5)\n",
      "(6, 1, 7)\n",
      "(6, 2, 1)\n",
      "(6, 2, 3)\n",
      "(6, 2, 4)\n",
      "(6, 2, 5)\n",
      "(6, 2, 7)\n",
      "(6, 3, 1)\n",
      "(6, 3, 2)\n",
      "(6, 3, 4)\n",
      "(6, 3, 5)\n",
      "(6, 3, 7)\n",
      "(6, 4, 1)\n",
      "(6, 4, 2)\n",
      "(6, 4, 3)\n",
      "(6, 4, 5)\n",
      "(6, 4, 7)\n",
      "(6, 5, 1)\n",
      "(6, 5, 2)\n",
      "(6, 5, 3)\n",
      "(6, 5, 4)\n",
      "(6, 5, 7)\n",
      "(6, 7, 1)\n",
      "(6, 7, 2)\n",
      "(6, 7, 3)\n",
      "(6, 7, 4)\n",
      "(6, 7, 5)\n",
      "(7, 1, 2)\n",
      "(7, 1, 3)\n",
      "(7, 1, 4)\n",
      "(7, 1, 5)\n",
      "(7, 1, 6)\n",
      "(7, 2, 1)\n",
      "(7, 2, 3)\n",
      "(7, 2, 4)\n",
      "(7, 2, 5)\n",
      "(7, 2, 6)\n",
      "(7, 3, 1)\n",
      "(7, 3, 2)\n",
      "(7, 3, 4)\n",
      "(7, 3, 5)\n",
      "(7, 3, 6)\n",
      "(7, 4, 1)\n",
      "(7, 4, 2)\n",
      "(7, 4, 3)\n",
      "(7, 4, 5)\n",
      "(7, 4, 6)\n",
      "(7, 5, 1)\n",
      "(7, 5, 2)\n",
      "(7, 5, 3)\n",
      "(7, 5, 4)\n",
      "(7, 5, 6)\n",
      "(7, 6, 1)\n",
      "(7, 6, 2)\n",
      "(7, 6, 3)\n",
      "(7, 6, 4)\n",
      "(7, 6, 5)\n"
     ]
    }
   ],
   "source": [
    "import itertools\n",
    "perms = itertools.permutations([1,2,3,4,5,6,7], 3)\n",
    "for perm in perms:\n",
    "    print(perm)"
   ]
  },
  {
   "cell_type": "code",
   "execution_count": 1,
   "id": "cf090c1a-7e89-4889-acd2-7de70c0a77fd",
   "metadata": {},
   "outputs": [],
   "source": [
    "string = \"WELCOMETOTHEPYTHONWORLD\"\n"
   ]
  },
  {
   "cell_type": "code",
   "execution_count": 11,
   "id": "16117527-250e-42d8-aff1-5b83e420575c",
   "metadata": {},
   "outputs": [
    {
     "data": {
      "text/plain": [
       "'NWORLD'"
      ]
     },
     "execution_count": 11,
     "metadata": {},
     "output_type": "execute_result"
    }
   ],
   "source": [
    "string[-6:]"
   ]
  },
  {
   "cell_type": "code",
   "execution_count": 17,
   "id": "011184ec-6354-4b28-b437-8e6a2654044c",
   "metadata": {},
   "outputs": [
    {
     "data": {
      "text/plain": [
       "23"
      ]
     },
     "execution_count": 17,
     "metadata": {},
     "output_type": "execute_result"
    }
   ],
   "source": [
    "string[::-1]\n",
    "len(string)"
   ]
  },
  {
   "cell_type": "code",
   "execution_count": 23,
   "id": "aecdbba1-19ec-4cb2-9b69-d430316d7a73",
   "metadata": {},
   "outputs": [
    {
     "data": {
      "text/plain": [
       "'WLOEOHPTOWRD'"
      ]
     },
     "execution_count": 23,
     "metadata": {},
     "output_type": "execute_result"
    }
   ],
   "source": [
    "string[:23:2] "
   ]
  },
  {
   "cell_type": "code",
   "execution_count": 29,
   "id": "eb61de82-8dce-4f62-9006-463e7e772435",
   "metadata": {},
   "outputs": [
    {
     "data": {
      "text/plain": [
       "'2010'"
      ]
     },
     "execution_count": 29,
     "metadata": {},
     "output_type": "execute_result"
    }
   ],
   "source": [
    "my_string = \"In 2010, someone paid 10k Bitcoin for two pizzas.\"\n",
    "my_string[3:7]"
   ]
  },
  {
   "cell_type": "code",
   "execution_count": 31,
   "id": "78188878-9fbc-45cb-b453-1e99bc508923",
   "metadata": {},
   "outputs": [
    {
     "data": {
      "text/plain": [
       "'DLROWNOHTYPEHTOTEMOCLEW'"
      ]
     },
     "execution_count": 31,
     "metadata": {},
     "output_type": "execute_result"
    }
   ],
   "source": [
    "string[::-1]"
   ]
  },
  {
   "cell_type": "code",
   "execution_count": 33,
   "id": "c1aa03ac-a6f2-48eb-a992-b1788b9cbfac",
   "metadata": {},
   "outputs": [
    {
     "data": {
      "text/plain": [
       "'.sazzip owt rof nioctiB k01 diap enoemos ,0102 nI'"
      ]
     },
     "execution_count": 33,
     "metadata": {},
     "output_type": "execute_result"
    }
   ],
   "source": [
    "my_string[::-1]"
   ]
  },
  {
   "cell_type": "code",
   "execution_count": 35,
   "id": "14e5f3ed-f444-4eb6-a130-dad4fb9d54c0",
   "metadata": {},
   "outputs": [
    {
     "data": {
      "text/plain": [
       "49"
      ]
     },
     "execution_count": 35,
     "metadata": {},
     "output_type": "execute_result"
    }
   ],
   "source": [
    "len(my_string)\n"
   ]
  },
  {
   "cell_type": "code",
   "execution_count": 39,
   "id": "bc3388a6-a878-4cb5-9a14-6b59a3082695",
   "metadata": {},
   "outputs": [
    {
     "data": {
      "text/plain": [
       "''"
      ]
     },
     "execution_count": 39,
     "metadata": {},
     "output_type": "execute_result"
    }
   ],
   "source": [
    "my_string[:50:-1]"
   ]
  },
  {
   "cell_type": "code",
   "execution_count": 45,
   "id": "7985a00d-9496-48a4-aa55-04252b3042bc",
   "metadata": {},
   "outputs": [
    {
     "data": {
      "text/plain": [
       "'2010'"
      ]
     },
     "execution_count": 45,
     "metadata": {},
     "output_type": "execute_result"
    }
   ],
   "source": [
    "my_string[-46:-42]"
   ]
  },
  {
   "cell_type": "code",
   "execution_count": 3,
   "id": "9865c602-d858-4805-af6a-ca59e5e7080f",
   "metadata": {},
   "outputs": [
    {
     "name": "stdin",
     "output_type": "stream",
     "text": [
      "Enter string: aba\n"
     ]
    },
    {
     "name": "stdout",
     "output_type": "stream",
     "text": [
      "It's a palindrome\n"
     ]
    }
   ],
   "source": [
    "#Palindrome \n",
    "a = input(\"Enter string:\")\n",
    "if a[::-1] == a:\n",
    "    print(\"It's a palindrome\")\n",
    "else:\n",
    "    print(\"It's not a palindrome\")\n",
    "\n",
    "\n"
   ]
  },
  {
   "cell_type": "code",
   "execution_count": 23,
   "id": "28b41a8c-5b5e-4279-90c8-ad196b6ad362",
   "metadata": {},
   "outputs": [
    {
     "name": "stdout",
     "output_type": "stream",
     "text": [
      "IN 2010, SOMEONE PAID 10K BITCOIN FOR TWO PIZZAS.\n",
      "in 2010, someone paid 10k bitcoin for two pizzas.\n",
      "In 2010, someone paid 10k Bitcoin for two pizzas.\n",
      "['In', '2010,', 'someone', 'paid', '10k', 'Bitcoin', 'for', 'two', 'pizzas.']\n",
      "In 2024, someone paid 10k Bitcoin for two pizzas.\n"
     ]
    }
   ],
   "source": [
    "my_string = \"In 2010, someone paid 10k Bitcoin for two pizzas.\"\n",
    "print(my_string.upper())\n",
    "print(my_string.lower())\n",
    "print(my_string.strip())\n",
    "print(my_string.split())\n",
    "print(my_string.replace(\"2010\",\"2024\"))"
   ]
  },
  {
   "cell_type": "code",
   "execution_count": 3,
   "id": "751b5c7b-33fd-4961-b93a-06cddc29ff3e",
   "metadata": {},
   "outputs": [
    {
     "name": "stdout",
     "output_type": "stream",
     "text": [
      "hello world\n",
      "hello\n"
     ]
    }
   ],
   "source": [
    "a = \"hello\"\n",
    "b = a\n",
    "a = a + \" world\"\n",
    "print(a)\n",
    "print(b)\n"
   ]
  },
  {
   "cell_type": "code",
   "execution_count": 5,
   "id": "947527aa-1021-47b4-a696-55f2f9f58265",
   "metadata": {},
   "outputs": [
    {
     "ename": "TypeError",
     "evalue": "'str' object does not support item assignment",
     "output_type": "error",
     "traceback": [
      "\u001b[1;31m---------------------------------------------------------------------------\u001b[0m",
      "\u001b[1;31mTypeError\u001b[0m                                 Traceback (most recent call last)",
      "Cell \u001b[1;32mIn[5], line 2\u001b[0m\n\u001b[0;32m      1\u001b[0m a \u001b[38;5;241m=\u001b[39m \u001b[38;5;124m\"\u001b[39m\u001b[38;5;124mabc\u001b[39m\u001b[38;5;124m\"\u001b[39m\n\u001b[1;32m----> 2\u001b[0m a[\u001b[38;5;241m0\u001b[39m] \u001b[38;5;241m=\u001b[39m \u001b[38;5;124m'\u001b[39m\u001b[38;5;124mq\u001b[39m\u001b[38;5;124m'\u001b[39m\n\u001b[0;32m      3\u001b[0m \u001b[38;5;28mprint\u001b[39m(a)\n",
      "\u001b[1;31mTypeError\u001b[0m: 'str' object does not support item assignment"
     ]
    }
   ],
   "source": [
    "a = \"abc\"\n",
    "a[0] = 'q'\n",
    "print(a)"
   ]
  },
  {
   "cell_type": "code",
   "execution_count": null,
   "id": "fd369d18-e1a2-4982-816a-db79724a4636",
   "metadata": {},
   "outputs": [],
   "source": [
    "Q - Main string : ABCDCDC\n",
    "  Substring : CDC\n",
    "print count of substring\n"
   ]
  },
  {
   "cell_type": "code",
   "execution_count": 11,
   "id": "597dc913-0298-4b89-9655-b5acb721f049",
   "metadata": {},
   "outputs": [
    {
     "name": "stdout",
     "output_type": "stream",
     "text": [
      "2\n"
     ]
    }
   ],
   "source": [
    "Main_string = \"ABCDCDC\"\n",
    "Substring = \"CDC\"\n",
    "len_sub = len(Substring)\n",
    "count = 0\n",
    "for i in range(len(Main_string)):\n",
    "    if Main_string[i:len_sub + i] == Substring:\n",
    "        count += 1\n",
    "    else:\n",
    "        continue\n",
    "print(count)\n"
   ]
  },
  {
   "cell_type": "code",
   "execution_count": null,
   "id": "28e1d501-8212-4818-8e08-ad81fb42137a",
   "metadata": {},
   "outputs": [],
   "source": [
    "check if  string contains alpha numeric character or not"
   ]
  },
  {
   "cell_type": "code",
   "execution_count": 19,
   "id": "0d103ab8-ae32-4f7b-93a2-b470b2900e79",
   "metadata": {},
   "outputs": [
    {
     "name": "stdout",
     "output_type": "stream",
     "text": [
      "True\n"
     ]
    }
   ],
   "source": [
    "Given_string = \"Ruddhi24@\"\n",
    "if Given_string.isalpha() and Given_string.isnum():\n",
    "    print(False)\n",
    "else:\n",
    "    print(True)"
   ]
  },
  {
   "cell_type": "code",
   "execution_count": 25,
   "id": "73107d54-a8f3-4857-8962-fd4c75587df7",
   "metadata": {},
   "outputs": [
    {
     "name": "stdout",
     "output_type": "stream",
     "text": [
      "IS ALPHA NUMERIC\n",
      "IS ALPHA NUMERIC\n",
      "IS ALPHA NUMERIC\n",
      "IS ALPHA NUMERIC\n",
      "IS ALPHA NUMERIC\n",
      "IS ALPHA NUMERIC\n",
      "IS ALPHA NUMERIC\n",
      "IS ALPHA NUMERIC\n",
      "IS NOT\n",
      "IS NOT\n"
     ]
    }
   ],
   "source": [
    "s = \"Ruddhi24@#\"\n",
    "for char in s:\n",
    "    if char.isalnum():\n",
    "        print(\"IS ALPHA NUMERIC\")\n",
    "    else:\n",
    "        print(\"IS NOT\")\n",
    "\n",
    "\n",
    "\n"
   ]
  },
  {
   "cell_type": "code",
   "execution_count": 27,
   "id": "59b060b3-7deb-449f-b3db-e0ae1cb2a4a2",
   "metadata": {},
   "outputs": [
    {
     "name": "stdout",
     "output_type": "stream",
     "text": [
      "IS NOT\n"
     ]
    }
   ],
   "source": [
    "s = \"Ruddhi24@#\"\n",
    "\n",
    "if s.isalnum():\n",
    "    print(\"IS ALPHA NUMERIC\")\n",
    "else:\n",
    "    print(\"IS NOT\")\n"
   ]
  },
  {
   "cell_type": "code",
   "execution_count": 33,
   "id": "d1125a65-811d-44ce-b82d-d819e39cb8c4",
   "metadata": {},
   "outputs": [
    {
     "name": "stdout",
     "output_type": "stream",
     "text": [
      "True\n",
      "False\n",
      "True\n"
     ]
    }
   ],
   "source": [
    "# important\n",
    "def contains_alphanumeric(s):\n",
    "    # Check if there is at least one alphabetic or numeric character\n",
    "    return any(char.isalnum() for char in s)\n",
    "print(contains_alphanumeric(\"hello123\"))\n",
    "print(contains_alphanumeric(\"@#$\"))\n",
    "print(contains_alphanumeric(\"loki\"))"
   ]
  },
  {
   "cell_type": "code",
   "execution_count": null,
   "id": "db975df2-d079-4e0e-b784-66959c060a37",
   "metadata": {},
   "outputs": [],
   "source": [
    "any(char.isalnum() for char in s)\n",
    "any(char.isdigit() for char in s)\n",
    "any(char.lower() for char in s)\n",
    "any(char.upper() for char in s)"
   ]
  },
  {
   "cell_type": "code",
   "execution_count": 35,
   "id": "92e68e02-002a-4834-9e9e-3adf7343f9a7",
   "metadata": {},
   "outputs": [
    {
     "name": "stdout",
     "output_type": "stream",
     "text": [
      "<generator object contains_alphanumeric.<locals>.<genexpr> at 0x000002CB753D2E90>\n",
      "<generator object contains_alphanumeric.<locals>.<genexpr> at 0x000002CB753D2E90>\n",
      "<generator object contains_alphanumeric.<locals>.<genexpr> at 0x000002CB753D2E90>\n"
     ]
    }
   ],
   "source": [
    "def contains_alphanumeric(s):\n",
    "    # Check if there is at least one alphabetic or numeric character\n",
    "    return (char.isalnum() and char.isdigit() for char in s )\n",
    "print(contains_alphanumeric(\"hello123\"))\n",
    "print(contains_alphanumeric(\"@#$\"))\n",
    "print(contains_alphanumeric(\"loki\"))"
   ]
  },
  {
   "cell_type": "code",
   "execution_count": 45,
   "id": "fadc28c5-f4f0-49b2-a56c-2f6d7d715cac",
   "metadata": {},
   "outputs": [
    {
     "name": "stdout",
     "output_type": "stream",
     "text": [
      "False\n",
      "False\n"
     ]
    }
   ],
   "source": [
    "def check_str(s):\n",
    "    if s.isalpha() and s.isdigit():\n",
    "        return True\n",
    "    else:  \n",
    "        return False\n",
    "print(check_str(\"hello123\"))\n",
    "print(check_str(\"loki\"))"
   ]
  },
  {
   "cell_type": "code",
   "execution_count": 64,
   "id": "ea100467-7ada-46c1-a1a4-e949c0145388",
   "metadata": {},
   "outputs": [],
   "source": [
    "def check_str(string):\n",
    "    s='~!@#$%^&*()'\n",
    "    if i in s:\n",
    "        print(\"Not Alphanumeric\")\n",
    "    else:\n",
    "        print(\"Alphanumeric\")\n",
    "    return check_str(\"Ruddhi$24\")\n",
    "    \n"
   ]
  },
  {
   "cell_type": "code",
   "execution_count": 68,
   "id": "4e1e4d85-202a-4468-a373-9e7f7c6a1442",
   "metadata": {},
   "outputs": [
    {
     "name": "stdout",
     "output_type": "stream",
     "text": [
      "Alphanumeric\n",
      "Alphanumeric\n",
      "Alphanumeric\n",
      "Alphanumeric\n",
      "Alphanumeric\n",
      "Alphanumeric\n",
      "Not Alphanumeric\n"
     ]
    }
   ],
   "source": [
    "def check_str(string):\n",
    "    special_chars = '~!@#$%^&*()_+{}|:\"<>?/-=[];,.'\n",
    "    for char in string:\n",
    "        if char in special_chars:\n",
    "            continue\n",
    "        print\n",
    "            return \n",
    "        print(\"Alphanumeric\")\n",
    "check_str(\"Ruddhi$24\")\n"
   ]
  },
  {
   "cell_type": "code",
   "execution_count": 74,
   "id": "164e39bf-4a33-4269-9a20-4e59a6cf5e32",
   "metadata": {},
   "outputs": [
    {
     "name": "stdout",
     "output_type": "stream",
     "text": [
      "Alphanumeric\n",
      "Not Alphanumeric\n",
      "Alphanumeric\n",
      "Not Alphanumeric\n",
      "Not Alphanumeric\n"
     ]
    }
   ],
   "source": [
    "def check_str(string):\n",
    "    special_chars = '~!@#$%^&*()_+{}|:\"<>?/-=[];,. '\n",
    "    for char in string:\n",
    "        if char in special_chars:\n",
    "            print(\"Not Alphanumeric\")\n",
    "            return\n",
    "    print(\"Alphanumeric\")\n",
    "\n",
    "\n",
    "check_str(\"Ruddhi24\") \n",
    "check_str(\"Ruddhi$24\") \n",
    "check_str(\"12345\")     \n",
    "check_str(\"hello!\")      \n",
    "check_str(\"hello world\") \n"
   ]
  },
  {
   "cell_type": "code",
   "execution_count": null,
   "id": "69a0f51b-8a38-48ac-9331-631471b5effc",
   "metadata": {},
   "outputs": [],
   "source": [
    "import re\n",
    "p = [A-Z a-z 0-9]\n",
    "findall"
   ]
  },
  {
   "cell_type": "code",
   "execution_count": 3,
   "id": "47ed424b-c695-459f-8435-abcb10a30e80",
   "metadata": {},
   "outputs": [
    {
     "data": {
      "text/plain": [
       "[1, 5, 3, 4, 5]"
      ]
     },
     "execution_count": 3,
     "metadata": {},
     "output_type": "execute_result"
    }
   ],
   "source": [
    "li = [1,2,3,4]\n",
    "li.append(5)\n",
    "li[1] = 5\n",
    "li"
   ]
  },
  {
   "cell_type": "code",
   "execution_count": 17,
   "id": "71c99ff7-eb9a-4c1a-aa66-0784b9162cd6",
   "metadata": {},
   "outputs": [
    {
     "ename": "IndexError",
     "evalue": "list index out of range",
     "output_type": "error",
     "traceback": [
      "\u001b[1;31m---------------------------------------------------------------------------\u001b[0m",
      "\u001b[1;31mIndexError\u001b[0m                                Traceback (most recent call last)",
      "Cell \u001b[1;32mIn[17], line 5\u001b[0m\n\u001b[0;32m      3\u001b[0m sorted_li \u001b[38;5;241m=\u001b[39m []\n\u001b[0;32m      4\u001b[0m \u001b[38;5;28;01mfor\u001b[39;00m i \u001b[38;5;129;01min\u001b[39;00m \u001b[38;5;28mrange\u001b[39m(\u001b[38;5;28mlen\u001b[39m(li)):\n\u001b[1;32m----> 5\u001b[0m     \u001b[38;5;28;01mif\u001b[39;00m li[i\u001b[38;5;241m+\u001b[39mi] \u001b[38;5;241m>\u001b[39m\u001b[38;5;241m=\u001b[39m li[i\u001b[38;5;241m+\u001b[39m\u001b[38;5;241m1\u001b[39m]:\n\u001b[0;32m      6\u001b[0m         sorted_li\u001b[38;5;241m.\u001b[39mappend(li[i])\n\u001b[0;32m      7\u001b[0m     \u001b[38;5;28;01melse\u001b[39;00m:\n",
      "\u001b[1;31mIndexError\u001b[0m: list index out of range"
     ]
    }
   ],
   "source": [
    "#sort the list without sorted keyword\n",
    "li = [2,6,7,8,1,3,2]\n",
    "sorted_li = []\n",
    "for i in range(len(li)):\n",
    "    if li[i+i] >= li[i+1]:\n",
    "        sorted_li.append(li[i])\n",
    "    else:\n",
    "        sorted_li.append(li[i+1])\n"
   ]
  },
  {
   "cell_type": "code",
   "execution_count": null,
   "id": "5539453b-1c10-4ba3-a94b-9ad16dff6fdd",
   "metadata": {},
   "outputs": [],
   "source": [
    "#sort the list without sorted keyword\n",
    "li = [2,6,7,8,1,3,2]\n",
    "sorted_li = []\n",
    "for i in range(len(li)):\n",
    "    for j in range(i+1,len(li)):\n",
    "        if li[i] <= li[j]:\n",
    "            sorted_li.append(li["
   ]
  },
  {
   "cell_type": "code",
   "execution_count": 23,
   "id": "3b1de1b9-a453-4dca-a8a1-95e41aabe44c",
   "metadata": {},
   "outputs": [
    {
     "name": "stdout",
     "output_type": "stream",
     "text": [
      "[1, 2, 2, 3, 6, 7, 8]\n"
     ]
    }
   ],
   "source": [
    "li = [2,6,7,8,1,3,2]\n",
    "\n",
    "for i in range(len(li)):\n",
    "    for j in range(i+1,len(li)):\n",
    "        if li[i] >= li[j]:\n",
    "            li[i],li[j] = li[j],li[i]\n",
    "print(li)"
   ]
  },
  {
   "cell_type": "code",
   "execution_count": 49,
   "id": "eb94dfaa-b7b7-4fcd-b9a1-968dcb0c5084",
   "metadata": {},
   "outputs": [
    {
     "name": "stdout",
     "output_type": "stream",
     "text": [
      "*\n",
      "**\n",
      "***\n",
      "****\n",
      "*****\n"
     ]
    },
    {
     "data": {
      "text/plain": [
       "[None, None, None, None, None]"
      ]
     },
     "execution_count": 49,
     "metadata": {},
     "output_type": "execute_result"
    }
   ],
   "source": [
    "li = [ print(\"*\" * i) for i in range(1,6) ]\n",
    "li"
   ]
  },
  {
   "cell_type": "code",
   "execution_count": 59,
   "id": "cf801377-20c2-4a0c-ac5e-1dc7061ad7fa",
   "metadata": {},
   "outputs": [
    {
     "name": "stdout",
     "output_type": "stream",
     "text": [
      "[2, 3, 7]\n"
     ]
    }
   ],
   "source": [
    "li= [2,3,7,8,9,4]\n",
    "k = len(li)\n",
    "print(li[0:k//2])"
   ]
  },
  {
   "cell_type": "code",
   "execution_count": 61,
   "id": "62ee8b5b-7359-4722-af30-f5c288d078ca",
   "metadata": {},
   "outputs": [
    {
     "name": "stdout",
     "output_type": "stream",
     "text": [
      "2\n"
     ]
    }
   ],
   "source": [
    "nested_list = [[1,2],[3,4],[9,0]]\n",
    "print(nested_list[0][1])"
   ]
  },
  {
   "cell_type": "code",
   "execution_count": 69,
   "id": "66165b21-c82a-4710-aaeb-5b946041f2a0",
   "metadata": {},
   "outputs": [
    {
     "name": "stdout",
     "output_type": "stream",
     "text": [
      "[4, 10, 18]\n"
     ]
    }
   ],
   "source": [
    "#task:- Given two matrices A and B, calculate the product matrix C = A * B.\n",
    "#Matrix multiplication requires that the number of columns in matrix A is equal to the number of rows in matrix B\n",
    "A = [1,2,3]\n",
    "B = [4,5,6]\n",
    "C = []\n",
    "if len(A) == len(B):\n",
    "    for i in range(len(A)):\n",
    "        C.append(A[i] * B[i])\n",
    "print(C)"
   ]
  },
  {
   "cell_type": "code",
   "execution_count": 83,
   "id": "9c801028-9169-4bd5-824a-0edfcf14faf8",
   "metadata": {},
   "outputs": [
    {
     "ename": "TypeError",
     "evalue": "can't multiply sequence by non-int of type 'list'",
     "output_type": "error",
     "traceback": [
      "\u001b[1;31m---------------------------------------------------------------------------\u001b[0m",
      "\u001b[1;31mTypeError\u001b[0m                                 Traceback (most recent call last)",
      "Cell \u001b[1;32mIn[83], line 3\u001b[0m\n\u001b[0;32m      1\u001b[0m A \u001b[38;5;241m=\u001b[39m [[\u001b[38;5;241m1\u001b[39m, \u001b[38;5;241m2\u001b[39m, \u001b[38;5;241m3\u001b[39m, \u001b[38;5;241m4\u001b[39m], [\u001b[38;5;241m5\u001b[39m, \u001b[38;5;241m6\u001b[39m, \u001b[38;5;241m7\u001b[39m, \u001b[38;5;241m8\u001b[39m], [\u001b[38;5;241m9\u001b[39m, \u001b[38;5;241m10\u001b[39m, \u001b[38;5;241m11\u001b[39m, \u001b[38;5;241m12\u001b[39m], [\u001b[38;5;241m13\u001b[39m, \u001b[38;5;241m14\u001b[39m, \u001b[38;5;241m15\u001b[39m, \u001b[38;5;241m16\u001b[39m]]\n\u001b[0;32m      2\u001b[0m B \u001b[38;5;241m=\u001b[39m [[\u001b[38;5;241m16\u001b[39m, \u001b[38;5;241m15\u001b[39m, \u001b[38;5;241m14\u001b[39m, \u001b[38;5;241m13\u001b[39m], [\u001b[38;5;241m12\u001b[39m, \u001b[38;5;241m11\u001b[39m, \u001b[38;5;241m10\u001b[39m, \u001b[38;5;241m9\u001b[39m], [\u001b[38;5;241m8\u001b[39m, \u001b[38;5;241m7\u001b[39m, \u001b[38;5;241m6\u001b[39m, \u001b[38;5;241m5\u001b[39m], [\u001b[38;5;241m4\u001b[39m, \u001b[38;5;241m3\u001b[39m, \u001b[38;5;241m2\u001b[39m, \u001b[38;5;241m1\u001b[39m]]\n\u001b[1;32m----> 3\u001b[0m C \u001b[38;5;241m=\u001b[39m [ A[i] \u001b[38;5;241m*\u001b[39m B[i] \u001b[38;5;28;01mif\u001b[39;00m \u001b[38;5;28mlen\u001b[39m(A) \u001b[38;5;241m==\u001b[39m \u001b[38;5;28mlen\u001b[39m(B) \u001b[38;5;28;01melse\u001b[39;00m \u001b[38;5;124m\"\u001b[39m\u001b[38;5;124mCan\u001b[39m\u001b[38;5;124m'\u001b[39m\u001b[38;5;124mt Multipy\u001b[39m\u001b[38;5;124m\"\u001b[39m \u001b[38;5;28;01mfor\u001b[39;00m i \u001b[38;5;129;01min\u001b[39;00m \u001b[38;5;28mrange\u001b[39m(\u001b[38;5;28mlen\u001b[39m(A)) ]\n\u001b[0;32m      4\u001b[0m \u001b[38;5;28mprint\u001b[39m(C)\n",
      "\u001b[1;31mTypeError\u001b[0m: can't multiply sequence by non-int of type 'list'"
     ]
    }
   ],
   "source": [
    "A = [[1, 2, 3, 4], [5, 6, 7, 8], [9, 10, 11, 12], [13, 14, 15, 16]]\n",
    "B = [[16, 15, 14, 13], [12, 11, 10, 9], [8, 7, 6, 5], [4, 3, 2, 1]]\n",
    "C = [ A[i] * B[i] if len(A) == len(B) else \"Can't Multipy\" for i in range(len(A)) ]\n",
    "print(C)"
   ]
  },
  {
   "cell_type": "code",
   "execution_count": 85,
   "id": "2ac49c96-6f8b-4de2-8fef-2926413216ed",
   "metadata": {},
   "outputs": [
    {
     "name": "stdout",
     "output_type": "stream",
     "text": [
      "Matrix C:\n",
      "[80, 70, 60, 50]\n",
      "[240, 214, 188, 162]\n",
      "[400, 358, 316, 274]\n",
      "[560, 502, 444, 386]\n"
     ]
    }
   ],
   "source": [
    "m = len(A)\n",
    "n = len(A[0])\n",
    "p = len(B[0])  \n",
    "C = [[0] * p for _ in range(m)]\n",
    "for i in range(m): \n",
    "    for j in range(p):\n",
    "        for k in range(n):\n",
    "            C[i][j] += A[i][k] * B[k][j]\n",
    "print(\"Matrix C:\")\n",
    "for row in C:\n",
    "    print(row)"
   ]
  },
  {
   "cell_type": "code",
   "execution_count": 1,
   "id": "c91b7228-10f2-4439-b85a-4868c26affef",
   "metadata": {},
   "outputs": [
    {
     "data": {
      "text/plain": [
       "'Ru'"
      ]
     },
     "execution_count": 1,
     "metadata": {},
     "output_type": "execute_result"
    }
   ],
   "source": [
    "r = \"Ruddhi\"\n",
    "r[0:2]"
   ]
  },
  {
   "cell_type": "code",
   "execution_count": 9,
   "id": "e5dd7fe3-77ef-4d4f-82c1-ff9e5c523ccf",
   "metadata": {},
   "outputs": [
    {
     "data": {
      "text/plain": [
       "['Ruddhi']"
      ]
     },
     "execution_count": 9,
     "metadata": {},
     "output_type": "execute_result"
    }
   ],
   "source": [
    "r.split()"
   ]
  },
  {
   "cell_type": "code",
   "execution_count": 11,
   "id": "f02df202-1439-4fc1-9162-41adcadfc696",
   "metadata": {},
   "outputs": [
    {
     "data": {
      "text/plain": [
       "['R', 'u', 'd', 'd', 'h', 'i']"
      ]
     },
     "execution_count": 11,
     "metadata": {},
     "output_type": "execute_result"
    }
   ],
   "source": [
    "list(r)"
   ]
  },
  {
   "cell_type": "code",
   "execution_count": 13,
   "id": "dd3caaf5-1c1a-48a8-a7f1-022805dd2324",
   "metadata": {},
   "outputs": [
    {
     "data": {
      "text/plain": [
       "['My', 'name', 'is', 'ruddhi']"
      ]
     },
     "execution_count": 13,
     "metadata": {},
     "output_type": "execute_result"
    }
   ],
   "source": [
    "r = \"My name is ruddhi\"\n",
    "r.split()"
   ]
  },
  {
   "cell_type": "code",
   "execution_count": 15,
   "id": "0bd8f7be-b080-4a13-9020-8a7b553e182c",
   "metadata": {},
   "outputs": [
    {
     "data": {
      "text/plain": [
       "['M',\n",
       " 'y',\n",
       " ' ',\n",
       " 'n',\n",
       " 'a',\n",
       " 'm',\n",
       " 'e',\n",
       " ' ',\n",
       " 'i',\n",
       " 's',\n",
       " ' ',\n",
       " 'r',\n",
       " 'u',\n",
       " 'd',\n",
       " 'd',\n",
       " 'h',\n",
       " 'i']"
      ]
     },
     "execution_count": 15,
     "metadata": {},
     "output_type": "execute_result"
    }
   ],
   "source": [
    "list(r)"
   ]
  },
  {
   "cell_type": "code",
   "execution_count": 21,
   "id": "d41061c5-f244-4655-bac4-4aa96b9dd7a8",
   "metadata": {},
   "outputs": [
    {
     "name": "stdout",
     "output_type": "stream",
     "text": [
      "Original: [[8, 2, 3], [4, 5, 6]]\n",
      "Shallow Copy: [[8, 2, 3], [4, 5, 6]]\n"
     ]
    }
   ],
   "source": [
    "import copy\n",
    "original = [[1, 2, 3], [4, 5, 6]]\n",
    "shallow_copy = copy.copy(original)\n",
    "original[0][0] = 8\n",
    "print(\"Original:\", original)   \n",
    "print(\"Shallow Copy:\", shallow_copy)"
   ]
  },
  {
   "cell_type": "code",
   "execution_count": 29,
   "id": "c166b829-d1a7-4665-979e-a157f18afb1d",
   "metadata": {},
   "outputs": [
    {
     "name": "stdout",
     "output_type": "stream",
     "text": [
      "Original: [[1, 2, 3], [4, 5, 6]]\n",
      "deep Copy: [[8, 2, 3], [4, 5, 6]]\n"
     ]
    }
   ],
   "source": [
    "import copy\n",
    "original = [[1, 2, 3], [4, 5, 6]]\n",
    "deep_copy = copy.deepcopy(original)\n",
    "deep_copy[0][0] = 8\n",
    "print(\"Original:\", original)   \n",
    "print(\"deep Copy:\", shallow_copy)"
   ]
  },
  {
   "cell_type": "code",
   "execution_count": 39,
   "id": "a3e86911-25fe-4500-853e-2acc54bfbe93",
   "metadata": {},
   "outputs": [],
   "source": [
    "corpus = '''John Doe is the CEO of Tech Solutions Inc. He met with Mary Jane on 12th February 2024.\n",
    "Their meeting was about a new project, and John discussed the future of the industry.\n",
    "John's email is john.doe@techsolutions.com, and Mary can be contacted at mary.jane@corporation.org.\n",
    "The meeting will continue on 25th February 2024 in New York.'''\n"
   ]
  },
  {
   "cell_type": "code",
   "execution_count": 55,
   "id": "0604980b-ccb2-469e-bc6e-37683e8d5ce8",
   "metadata": {},
   "outputs": [],
   "source": [
    "k = [i for i in corpus]\n"
   ]
  },
  {
   "cell_type": "code",
   "execution_count": 57,
   "id": "2b967732-4183-4e9c-b03d-42d2c3fe69f8",
   "metadata": {},
   "outputs": [],
   "source": [
    "import re "
   ]
  },
  {
   "cell_type": "code",
   "execution_count": 59,
   "id": "69c7bf15-079a-4d19-97a4-a528e6b1f84e",
   "metadata": {},
   "outputs": [],
   "source": [
    "corpus = '''John Doe is the CEO of Tech Solutions Inc. He met with Mary Jane on 12th February 2024.\n",
    "Their meeting was about a new project, and John discussed the future of the industry.\n",
    "John's email is john.doe@techsolutions.com, and Mary can be contacted at mary.jane@corporation.org.\n",
    "The meeting will continue on 25th February 2024 in New York.'''"
   ]
  },
  {
   "cell_type": "code",
   "execution_count": 79,
   "id": "8134458c-2603-439c-9609-b900ed5c0c0b",
   "metadata": {},
   "outputs": [
    {
     "data": {
      "text/plain": [
       "['John Doe', 'Tech Solutions', 'Mary Jane', 'New York']"
      ]
     },
     "execution_count": 79,
     "metadata": {},
     "output_type": "execute_result"
    }
   ],
   "source": [
    "Names_record = r'\\b[A-Z][a-z]+ [A-Z][a-z]+\\b'\n",
    "result=re.findall(Names_record,corpus)\n",
    "result"
   ]
  },
  {
   "cell_type": "code",
   "execution_count": null,
   "id": "39ca7c7f-3917-4c6e-a4b6-ee87b657f144",
   "metadata": {},
   "outputs": [],
   "source": [
    "#NLTK\n",
    "#Nltk.postagging\"N\""
   ]
  },
  {
   "cell_type": "code",
   "execution_count": 87,
   "id": "a636b726-684a-49f5-a3b2-de6dd4a590d8",
   "metadata": {},
   "outputs": [
    {
     "name": "stderr",
     "output_type": "stream",
     "text": [
      "[nltk_data] Downloading package punkt to\n",
      "[nltk_data]     C:\\Users\\RuddhiBhagat\\AppData\\Roaming\\nltk_data...\n",
      "[nltk_data]   Package punkt is already up-to-date!\n",
      "[nltk_data] Downloading package averaged_perceptron_tagger to\n",
      "[nltk_data]     C:\\Users\\RuddhiBhagat\\AppData\\Roaming\\nltk_data...\n",
      "[nltk_data]   Package averaged_perceptron_tagger is already up-to-\n",
      "[nltk_data]       date!\n"
     ]
    },
    {
     "name": "stdout",
     "output_type": "stream",
     "text": [
      "Extracted names: ['John', 'Doe', 'Tech', 'Solutions', 'Inc', 'Mary', 'Jane', 'February', 'John', 'John', '@', 'Mary', '@', 'February', 'New', 'York']\n"
     ]
    }
   ],
   "source": [
    "import nltk\n",
    "from nltk.tokenize import word_tokenize\n",
    "from nltk import pos_tag\n",
    "nltk.download('punkt')\n",
    "nltk.download('averaged_perceptron_tagger')\n",
    "corpus = '''John Doe is the CEO of Tech Solutions Inc. He met with Mary Jane on 12th February 2024.\n",
    "Their meeting was about a new project, and John discussed the future of the industry.\n",
    "John's email is john.doe@techsolutions.com, and Mary can be contacted at mary.jane@corporation.org.\n",
    "The meeting will continue on 25th February 2024 in New York.'''\n",
    "tokens = word_tokenize(corpus)\n",
    "tagged_tokens = pos_tag(tokens)\n",
    "\n",
    "names = [word for word, tag in tagged_tokens if tag == 'NNP' or tag == 'NNPS']\n",
    "\n",
    "print(\"Extracted names:\", names)"
   ]
  },
  {
   "cell_type": "code",
   "execution_count": 99,
   "id": "620e79b4-cdd1-4389-9cee-05fa35119d0d",
   "metadata": {},
   "outputs": [
    {
     "name": "stdout",
     "output_type": "stream",
     "text": [
      "Extracted people's names: ['Mary', 'John', 'Mary Jane']\n"
     ]
    },
    {
     "name": "stderr",
     "output_type": "stream",
     "text": [
      "[nltk_data] Downloading package punkt to\n",
      "[nltk_data]     C:\\Users\\RuddhiBhagat\\AppData\\Roaming\\nltk_data...\n",
      "[nltk_data]   Package punkt is already up-to-date!\n",
      "[nltk_data] Downloading package averaged_perceptron_tagger to\n",
      "[nltk_data]     C:\\Users\\RuddhiBhagat\\AppData\\Roaming\\nltk_data...\n",
      "[nltk_data]   Package averaged_perceptron_tagger is already up-to-\n",
      "[nltk_data]       date!\n",
      "[nltk_data] Downloading package maxent_ne_chunker to\n",
      "[nltk_data]     C:\\Users\\RuddhiBhagat\\AppData\\Roaming\\nltk_data...\n",
      "[nltk_data]   Package maxent_ne_chunker is already up-to-date!\n",
      "[nltk_data] Downloading package words to\n",
      "[nltk_data]     C:\\Users\\RuddhiBhagat\\AppData\\Roaming\\nltk_data...\n",
      "[nltk_data]   Package words is already up-to-date!\n"
     ]
    }
   ],
   "source": [
    "import nltk\n",
    "from nltk.tokenize import word_tokenize\n",
    "from nltk import pos_tag, ne_chunk\n",
    "\n",
    "# Ensure that required NLTK datasets are downloaded\n",
    "nltk.download('punkt')\n",
    "nltk.download('averaged_perceptron_tagger')\n",
    "nltk.download('maxent_ne_chunker')\n",
    "nltk.download('words')\n",
    "\n",
    "# Example text corpus\n",
    "text = '''John Doe is the CEO of Tech Solutions Inc. He met with Mary Jane on 12th February 2024.\n",
    "Their meeting was about a new project, and John discussed the future of the industry.\n",
    "John's email is john.doe@techsolutions.com, and Mary can be contacted at mary.jane@corporation.org.\n",
    "The meeting will continue on 25th February 2024 in New York.'''\n",
    "\n",
    "# Tokenize the text\n",
    "tokens = word_tokenize(text)\n",
    "\n",
    "# Apply POS tagging\n",
    "tagged_tokens = pos_tag(tokens)\n",
    "\n",
    "# Perform Named Entity Recognition (NER)\n",
    "ner_tree = ne_chunk(tagged_tokens)\n",
    "\n",
    "# Extract person names (entities labeled as PERSON)\n",
    "person_names = []\n",
    "for chunk in ner_tree:\n",
    "    if isinstance(chunk, nltk.Tree):  # Check if the chunk is a named entity\n",
    "        label = chunk.label()\n",
    "        if label == \"PERSON\":  # Filter for people names\n",
    "            name = \" \".join([word for word, tag in chunk])  # Combine the words in the chunk\n",
    "            person_names.append(name)\n",
    "person_names = list(set(person_names))\n",
    "print(\"Extracted people's names:\", person_names)\n"
   ]
  },
  {
   "cell_type": "code",
   "execution_count": 115,
   "id": "f608d26c-934a-457b-96a3-55c151b03eb5",
   "metadata": {},
   "outputs": [
    {
     "name": "stdout",
     "output_type": "stream",
     "text": [
      "Extracted unique full names: ['Michelle Obama', 'Barack']\n"
     ]
    },
    {
     "name": "stderr",
     "output_type": "stream",
     "text": [
      "[nltk_data] Downloading package punkt to\n",
      "[nltk_data]     C:\\Users\\RuddhiBhagat\\AppData\\Roaming\\nltk_data...\n",
      "[nltk_data]   Package punkt is already up-to-date!\n",
      "[nltk_data] Downloading package averaged_perceptron_tagger to\n",
      "[nltk_data]     C:\\Users\\RuddhiBhagat\\AppData\\Roaming\\nltk_data...\n",
      "[nltk_data]   Package averaged_perceptron_tagger is already up-to-\n",
      "[nltk_data]       date!\n",
      "[nltk_data] Downloading package maxent_ne_chunker to\n",
      "[nltk_data]     C:\\Users\\RuddhiBhagat\\AppData\\Roaming\\nltk_data...\n",
      "[nltk_data]   Package maxent_ne_chunker is already up-to-date!\n",
      "[nltk_data] Downloading package words to\n",
      "[nltk_data]     C:\\Users\\RuddhiBhagat\\AppData\\Roaming\\nltk_data...\n",
      "[nltk_data]   Package words is already up-to-date!\n"
     ]
    }
   ],
   "source": [
    "import nltk\n",
    "from nltk.tokenize import word_tokenize\n",
    "from nltk import pos_tag, ne_chunk\n",
    "\n",
    "# Ensure that required NLTK datasets are downloaded\n",
    "nltk.download('punkt')\n",
    "nltk.download('averaged_perceptron_tagger')\n",
    "nltk.download('maxent_ne_chunker')\n",
    "nltk.download('words')\n",
    "\n",
    "# Example text with full names (e.g., \"Barack Obama\")\n",
    "text = \"\"\"\n",
    "Barack Obama and Michelle Obama visited New York last week.\n",
    "\"\"\"\n",
    "\n",
    "# Tokenize the text\n",
    "tokens = word_tokenize(text)\n",
    "\n",
    "# Apply POS tagging\n",
    "tagged_tokens = pos_tag(tokens)\n",
    "\n",
    "# Perform Named Entity Recognition (NER)\n",
    "ner_tree = ne_chunk(tagged_tokens)\n",
    "\n",
    "# Extract person names (entities labeled as PERSON)\n",
    "person_names = []\n",
    "for chunk in ner_tree:\n",
    "    if isinstance(chunk, nltk.Tree):  # Check if the chunk is a named entity\n",
    "        label = chunk.label()\n",
    "        if label == \"PERSON\":  # Filter for people names\n",
    "            name = \" \".join([word for word, tag in chunk])  # Combine the words in the chunk\n",
    "            person_names.append(name)\n",
    "\n",
    "# Remove duplicates by converting the list to a set and then back to a list\n",
    "unique_person_names = list(set(person_names))\n",
    "\n",
    "# Print the final extracted unique full names\n",
    "print(\"Extracted unique full names:\", unique_person_names)\n",
    "\n"
   ]
  },
  {
   "cell_type": "code",
   "execution_count": 125,
   "id": "743d6120-60cd-4291-8b54-da67f942da32",
   "metadata": {},
   "outputs": [
    {
     "name": "stdout",
     "output_type": "stream",
     "text": [
      "['Barack', 'Obama', 'and', 'Michelle', 'Obama', 'visited', 'New', 'York', 'last', 'week', '.']\n",
      "[('Barack', 'NNP'), ('Obama', 'NNP'), ('and', 'CC'), ('Michelle', 'NNP'), ('Obama', 'NNP'), ('visited', 'VBD'), ('New', 'NNP'), ('York', 'NNP'), ('last', 'JJ'), ('week', 'NN'), ('.', '.')]\n",
      "(S\n",
      "  (PERSON Barack/NNP)\n",
      "  (ORGANIZATION Obama/NNP)\n",
      "  and/CC\n",
      "  (PERSON Michelle/NNP Obama/NNP)\n",
      "  visited/VBD\n",
      "  (GPE New/NNP York/NNP)\n",
      "  last/JJ\n",
      "  week/NN\n",
      "  ./.)\n",
      "['Barack', 'Michelle Obama']\n",
      "Extracted unique full names: ['Michelle Obama', 'Barack']\n"
     ]
    },
    {
     "name": "stderr",
     "output_type": "stream",
     "text": [
      "[nltk_data] Downloading package punkt to\n",
      "[nltk_data]     C:\\Users\\RuddhiBhagat\\AppData\\Roaming\\nltk_data...\n",
      "[nltk_data]   Package punkt is already up-to-date!\n",
      "[nltk_data] Downloading package averaged_perceptron_tagger to\n",
      "[nltk_data]     C:\\Users\\RuddhiBhagat\\AppData\\Roaming\\nltk_data...\n",
      "[nltk_data]   Package averaged_perceptron_tagger is already up-to-\n",
      "[nltk_data]       date!\n",
      "[nltk_data] Downloading package maxent_ne_chunker to\n",
      "[nltk_data]     C:\\Users\\RuddhiBhagat\\AppData\\Roaming\\nltk_data...\n",
      "[nltk_data]   Package maxent_ne_chunker is already up-to-date!\n",
      "[nltk_data] Downloading package words to\n",
      "[nltk_data]     C:\\Users\\RuddhiBhagat\\AppData\\Roaming\\nltk_data...\n",
      "[nltk_data]   Package words is already up-to-date!\n"
     ]
    }
   ],
   "source": [
    "import nltk\n",
    "from nltk.tokenize import word_tokenize\n",
    "from nltk import pos_tag, ne_chunk\n",
    "\n",
    "# NLTK datasets are need to download\n",
    "nltk.download('punkt')\n",
    "nltk.download('averaged_perceptron_tagger')\n",
    "nltk.download('maxent_ne_chunker')\n",
    "nltk.download('words')\n",
    "\n",
    "text = \"\"\"\n",
    "Barack Obama and Michelle Obama visited New York last week.\n",
    "\"\"\"\n",
    "\n",
    "# Tokenize the text\n",
    "tokens = word_tokenize(text)\n",
    "print(tokens)\n",
    "\n",
    "# Apply POS tagging\n",
    "tagged_tokens = pos_tag(tokens)\n",
    "print(tagged_tokens)\n",
    "\n",
    "# Perform Named Entity Recognition (NER)\n",
    "ner_tree = ne_chunk(tagged_tokens)\n",
    "print(ner_tree)\n",
    "\n",
    "\n",
    "# Extract person names (extracting names from ner,labeled as PERSON)\n",
    "person_names = []\n",
    "for chunk in ner_tree:\n",
    "    if isinstance(chunk, nltk.Tree):  # Check if the chunk is a named entity\n",
    "        label = chunk.label()\n",
    "        if label == \"PERSON\":  # Filter for people names\n",
    "            name = \" \".join([word for word, tag in chunk])  # Combine the words in the chunk\n",
    "            person_names.append(name)\n",
    "print(person_names)\n",
    "\n",
    "# Remove duplicates by converting the list to a set and then back to a list\n",
    "unique_person_names = list(set(person_names))\n",
    "\n",
    "# Print the final extracted unique full names\n",
    "print(\"Extracted unique full names:\", unique_person_names)"
   ]
  },
  {
   "cell_type": "code",
   "execution_count": 129,
   "id": "4c9145b6-e9ca-47d2-a1db-c80ce06f55ea",
   "metadata": {},
   "outputs": [
    {
     "name": "stdout",
     "output_type": "stream",
     "text": [
      "\n",
      "*\n",
      "**\n",
      "***\n",
      "****\n"
     ]
    },
    {
     "data": {
      "text/plain": [
       "[None, None, None, None, None]"
      ]
     },
     "execution_count": 129,
     "metadata": {},
     "output_type": "execute_result"
    }
   ],
   "source": [
    "a = [print(\"*\" * i) for i in range(5) ]\n",
    "a"
   ]
  },
  {
   "cell_type": "code",
   "execution_count": 131,
   "id": "31937500-e253-4d1c-a657-504dc8a8b043",
   "metadata": {},
   "outputs": [
    {
     "name": "stdout",
     "output_type": "stream",
     "text": [
      "   *   \n",
      "  ***  \n",
      " ***** \n",
      "*******\n"
     ]
    }
   ],
   "source": [
    "for i in range(1,5):\n",
    "    for j in range(1,8):\n",
    "        if j>=5-i and j <= 3+i:\n",
    "            print(\"*\",end = '')\n",
    "        else:\n",
    "            print(\" \",end = '')\n",
    "    print()"
   ]
  },
  {
   "cell_type": "code",
   "execution_count": 135,
   "id": "556e047b-cd67-4ec7-b44c-dfdda027710f",
   "metadata": {},
   "outputs": [
    {
     "name": "stdout",
     "output_type": "stream",
     "text": [
      " \n",
      " \n",
      " \n",
      "*\n",
      " \n",
      " \n",
      " \n",
      " \n",
      " \n",
      "*\n",
      "*\n",
      "*\n",
      " \n",
      " \n",
      " \n",
      "*\n",
      "*\n",
      "*\n",
      "*\n",
      "*\n",
      " \n",
      "*\n",
      "*\n",
      "*\n",
      "*\n",
      "*\n",
      "*\n",
      "*\n"
     ]
    }
   ],
   "source": [
    "a = [print(\"*\")  if j>=5-i and j <= 3+i else print(\" \") for i in range(1,5) for j in range(1,8) ]"
   ]
  },
  {
   "cell_type": "code",
   "execution_count": 137,
   "id": "fdd7647a-600b-49d1-8daa-8959f64d91fa",
   "metadata": {},
   "outputs": [
    {
     "name": "stdout",
     "output_type": "stream",
     "text": [
      "   *   \n",
      "  ***  \n",
      " ***** \n",
      "*******\n"
     ]
    },
    {
     "data": {
      "text/plain": [
       "[None, None, None, None]"
      ]
     },
     "execution_count": 137,
     "metadata": {},
     "output_type": "execute_result"
    }
   ],
   "source": [
    "# Use list comprehension to generate each row of the pyramid\n",
    "[print(\"\".join([\"*\" if j >= 5 - i and j <= 3 + i else \" \" for j in range(1, 8)])) for i in range(1, 5)]\n"
   ]
  },
  {
   "cell_type": "code",
   "execution_count": 139,
   "id": "9f88d49c-1e3b-4199-b542-616e5ab4dc7a",
   "metadata": {},
   "outputs": [
    {
     "name": "stdout",
     "output_type": "stream",
     "text": [
      "   *\n",
      "   *\n",
      "   *\n",
      "   *\n",
      "   *\n",
      "   *\n",
      "   *\n"
     ]
    },
    {
     "data": {
      "text/plain": [
       "[None, None, None, None, None, None, None]"
      ]
     },
     "execution_count": 139,
     "metadata": {},
     "output_type": "execute_result"
    }
   ],
   "source": [
    "# Use list comprehension to generate each row of the pyramid\n",
    "[print(\"\".join([\"*\" if j >= 5 - i and j <= 3 + i else \" \" for i in range(1, 5)])) for i in range(1, 8)]\n"
   ]
  },
  {
   "cell_type": "code",
   "execution_count": 225,
   "id": "30db9795-39a9-4350-a0de-4cf57a41121d",
   "metadata": {},
   "outputs": [
    {
     "name": "stdin",
     "output_type": "stream",
     "text": [
      " 5\n"
     ]
    },
    {
     "name": "stdout",
     "output_type": "stream",
     "text": [
      "# # # # # \n",
      "#       # \n",
      "#       # \n",
      "#       # \n",
      "# # # # # \n"
     ]
    }
   ],
   "source": [
    "r = int(input())\n",
    "for i in range(r):\n",
    "    for j in range(r):\n",
    "        if i==0 or j == 0  or j==4 or i==4:\n",
    "            print(\"#\",end = ' ')\n",
    "        else:\n",
    "            print(\" \",end = ' ')\n",
    "    print()"
   ]
  },
  {
   "cell_type": "code",
   "execution_count": 1,
   "id": "a36f46fc-ac97-4d02-bf20-863c94d3dde9",
   "metadata": {},
   "outputs": [
    {
     "name": "stdout",
     "output_type": "stream",
     "text": [
      "R\n",
      "h\n",
      "d\n",
      "i\n",
      "u\n"
     ]
    }
   ],
   "source": [
    "#set\n",
    "a = set(\"Ruddhi\")\n",
    "for i in a:\n",
    "    print(i)\n",
    "    "
   ]
  },
  {
   "cell_type": "code",
   "execution_count": 7,
   "id": "fed2becd-7db1-4447-8c12-25127aad8c18",
   "metadata": {},
   "outputs": [
    {
     "name": "stdout",
     "output_type": "stream",
     "text": [
      "R 82\n",
      "h 104\n",
      "d 100\n",
      "i 105\n",
      "u 117\n"
     ]
    }
   ],
   "source": [
    "a = set(\"Ruddhi\")\n",
    "for i in a:\n",
    "    print(i,ord(i))"
   ]
  },
  {
   "cell_type": "code",
   "execution_count": 5,
   "id": "aea0cb64-80bf-484d-8102-d048e7d46edb",
   "metadata": {},
   "outputs": [
    {
     "name": "stdout",
     "output_type": "stream",
     "text": [
      "{1, 4, 9, 16, 25}\n"
     ]
    }
   ],
   "source": [
    "squares = {x ** 2 for x in range(1, 6)}\n",
    "print(squares)  # Output: {1, 4, 9, 16, 25}\n"
   ]
  },
  {
   "cell_type": "code",
   "execution_count": 13,
   "id": "a38558c3-395b-40b7-a03d-685b3bf7d21a",
   "metadata": {},
   "outputs": [
    {
     "data": {
      "text/plain": [
       "[1, 1, 1]"
      ]
     },
     "execution_count": 13,
     "metadata": {},
     "output_type": "execute_result"
    }
   ],
   "source": [
    "s= [1,2,3,4,3,2]\n",
    "count = 0\n",
    "k =[count+1 for i in range(len(set(s))) if i in s ]\n",
    "k"
   ]
  },
  {
   "cell_type": "code",
   "execution_count": null,
   "id": "4ebb7cc8-8436-4aed-b0da-7af8f81a1377",
   "metadata": {},
   "outputs": [],
   "source": [
    "#tuple\n",
    "t = ([1,2,3]"
   ]
  },
  {
   "cell_type": "code",
   "execution_count": 3,
   "id": "369f8f32-3cb7-42c4-8a49-92a3aa7ecaf0",
   "metadata": {},
   "outputs": [
    {
     "name": "stdout",
     "output_type": "stream",
     "text": [
      "True\n"
     ]
    },
    {
     "data": {
      "text/plain": [
       "1"
      ]
     },
     "execution_count": 3,
     "metadata": {},
     "output_type": "execute_result"
    }
   ],
   "source": [
    "t = (1, 2, 3, 4)\n",
    "print(2 in t)\n",
    "t.index(2)"
   ]
  },
  {
   "cell_type": "code",
   "execution_count": 5,
   "id": "051c5801-aa6a-4b5b-ae62-09bbbc217875",
   "metadata": {},
   "outputs": [
    {
     "name": "stdout",
     "output_type": "stream",
     "text": [
      "<generator object <genexpr> at 0x0000028BDF2DE980>\n"
     ]
    }
   ],
   "source": [
    "nested_tuple = ((1, 2), (3, 4), (5, 6))\n",
    "print(i for i in nested_tuple)"
   ]
  },
  {
   "cell_type": "code",
   "execution_count": 9,
   "id": "caf7d083-c77c-42d8-93f1-078faa9a0446",
   "metadata": {},
   "outputs": [
    {
     "name": "stdout",
     "output_type": "stream",
     "text": [
      "(1, 2, 3, 4, 5, 6)\n"
     ]
    }
   ],
   "source": [
    "empty_tuple = ()\n",
    "for sub_tuple in nested_tuple:\n",
    "    empty_tuple += sub_tuple\n",
    "\n",
    "print(empty_tuple) \n"
   ]
  },
  {
   "cell_type": "code",
   "execution_count": 11,
   "id": "3a220710-3d6c-428a-b196-d71aa00c1091",
   "metadata": {},
   "outputs": [
    {
     "name": "stdout",
     "output_type": "stream",
     "text": [
      "['banana', 'cherry']\n"
     ]
    }
   ],
   "source": [
    "words = (\"apple\", \"banana\", \"cherry\", \"date\")\n",
    " \n",
    "# Generator with enumeration to find words longer than 5 characters\n",
    "long_words = (word for index, word in enumerate(words) if len(word) > 5)\n",
    "\n",
    "# To view the result, you can convert it to a list or iterate through it\n",
    "print(list(long_words))"
   ]
  },
  {
   "cell_type": "code",
   "execution_count": 19,
   "id": "2b00ef80-ae33-466f-a3fe-8772138852bf",
   "metadata": {},
   "outputs": [
    {
     "name": "stdout",
     "output_type": "stream",
     "text": [
      "['banana', 'cherry']\n"
     ]
    }
   ],
   "source": [
    "words = (\"apple\", \"banana\", \"cherry\", \"date\")\n",
    "result = []\n",
    "for index,word in enumerate(words):\n",
    "    if len(word) > 5:\n",
    "        result.append(word)\n",
    "print(result)\n",
    "        "
   ]
  },
  {
   "cell_type": "code",
   "execution_count": 25,
   "id": "d06de31d-0043-43b4-ba49-b9c99fcfc94a",
   "metadata": {},
   "outputs": [
    {
     "name": "stdout",
     "output_type": "stream",
     "text": [
      "[0, 2, 4, 6, 8, 10]\n"
     ]
    }
   ],
   "source": [
    "#Write a generator function that produces even numbers starting from 0 and continues up to a given number n.\n",
    "def even_numbers(n):\n",
    "    number = 0\n",
    "    while number <= n:\n",
    "        yield number\n",
    "        number += 2\n",
    "n = 10\n",
    "evens = even_numbers(n)\n",
    "\n",
    "print(list(evens))\n"
   ]
  },
  {
   "cell_type": "code",
   "execution_count": 27,
   "id": "630ca4c4-d307-44b4-ba7d-5a48a4e27db7",
   "metadata": {},
   "outputs": [
    {
     "name": "stdout",
     "output_type": "stream",
     "text": [
      "0, 2, 4, 6, 8, 10, "
     ]
    }
   ],
   "source": [
    "n = 10\n",
    "for num in range(0, n+1, 2):  # Generates a sequence of even numbers\n",
    "    print(num, end=\", \")"
   ]
  },
  {
   "cell_type": "code",
   "execution_count": 3,
   "id": "a3acfe55-fc4b-42aa-be89-9027c7ba7c9d",
   "metadata": {},
   "outputs": [
    {
     "name": "stdout",
     "output_type": "stream",
     "text": [
      "True\n"
     ]
    }
   ],
   "source": [
    "y = isinstance(\"Hello\", str)\n",
    "print(y)"
   ]
  },
  {
   "cell_type": "code",
   "execution_count": 5,
   "id": "0f88c13a-9f72-4f5a-b29f-4515f24190db",
   "metadata": {},
   "outputs": [
    {
     "name": "stdout",
     "output_type": "stream",
     "text": [
      "{0: 'apple', 1: 'banana', 2: 'cherry', 3: 'date'}\n"
     ]
    }
   ],
   "source": [
    "#add and update element\n",
    "fruits = ['apple', 'banana', 'cherry', 'date']\n",
    "fruit_dict = {index: fruit for index, fruit in enumerate(fruits)}\n",
    "print(fruit_dict)"
   ]
  },
  {
   "cell_type": "code",
   "execution_count": 9,
   "id": "7fde88a1-d196-479b-adc0-0e3928cedfb2",
   "metadata": {},
   "outputs": [
    {
     "name": "stdout",
     "output_type": "stream",
     "text": [
      "{0: 'apple', 1: 'banana', 2: 'cherry', 3: 'date', '4': 'mango'}\n"
     ]
    }
   ],
   "source": [
    "fruit_dict['4'] = 'mango'\n",
    "print(fruit_dict)"
   ]
  },
  {
   "cell_type": "code",
   "execution_count": 23,
   "id": "5b3c3811-7aca-4ee0-9f7b-8f656721e3f7",
   "metadata": {},
   "outputs": [
    {
     "name": "stdout",
     "output_type": "stream",
     "text": [
      "{0: (0, 'apple'), 1: (1, 'banana'), 2: (2, 'cherry'), 3: (3, 'date')}\n"
     ]
    }
   ],
   "source": [
    "result = { index:(index,fruit) for index, fruit in enumerate(fruits)}\n",
    "print(result)"
   ]
  },
  {
   "cell_type": "code",
   "execution_count": 25,
   "id": "e85b0fd9-03fc-4640-a78c-a1039838a05e",
   "metadata": {},
   "outputs": [
    {
     "name": "stdout",
     "output_type": "stream",
     "text": [
      "0: (0, 'apple')\n",
      "1: (1, 'banana')\n",
      "2: (2, 'cherry')\n",
      "3: (3, 'date')\n"
     ]
    }
   ],
   "source": [
    "# items , key , values\n",
    "for key, value in result.items():\n",
    "    print(f\"{key}: {value}\")"
   ]
  },
  {
   "cell_type": "code",
   "execution_count": 43,
   "id": "d5bea5cb-220d-4462-9e43-d81e14714780",
   "metadata": {},
   "outputs": [],
   "source": [
    "# count the char in str\n"
   ]
  },
  {
   "cell_type": "code",
   "execution_count": 69,
   "id": "0ceaf356-d99f-4c58-af1a-1183decdee77",
   "metadata": {},
   "outputs": [
    {
     "name": "stdout",
     "output_type": "stream",
     "text": [
      "{'h': 1, 'e': 1, 'l': 2, 'o': 1}\n"
     ]
    }
   ],
   "source": [
    "s = \"hello\"\n",
    "res = {char: s.count(char) for char in s}\n",
    "print(res)\n"
   ]
  },
  {
   "cell_type": "code",
   "execution_count": 39,
   "id": "6f997e2a-5320-4dfa-8403-ba099672387b",
   "metadata": {},
   "outputs": [
    {
     "name": "stdout",
     "output_type": "stream",
     "text": [
      "Counter({'l': 2, 'h': 1, 'e': 1, 'o': 1})\n"
     ]
    }
   ],
   "source": [
    "from collections import Counter\n",
    "s = \"hello\"\n",
    "char_count = Counter(s)\n",
    "print(char_count)\n"
   ]
  },
  {
   "cell_type": "code",
   "execution_count": null,
   "id": "e779dae0-cee5-409d-93a6-bf3bc0c1f356",
   "metadata": {},
   "outputs": [],
   "source": [
    "#from collections import Counter"
   ]
  },
  {
   "cell_type": "code",
   "execution_count": 45,
   "id": "45d52018-3647-47f8-9d12-755a2593f483",
   "metadata": {},
   "outputs": [
    {
     "name": "stdout",
     "output_type": "stream",
     "text": [
      "Counter({1: 2, 2: 2, 3: 2, 4: 2, 5: 2})\n"
     ]
    }
   ],
   "source": [
    "\n",
    "# count the frequency of element\n",
    "from collections import Counter\n",
    "li = [1,1,2,2,3,3,4,4,5,5]\n",
    "char_count = Counter(li)\n",
    "print(char_count)"
   ]
  },
  {
   "cell_type": "code",
   "execution_count": 49,
   "id": "0eb02eef-01ba-4b3f-b12d-b2913fef1beb",
   "metadata": {},
   "outputs": [
    {
     "name": "stdout",
     "output_type": "stream",
     "text": [
      "{1: 'o', 2: 'l'}\n"
     ]
    }
   ],
   "source": [
    "# invert the dictionary\n",
    "res = {s.count(char):char for char in s}\n",
    "print(res)"
   ]
  },
  {
   "cell_type": "code",
   "execution_count": 51,
   "id": "b040ac4f-8b5d-4c08-91a0-3b04bdc9dd26",
   "metadata": {},
   "outputs": [
    {
     "name": "stdout",
     "output_type": "stream",
     "text": [
      "{0: 'apple', 1: 'banana', 2: 'cherry', 3: 'date'}\n"
     ]
    }
   ],
   "source": [
    "fruits = ['apple', 'banana', 'cherry', 'date']\n",
    "fruit_dict = {index: fruit for index, fruit in enumerate(fruits)}\n",
    "print(fruit_dict)"
   ]
  },
  {
   "cell_type": "code",
   "execution_count": 53,
   "id": "66ee506e-4ca6-4528-bbc0-4ba88353f95c",
   "metadata": {},
   "outputs": [
    {
     "name": "stdout",
     "output_type": "stream",
     "text": [
      "{'apple': 0, 'banana': 1, 'cherry': 2, 'date': 3}\n"
     ]
    }
   ],
   "source": [
    "fruits = ['apple', 'banana', 'cherry', 'date']\n",
    "fruit_dict = {fruit: index for index, fruit in enumerate(fruits)}\n",
    "print(fruit_dict)"
   ]
  },
  {
   "cell_type": "code",
   "execution_count": 55,
   "id": "ded61c25-e421-434c-9900-65b02b14806f",
   "metadata": {},
   "outputs": [],
   "source": [
    "# sort the dictionary on values\n",
    "sample_dict = {'apple': 10, 'banana': 5, 'cherry': 20, 'date': 15}\n",
    "\n",
    "sorted_dict = dict(sorted(sample_dict.items(), key=lambda item: item[1]))\n"
   ]
  },
  {
   "cell_type": "code",
   "execution_count": 63,
   "id": "e23fba29-8b0d-4e24-a024-2b6eaece2540",
   "metadata": {},
   "outputs": [
    {
     "name": "stdout",
     "output_type": "stream",
     "text": [
      "{0: ('Alice', 95), 1: ('Bob', 85), 2: ('Charlie', 88)}\n"
     ]
    }
   ],
   "source": [
    "names = ['Alice', 'Bob', 'Charlie']\n",
    "scores = [95, 85, 88]\n",
    "res = { index:(name, score) for index,(name, score) in enumerate(zip(names, scores))}\n",
    "print(res)\n"
   ]
  },
  {
   "cell_type": "code",
   "execution_count": 71,
   "id": "e0c007eb-f705-4f53-8879-faf8e1993a8d",
   "metadata": {},
   "outputs": [
    {
     "name": "stdout",
     "output_type": "stream",
     "text": [
      "{'Alice': 95, 'Bob': 85, 'Charlie': 88}\n"
     ]
    }
   ],
   "source": [
    "names = ['Alice', 'Bob', 'Charlie']\n",
    "scores = [95, 85, 88]\n",
    "print(dict(zip(names,scores)))"
   ]
  },
  {
   "cell_type": "code",
   "execution_count": 1,
   "id": "23beb431-409a-4c58-8f79-735329529615",
   "metadata": {},
   "outputs": [],
   "source": [
    "data = [\n",
    "    {\"name\": \"john doe\", \"email\": \"JOHN@example.com\", \"phone_number\": \"123-456-7890\", \"address\": \"123 Main St, New York, NY 10001\"},\n",
    "    {\"name\": \"jane smith\", \"email\": \"Jane.Smith@Email.com\", \"phone_number\": \"(123) 456 7890\", \"address\": \"456 Elm St, Los Angeles, CA 90001\"},\n",
    "    {\"name\": \"john doe\", \"email\": \"john@example.com\", \"phone_number\": \"1234567890\", \"address\": \"123 Main St, New York, NY 10001\"},\n",
    "    # Add more records as needed with duplicates and formatting issues\n",
    "]\n"
   ]
  },
  {
   "cell_type": "code",
   "execution_count": null,
   "id": "c56a305f-e615-47b2-bc2c-a3e8177c84cc",
   "metadata": {},
   "outputs": [],
   "source": [
    "#Create a JSON file containing at least 10 records with potential duplicates and inconsistencies."
   ]
  },
  {
   "cell_type": "code",
   "execution_count": 13,
   "id": "ceef4121-29f0-4c82-bb3e-7bfc7496b79a",
   "metadata": {},
   "outputs": [],
   "source": [
    "data = [\n",
    "    {\"name\": \"john doe\", \"email\": \"JOHN@example.com\", \"phone_number\": \"123-456-7890\", \"address\": \"123 Main St, New York, NY 10001\"},\n",
    "    {\"name\": \"jane smith\", \"email\": \"Jane.Smith@Email.com\", \"phone_number\": \"(123) 456 7890\", \"address\": \"456 Elm St, Los Angeles, CA 90001\"},\n",
    "    {\"name\": \"john doe\", \"email\": \"john@example.com\", \"phone_number\": \"1234567890\", \"address\": \"123 Main St, New York, NY 10001\"},\n",
    "    {\"name\": \"john doe\", \"email\": \"JOHN@example.com\", \"phone_number\": \"123-456-7890\", \"address\": \"123 Main St, New York, NY 10001\"},\n",
    "    {\"name\": \"jane smith\", \"email\": \"Jane.Smith@Email.com\", \"phone_number\": \"(123) 456 7890\", \"address\": \"456 Elm St, Los Angeles, CA 90001\"},\n",
    "    {\"name\": \"john doe\", \"email\": \"john@example.com\", \"phone_number\": \"1234567890\", \"address\": \"123 Main St, New York, NY 10001\"},\n",
    "    {\"name\": \"mark white\", \"email\": \"mark.white@example.com\", \"phone_number\": \"987-654-3210\", \"address\": \"789 Pine St, Chicago, IL 60601\"},\n",
    "    {\"name\": \"mary johnson\", \"email\": \"mary.johnson@example.com\", \"phone_number\": \"555-123-4567\", \"address\": \"101 Maple Ave, San Francisco, CA 94102\"},\n",
    "    {\"name\": \"john doe\", \"email\": \"John.Doe@Example.com\", \"phone_number\": \"123-456-7890\", \"address\": \"123 Main St, New York, NY 10001\"},\n",
    "    {\"name\": \"alice brown\", \"email\": \"alice.brown@domain.com\", \"phone_number\": \"444-555-6666\", \"address\": \"202 Oak Rd, Houston, TX 77001\"},\n",
    "    {\"name\": \"jane smith\", \"email\": \"Jane.Smith@Email.com\", \"phone_number\": \"123 456 7890\", \"address\": \"456 Elm St, Los Angeles, CA 90001\"},\n",
    "    {\"name\": \"charlie green\", \"email\": \"charlie.green@example.net\", \"phone_number\": \"333-444-5555\", \"address\": \"303 Birch Ln, Phoenix, AZ 85001\"},\n",
    "    {\"name\": \"mark white\", \"email\": \"mark.white@example.com\", \"phone_number\": \"9876543210\", \"address\": \"789 Pine St, Chicago, IL 60601\"}\n",
    "# Add more records as needed with duplicates and formatting issues\n",
    "]"
   ]
  },
  {
   "cell_type": "code",
   "execution_count": null,
   "id": "6bf3953e-80b1-41ce-a652-17fde9c9586b",
   "metadata": {},
   "outputs": [],
   "source": [
    "#2) Preprocess the data:\n",
    "#  * Remove duplicate entries using Python's set.\n",
    "# * Use regular expressions to clean up phone numbers by enforcing a consistent format: (XXX) XXX-XXXX.eg- (123) 456-7890\n",
    "# * Standardize the email format to lowercase.\n",
    "#  * Ensure each name starts with a capital letter."
   ]
  },
  {
   "cell_type": "code",
   "execution_count": 15,
   "id": "11d73236-0c0a-4f7a-a551-1d73810aec78",
   "metadata": {
    "scrolled": true
   },
   "outputs": [
    {
     "name": "stdout",
     "output_type": "stream",
     "text": [
      "             name                      email    phone_number  \\\n",
      "0        john doe           JOHN@example.com    123-456-7890   \n",
      "1      jane smith       Jane.Smith@Email.com  (123) 456 7890   \n",
      "2        john doe           john@example.com      1234567890   \n",
      "3        john doe           JOHN@example.com    123-456-7890   \n",
      "4      jane smith       Jane.Smith@Email.com  (123) 456 7890   \n",
      "5        john doe           john@example.com      1234567890   \n",
      "6      mark white     mark.white@example.com    987-654-3210   \n",
      "7    mary johnson   mary.johnson@example.com    555-123-4567   \n",
      "8        john doe       John.Doe@Example.com    123-456-7890   \n",
      "9     alice brown     alice.brown@domain.com    444-555-6666   \n",
      "10     jane smith       Jane.Smith@Email.com    123 456 7890   \n",
      "11  charlie green  charlie.green@example.net    333-444-5555   \n",
      "12     mark white     mark.white@example.com      9876543210   \n",
      "\n",
      "                                   address  \n",
      "0          123 Main St, New York, NY 10001  \n",
      "1        456 Elm St, Los Angeles, CA 90001  \n",
      "2          123 Main St, New York, NY 10001  \n",
      "3          123 Main St, New York, NY 10001  \n",
      "4        456 Elm St, Los Angeles, CA 90001  \n",
      "5          123 Main St, New York, NY 10001  \n",
      "6           789 Pine St, Chicago, IL 60601  \n",
      "7   101 Maple Ave, San Francisco, CA 94102  \n",
      "8          123 Main St, New York, NY 10001  \n",
      "9            202 Oak Rd, Houston, TX 77001  \n",
      "10       456 Elm St, Los Angeles, CA 90001  \n",
      "11         303 Birch Ln, Phoenix, AZ 85001  \n",
      "12          789 Pine St, Chicago, IL 60601  \n"
     ]
    }
   ],
   "source": []
  },
  {
   "cell_type": "code",
   "execution_count": 35,
   "id": "c36e7bc3-ffd0-4119-9f4c-ac135344d45b",
   "metadata": {},
   "outputs": [
    {
     "name": "stdout",
     "output_type": "stream",
     "text": [
      "id : 42\n",
      "None\n"
     ]
    }
   ],
   "source": [
    "#Functions\n",
    "def func_practise(**Ruddhi):\n",
    "    for i ,j in Ruddhi.items():\n",
    "        print(f\"{i} : {j}\")\n",
    "print(func_practise(id = 42))"
   ]
  },
  {
   "cell_type": "code",
   "execution_count": 89,
   "id": "06e6bc27-4dd4-4314-8307-b036de18d1ef",
   "metadata": {},
   "outputs": [
    {
     "name": "stdout",
     "output_type": "stream",
     "text": [
      "Apple : 30, Reliancemart\n",
      "Mango : 50, Reliancemart\n",
      "Apple : 30, Dmart\n",
      "Mango : 50, Dmart\n",
      "None\n"
     ]
    }
   ],
   "source": [
    "# fruitmart\n",
    "# friutname - price , companyname \n",
    "def fruit_mart(*com,**Fruitname):\n",
    "    \n",
    "    for k in com:\n",
    "        for i , j in Fruitname.items():\n",
    "            print(f\"{i} : {j}, {k}\")\n",
    "        \n",
    "print(fruit_mart(\"Reliancemart\",\"Dmart\",Apple = 30,Mango = 50))\n",
    "\n",
    "        "
   ]
  },
  {
   "cell_type": "code",
   "execution_count": 95,
   "id": "583720d0-b661-4540-9843-cdf51b1afd76",
   "metadata": {},
   "outputs": [
    {
     "name": "stdout",
     "output_type": "stream",
     "text": [
      "reliance name_fruit: banana\n",
      "\n",
      "reliance price: 30\n",
      "\n",
      "freshmart name_fruit: apple\n",
      "\n",
      "freshmart price: 90\n",
      "\n"
     ]
    }
   ],
   "source": [
    "#printing company name, fruit name and price of fruit\n",
    "def fruit_mart(company_names, **vegetables):\n",
    "    for key, value in vegetables.items():\n",
    "        print(f\"{company_names} {key}: {value}\")\n",
    "        print()  \n",
    " \n",
    " \n",
    "fruit_mart(\"reliance\", name_fruit=\"banana\", price=30)\n",
    "fruit_mart(\"freshmart\", name_fruit=\"apple\", price=90)"
   ]
  },
  {
   "cell_type": "code",
   "execution_count": 13,
   "id": "64956393-8503-4e53-b034-f1f0d901458b",
   "metadata": {},
   "outputs": [
    {
     "ename": "TypeError",
     "evalue": "'int' object is not iterable",
     "output_type": "error",
     "traceback": [
      "\u001b[1;31m---------------------------------------------------------------------------\u001b[0m",
      "\u001b[1;31mTypeError\u001b[0m                                 Traceback (most recent call last)",
      "Cell \u001b[1;32mIn[13], line 4\u001b[0m\n\u001b[0;32m      2\u001b[0m li \u001b[38;5;241m=\u001b[39m [\u001b[38;5;241m1\u001b[39m,\u001b[38;5;241m5\u001b[39m,\u001b[38;5;241m8\u001b[39m,\u001b[38;5;241m9\u001b[39m,\u001b[38;5;241m3\u001b[39m,\u001b[38;5;241m19\u001b[39m,\u001b[38;5;241m3\u001b[39m]\n\u001b[0;32m      3\u001b[0m k\u001b[38;5;241m=\u001b[39mreduce(\u001b[38;5;28;01mlambda\u001b[39;00m x, y: x \u001b[38;5;28;01mif\u001b[39;00m (x \u001b[38;5;241m>\u001b[39m y) \u001b[38;5;28;01melse\u001b[39;00m y, li)\n\u001b[1;32m----> 4\u001b[0m \u001b[38;5;28mlist\u001b[39m(k)\n",
      "\u001b[1;31mTypeError\u001b[0m: 'int' object is not iterable"
     ]
    }
   ],
   "source": [
    "\n",
    "from functools import reduce \n",
    "li = [1,5,8,9,3,19,3]\n",
    "reduce(lambda x, y: x if (x > y) else y, li)\n"
   ]
  },
  {
   "cell_type": "code",
   "execution_count": 28,
   "id": "a7446a9b-7eff-48bd-a12a-fa8e2f372f17",
   "metadata": {},
   "outputs": [
    {
     "ename": "SyntaxError",
     "evalue": "invalid syntax (4007725496.py, line 1)",
     "output_type": "error",
     "traceback": [
      "\u001b[1;36m  Cell \u001b[1;32mIn[28], line 1\u001b[1;36m\u001b[0m\n\u001b[1;33m    (lambda_max = lambda x: max(x)\u001b[0m\n\u001b[1;37m                ^\u001b[0m\n\u001b[1;31mSyntaxError\u001b[0m\u001b[1;31m:\u001b[0m invalid syntax\n"
     ]
    }
   ],
   "source": [
    "(lambda_max = lambda x: max(x)\n",
    "lambda_max(li)"
   ]
  },
  {
   "cell_type": "code",
   "execution_count": 30,
   "id": "0e3d5e7f-0e76-45e5-87bf-d4b7326d3d52",
   "metadata": {},
   "outputs": [
    {
     "name": "stdout",
     "output_type": "stream",
     "text": [
      "[9]\n"
     ]
    }
   ],
   "source": [
    "list1 = [3,5,8,4,5,2,9,1]\n",
    "largest = list(filter(lambda x: x==max(list1), list1))\n",
    " \n",
    "print(largest)"
   ]
  },
  {
   "cell_type": "code",
   "execution_count": 36,
   "id": "78765e76-44cd-4939-b675-beee20f186cf",
   "metadata": {},
   "outputs": [
    {
     "data": {
      "text/plain": [
       "(<function __main__.<lambda>(x)>, [1, 2, 3, 4])"
      ]
     },
     "execution_count": 36,
     "metadata": {},
     "output_type": "execute_result"
    }
   ],
   "source": [
    "#increment by ten \n",
    "li = [1,2,3,4]\n",
    "incremented_li = lambda x: x + 10, li\n",
    "incremented_li"
   ]
  },
  {
   "cell_type": "code",
   "execution_count": 48,
   "id": "a462bc4e-4c57-460f-ad1d-61e294f09255",
   "metadata": {},
   "outputs": [
    {
     "ename": "TypeError",
     "evalue": "reduce expected at least 2 arguments, got 1",
     "output_type": "error",
     "traceback": [
      "\u001b[1;31m---------------------------------------------------------------------------\u001b[0m",
      "\u001b[1;31mTypeError\u001b[0m                                 Traceback (most recent call last)",
      "Cell \u001b[1;32mIn[48], line 3\u001b[0m\n\u001b[0;32m      1\u001b[0m \u001b[38;5;28;01mfrom\u001b[39;00m \u001b[38;5;21;01mfunctools\u001b[39;00m \u001b[38;5;28;01mimport\u001b[39;00m reduce \n\u001b[0;32m      2\u001b[0m words \u001b[38;5;241m=\u001b[39m [\u001b[38;5;124m\"\u001b[39m\u001b[38;5;124mapple\u001b[39m\u001b[38;5;124m\"\u001b[39m, \u001b[38;5;124m\"\u001b[39m\u001b[38;5;124mbanana\u001b[39m\u001b[38;5;124m\"\u001b[39m, \u001b[38;5;124m\"\u001b[39m\u001b[38;5;124mavocado\u001b[39m\u001b[38;5;124m\"\u001b[39m, \u001b[38;5;124m\"\u001b[39m\u001b[38;5;124mgrape\u001b[39m\u001b[38;5;124m\"\u001b[39m, \u001b[38;5;124m\"\u001b[39m\u001b[38;5;124mapricot\u001b[39m\u001b[38;5;124m\"\u001b[39m]\n\u001b[1;32m----> 3\u001b[0m words_starting_with_a \u001b[38;5;241m=\u001b[39m (\u001b[38;5;28mlist\u001b[39m(reduce(\u001b[38;5;28mfilter\u001b[39m(\u001b[38;5;28;01mlambda\u001b[39;00m word: word[\u001b[38;5;241m0\u001b[39m] \u001b[38;5;241m==\u001b[39m \u001b[38;5;124m'\u001b[39m\u001b[38;5;124ma\u001b[39m\u001b[38;5;124m'\u001b[39m, words))))\n\u001b[0;32m      5\u001b[0m \u001b[38;5;28mprint\u001b[39m(words_starting_with_a)\n",
      "\u001b[1;31mTypeError\u001b[0m: reduce expected at least 2 arguments, got 1"
     ]
    }
   ],
   "source": [
    "from functools import reduce \n",
    "words = [\"apple\", \"banana\", \"avocado\", \"grape\", \"apricot\"]\n",
    "words_starting_with_a = (list(reduce(filter(lambda word: word[0] == 'a', words))))\n",
    "\n",
    "print(words_starting_with_a)\n"
   ]
  },
  {
   "cell_type": "code",
   "execution_count": 50,
   "id": "1abf80cb-dde0-4d3c-adf7-f77af1cb3ae0",
   "metadata": {},
   "outputs": [
    {
     "name": "stdout",
     "output_type": "stream",
     "text": [
      "['APPLE', 'AVOCADO', 'APRICOT']\n"
     ]
    }
   ],
   "source": [
    "from functools import reduce\n",
    "words = [\"apple\", \"banana\", \"avocado\", \"grape\", \"apricot\"]\n",
    "words_starting_with_a = list(map(lambda word: word.upper(), filter(lambda word: word[0] == 'a', words)))\n",
    "print(words_starting_with_a)\n"
   ]
  },
  {
   "cell_type": "code",
   "execution_count": 1,
   "id": "609a90ed-5a99-4b4d-8633-37d3ff6f2c8c",
   "metadata": {},
   "outputs": [
    {
     "name": "stdout",
     "output_type": "stream",
     "text": [
      "roar\n",
      "meow\n"
     ]
    }
   ],
   "source": [
    "class Animal:\n",
    "    def sound(self):\n",
    "        return \"roar\"\n",
    "animal = Animal()\n",
    "print(animal.sound())\n",
    "\n",
    "def change_sound():\n",
    "    return \"meow\"\n",
    "\"\"\"This is a monkey patching\"\"\"\n",
    "Animal.sound = change_sound()\n",
    "print(Animal.sound)\n",
    " # runtime - where program actually executed.\n",
    " # In monkey patching we do temporary changes.\n",
    " # It can be used for testing purpose. eg : Unit testing."
   ]
  },
  {
   "cell_type": "code",
   "execution_count": 5,
   "id": "a29e3fbb-0282-4be9-988f-357c9efc7e82",
   "metadata": {},
   "outputs": [
    {
     "data": {
      "text/plain": [
       "str"
      ]
     },
     "execution_count": 5,
     "metadata": {},
     "output_type": "execute_result"
    }
   ],
   "source": [
    "GCP_data='''{'name':'subani','age':21,'mobile':9391840083,'state':'AP','Gender':'male'}'''\n",
    "GCP_data\n",
    "type(GCP_data)"
   ]
  },
  {
   "cell_type": "code",
   "execution_count": 7,
   "id": "ae2dacaa-78af-42a6-bd4c-f1d66b1af91c",
   "metadata": {},
   "outputs": [
    {
     "name": "stdout",
     "output_type": "stream",
     "text": [
      "{'name': 'subani', 'age': 21, 'mobile': 9391840083, 'state': 'AP', 'Gender': 'male'}\n"
     ]
    }
   ],
   "source": [
    "import ast\n",
    " \n",
    "GCP_data='''{'name':'subani','age':21,'mobile':9391840083,'state':'AP','Gender':'male'}'''\n",
    " \n",
    "# converting string into dictionary\n",
    "dictionary = ast.literal_eval(GCP_data)\n",
    " \n",
    "# printing the generated dictionary\n",
    "print(dictionary)"
   ]
  },
  {
   "cell_type": "code",
   "execution_count": 9,
   "id": "5dcc2de1-1bc1-447d-8e28-f8637b6d16b7",
   "metadata": {},
   "outputs": [
    {
     "data": {
      "text/plain": [
       "{'name': 'subani',\n",
       " 'age': 21,\n",
       " 'mobile': 9391840083,\n",
       " 'state': 'AP',\n",
       " 'Gender': 'male'}"
      ]
     },
     "execution_count": 9,
     "metadata": {},
     "output_type": "execute_result"
    }
   ],
   "source": [
    "GCP_data='''{'name':'subani','age':21,'mobile':9391840083,'state':'AP','Gender':'male'}'''\n",
    "k = eval(GCP_data)\n",
    "k"
   ]
  },
  {
   "cell_type": "code",
   "execution_count": 1,
   "id": "bf19bf9e-216a-4233-a752-8a5c6be77bc8",
   "metadata": {},
   "outputs": [
    {
     "name": "stdin",
     "output_type": "stream",
     "text": [
      "Enter The input: 3*2+1\n"
     ]
    },
    {
     "name": "stdout",
     "output_type": "stream",
     "text": [
      "7\n"
     ]
    }
   ],
   "source": [
    "N = eval(input(\"Enter The input:\"))\n",
    "print(N)\n"
   ]
  },
  {
   "cell_type": "code",
   "execution_count": 3,
   "id": "fd2bdcf3-b650-4622-ba7f-83a353685114",
   "metadata": {},
   "outputs": [
    {
     "name": "stdin",
     "output_type": "stream",
     "text": [
      "Enter expression :  5+3\n"
     ]
    },
    {
     "name": "stdout",
     "output_type": "stream",
     "text": [
      "<class 'int'>\n",
      "8\n"
     ]
    }
   ],
   "source": [
    "new_input = eval(input(\"Enter expression : \"))\n",
    "print(type(new_input))\n",
    "print(new_input)"
   ]
  },
  {
   "cell_type": "code",
   "execution_count": null,
   "id": "0949c8d4-9b88-49bc-9591-5c03c9f22b05",
   "metadata": {},
   "outputs": [],
   "source": [
    "# when we dont trust data type , use eval\n",
    "# 20 on each monkey patching and eval"
   ]
  },
  {
   "cell_type": "code",
   "execution_count": null,
   "id": "506f2e0e-fde6-4c29-99e2-5875c262b76d",
   "metadata": {},
   "outputs": [],
   "source": [
    "# decorators are used to mimic functions\n",
    "# so we can mock all those cloud details for unit testing and all this scenario is called monkey patching.\n"
   ]
  },
  {
   "cell_type": "code",
   "execution_count": 3,
   "id": "9222da67-33a8-403a-9d9b-d482e5815b12",
   "metadata": {},
   "outputs": [],
   "source": [
    "# decorators - extending the functionality of function\n",
    "# monkeypatching changes the behavior of entire function\n",
    "# decorator is principle to write a code.\n",
    "# in decorators we pass function as argument"
   ]
  },
  {
   "cell_type": "code",
   "execution_count": 17,
   "id": "bd3d7848-5b9a-46d7-84f9-5d510dc80ace",
   "metadata": {},
   "outputs": [
    {
     "name": "stdout",
     "output_type": "stream",
     "text": [
      "Add brownie\n",
      "Add sprinkles\n",
      "Here is your Icecream of  chocolate\n"
     ]
    }
   ],
   "source": [
    "\n",
    "def add_sprinkles(func):\n",
    "    def wrapper(flavour):\n",
    "        print(\"Add sprinkles\")\n",
    "        func(flavour)\n",
    "    return wrapper\n",
    "\n",
    "def add_brownie(func):\n",
    "    def wrapper(flavour):\n",
    "        print(\"Add brownie\")\n",
    "        func(flavour)\n",
    "    return wrapper\n",
    "\n",
    "\n",
    "@add_brownie\n",
    "@add_sprinkles\n",
    "#this is a base function\n",
    "def get_icecream(flavour):\n",
    "    print(f\"Here is your Icecream of  {flavour}\")\n",
    "get_icecream(\"chocolate\")\n",
    "    "
   ]
  },
  {
   "cell_type": "code",
   "execution_count": null,
   "id": "9c4cd747-b619-43c0-9152-e5b35d7c455c",
   "metadata": {},
   "outputs": [],
   "source": [
    "# call function inside function without adding decorators"
   ]
  }
 ],
 "metadata": {
  "kernelspec": {
   "display_name": "Python 3 (ipykernel)",
   "language": "python",
   "name": "python3"
  },
  "language_info": {
   "codemirror_mode": {
    "name": "ipython",
    "version": 3
   },
   "file_extension": ".py",
   "mimetype": "text/x-python",
   "name": "python",
   "nbconvert_exporter": "python",
   "pygments_lexer": "ipython3",
   "version": "3.12.4"
  }
 },
 "nbformat": 4,
 "nbformat_minor": 5
}
