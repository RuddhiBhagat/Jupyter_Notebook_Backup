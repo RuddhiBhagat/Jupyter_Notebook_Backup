{
 "cells": [
  {
   "cell_type": "markdown",
   "id": "a87ff36b-99bb-4e68-9039-e72695b921a9",
   "metadata": {},
   "source": [
    "#### 1) Different modes used when opening a file in Python (e.g., r, w, a, etc.), and what do they mean?"
   ]
  },
  {
   "cell_type": "code",
   "execution_count": null,
   "id": "96c6a922-0b1d-4ccb-97f4-584d8edaf7af",
   "metadata": {},
   "outputs": [],
   "source": [
    "When opening a file in Python using the open() function, you can specify a mode to indicate what type of operation you want to perform on the file. The most common modes are:\n",
    "\n",
    "r: Read (default mode). Opens the file for reading. If the file does not exist, an error will be raised (FileNotFoundError).\n",
    "w: Write. Opens the file for writing. If the file already exists, its contents will be erased. If the file does not exist, a new empty file is created.\n",
    "a: Append. Opens the file for appending (writing at the end of the file). If the file doesn't exist, it creates a new one.\n",
    "x: Exclusive creation. Creates a new file, but if the file already exists, the operation will fail with an error (FileExistsError).\n",
    "b: Binary mode. Used in combination with other modes (rb, wb, ab), this treats the file as binary. This is used for non-text files (like images, videos, etc.).\n",
    "t: Text mode (default). It is the default mode and is used for reading or writing text files. No need to specify explicitly since it's the default.\n",
    "r+: Read and write. Opens the file for both reading and writing. The file must exist.\n",
    "w+: Write and read. Opens the file for both writing and reading. If the file exists, its contents are erased; if it does not exist, a new file is created.\n"
   ]
  },
  {
   "cell_type": "code",
   "execution_count": 23,
   "id": "c37d779f-9749-4082-b8fe-a5bad49081d4",
   "metadata": {},
   "outputs": [
    {
     "name": "stdout",
     "output_type": "stream",
     "text": [
      "This is a new file, and it will overwrite any existing content.\n",
      "This is new data added at the end of the file.\n"
     ]
    }
   ],
   "source": [
    "# Read mode (r)\n",
    "try:\n",
    "    with open('example.txt', 'r') as file:\n",
    "        content = file.read()\n",
    "        print(content)\n",
    "except FileNotFoundError:\n",
    "    print(\"The file does not exist.\")\n"
   ]
  },
  {
   "cell_type": "code",
   "execution_count": 17,
   "id": "64145cd7-3e76-4a65-9416-8e8b5e4ba176",
   "metadata": {},
   "outputs": [],
   "source": [
    "# Write mode (w)\n",
    "with open('example.txt', 'w') as file:\n",
    "    file.write(\"This is a new file, and it will overwrite any existing content.\")\n"
   ]
  },
  {
   "cell_type": "code",
   "execution_count": 21,
   "id": "f3e4c205-dc07-429c-ac53-7162ddcf2d7c",
   "metadata": {},
   "outputs": [],
   "source": [
    "# Append mode (a)\n",
    "with open('example.txt', 'a') as file:\n",
    "    file.write(\"\\nThis is new data added at the end of the file.\")\n"
   ]
  },
  {
   "cell_type": "code",
   "execution_count": 25,
   "id": "b637be4f-5b71-4b4c-8933-cbdae37c4edd",
   "metadata": {},
   "outputs": [
    {
     "name": "stdout",
     "output_type": "stream",
     "text": [
      "The file already exists!\n"
     ]
    }
   ],
   "source": [
    "# Exclusive creation mode (x)\n",
    "try:\n",
    "    with open('example.txt', 'x') as file:\n",
    "        file.write(\"This file is created exclusively.\")\n",
    "except FileExistsError:\n",
    "    print(\"The file already exists!\")\n"
   ]
  },
  {
   "cell_type": "code",
   "execution_count": 45,
   "id": "95078ec5-ec00-4f58-8ecc-79d0c880fae4",
   "metadata": {},
   "outputs": [
    {
     "data": {
      "text/plain": [
       "\"# Binary read mode (rb)\\nwith open('example.jpg', 'rb') as file:\\n    data = file.read()\\n    print(type(data))  # Should show <class 'bytes'>\""
      ]
     },
     "execution_count": 45,
     "metadata": {},
     "output_type": "execute_result"
    }
   ],
   "source": [
    "\"\"\"# Binary read mode (rb)\n",
    "with open('example.jpg', 'rb') as file:\n",
    "    data = file.read()\n",
    "    print(type(data))  # Should show <class 'bytes'>\"\"\"\n"
   ]
  },
  {
   "cell_type": "code",
   "execution_count": 35,
   "id": "6e346254-c870-4cc0-af12-0453f0497c6b",
   "metadata": {},
   "outputs": [],
   "source": [
    "# Binary write mode (wb)\n",
    "with open('new_image.jpg', 'wb') as file:\n",
    "    file.write(b'\\x89PNG\\r\\n\\x1a\\n\\x00\\x00\\x00\\x0D')\n"
   ]
  },
  {
   "cell_type": "code",
   "execution_count": 43,
   "id": "0496963f-b461-43b1-b97f-1de20fc10ab7",
   "metadata": {},
   "outputs": [
    {
     "data": {
      "text/plain": [
       "\"# Text mode (t) (default)\\nwith open('example.txt', 't') as file:\\n    content = file.read()\\n    print(content)\""
      ]
     },
     "execution_count": 43,
     "metadata": {},
     "output_type": "execute_result"
    }
   ],
   "source": [
    "\"\"\"# Text mode (t) (default)\n",
    "with open('example.txt', 't') as file:\n",
    "    content = file.read()\n",
    "    print(content)\"\"\"\n"
   ]
  },
  {
   "cell_type": "markdown",
   "id": "8e411380-47d2-48d5-9ed7-1072cc5ee08b",
   "metadata": {},
   "source": [
    "#### 2) Difference between text files and binary files."
   ]
  },
  {
   "cell_type": "markdown",
   "id": "8df58d09-cce3-453b-8145-ff71874ea07f",
   "metadata": {},
   "source": [
    "Text Files:\n",
    "\n",
    "Contain readable characters that can be opened in a text editor.\n",
    "Each character is represented by a specific encoding (such as UTF-8 or ASCII).\n",
    "Operations on text files (like reading and writing) treat them as strings of characters.\n",
    "Example: .txt, .csv, .html.\n",
    "\n",
    "\n",
    "Binary Files:\n",
    "\n",
    "Contain data in a non-human-readable format. They may represent images, videos, audio, or executable files.\n",
    "The data is not decoded into characters, but rather raw binary data (bytes).\n",
    "Example: .jpg, .mp3, .exe.\n"
   ]
  },
  {
   "cell_type": "markdown",
   "id": "6e9cc647-dd20-4267-89a9-96a1075a1957",
   "metadata": {},
   "source": [
    "#### 3) Purpose of the with statement when working with files in Python."
   ]
  },
  {
   "cell_type": "markdown",
   "id": "681e8970-18d1-4b2b-8f60-11678af8384b",
   "metadata": {},
   "source": [
    "The with statement is used to simplify resource management, especially when working with files. It automatically handles the opening and closing of the file, ensuring that the file is properly closed, even if an error occurs. This eliminates the need for calling close() manually."
   ]
  },
  {
   "cell_type": "code",
   "execution_count": 72,
   "id": "3460a21a-c301-4ef2-857e-0673fe0944bc",
   "metadata": {},
   "outputs": [
    {
     "name": "stdout",
     "output_type": "stream",
     "text": [
      "Hi, I am Ruddhi.\n"
     ]
    }
   ],
   "source": [
    "with open('file.txt', 'r') as file:\n",
    "    content = file.read()\n",
    "    print(content)\n"
   ]
  },
  {
   "cell_type": "markdown",
   "id": "76804814-8e27-40b9-ac01-bdd4c1b18cbe",
   "metadata": {},
   "source": [
    "#### 4) What happens if you try to read from a file that does not exist? How can you prevent the program from crashing?"
   ]
  },
  {
   "cell_type": "code",
   "execution_count": null,
   "id": "65d6711f-9204-4fdb-94f6-db75ac191923",
   "metadata": {},
   "outputs": [],
   "source": [
    "If you try to read from a file that does not exist, Python will raise a FileNotFoundError.\n",
    "\n",
    "To prevent the program from crashing, you can use a try and except block to handle the error."
   ]
  },
  {
   "cell_type": "code",
   "execution_count": 75,
   "id": "bfc54710-4246-487a-9b9f-81cdccabf522",
   "metadata": {},
   "outputs": [
    {
     "name": "stdout",
     "output_type": "stream",
     "text": [
      "The file does not exist.\n"
     ]
    }
   ],
   "source": [
    "try:\n",
    "    with open('nonexistent_file.txt', 'r') as file:\n",
    "        content = file.read()\n",
    "except FileNotFoundError:\n",
    "    print(\"The file does not exist.\")\n"
   ]
  },
  {
   "cell_type": "markdown",
   "id": "444d4e20-95d0-4ee5-8663-7e0be96237f8",
   "metadata": {},
   "source": [
    "#### 5) Difference between using open() and close() explicitly versus using a context manager (with statement) to handle file operations."
   ]
  },
  {
   "cell_type": "code",
   "execution_count": null,
   "id": "07112c61-f98c-4a3c-acb3-f47393e04d93",
   "metadata": {},
   "outputs": [],
   "source": [
    "Using open() and close() explicitly:\n",
    "\n",
    "You manually open the file using open(), perform operations, and then close the file using close().\n",
    "You must ensure that close() is called, or the file may remain open, leading to resource leaks."
   ]
  },
  {
   "cell_type": "code",
   "execution_count": 78,
   "id": "f166d98d-26e7-4667-8f4c-dcf7e1f19efe",
   "metadata": {},
   "outputs": [],
   "source": [
    "file = open('file.txt', 'r')\n",
    "content = file.read()\n",
    "file.close()\n"
   ]
  },
  {
   "cell_type": "code",
   "execution_count": null,
   "id": "c8f47876-7e68-438b-a42e-ab9415ea92ad",
   "metadata": {},
   "outputs": [],
   "source": [
    "Using with statement (Context Manager):\n",
    "\n",
    "The with statement automatically takes care of opening and closing the file. You don’t need to manually close the file; it’s closed automatically when exiting the block.\n",
    "This approach is more robust and cleaner, especially when errors occur during the file operation."
   ]
  },
  {
   "cell_type": "code",
   "execution_count": 80,
   "id": "25c29579-b403-47eb-aae1-3996df80739c",
   "metadata": {},
   "outputs": [
    {
     "name": "stdout",
     "output_type": "stream",
     "text": [
      "Hi, I am Ruddhi.\n"
     ]
    }
   ],
   "source": [
    "with open('file.txt', 'r') as file:\n",
    "    content = file.read()\n",
    "    print(content)"
   ]
  },
  {
   "cell_type": "markdown",
   "id": "bf89b8fe-8ad7-433a-92ae-fbfe7f0f0d62",
   "metadata": {},
   "source": [
    "#### 6) How to handle reading and writing CSV, JSON, or XML files using Python."
   ]
  },
  {
   "cell_type": "code",
   "execution_count": null,
   "id": "cafc403d-689d-4f44-ae5a-ff18ff0d3f65",
   "metadata": {},
   "outputs": [],
   "source": [
    "CSV Files:\n",
    "Use the csv module to read and write CSV files."
   ]
  },
  {
   "cell_type": "code",
   "execution_count": 85,
   "id": "a0eff0b1-5520-4714-b2a9-e7ad7729a6ab",
   "metadata": {},
   "outputs": [
    {
     "name": "stdout",
     "output_type": "stream",
     "text": [
      "data.csv has been created and written.\n"
     ]
    }
   ],
   "source": [
    "import csv\n",
    "\n",
    "# Data to be written to CSV file\n",
    "data = [\n",
    "    ['Name', 'Age', 'City'],\n",
    "    ['John', 28, 'New York'],\n",
    "    ['Alice', 24, 'Los Angeles'],\n",
    "    ['Bob', 30, 'Chicago']\n",
    "]\n",
    "\n",
    "# Writing to the CSV file\n",
    "with open('data.csv', 'w', newline='') as file:\n",
    "    writer = csv.writer(file)\n",
    "    writer.writerows(data)\n",
    "\n",
    "print(\"data.csv has been created and written.\")\n"
   ]
  },
  {
   "cell_type": "code",
   "execution_count": 87,
   "id": "a59eba47-327a-41da-9a55-839a061d1da8",
   "metadata": {},
   "outputs": [
    {
     "name": "stdout",
     "output_type": "stream",
     "text": [
      "['Name', 'Age', 'City']\n",
      "['John', '28', 'New York']\n",
      "['Alice', '24', 'Los Angeles']\n",
      "['Bob', '30', 'Chicago']\n"
     ]
    }
   ],
   "source": [
    "with open('data.csv', 'r') as file:\n",
    "    reader = csv.reader(file)\n",
    "    for row in reader:\n",
    "        print(row)\n"
   ]
  },
  {
   "cell_type": "code",
   "execution_count": null,
   "id": "0c8531c4-f11e-4692-8c2e-5bde809f432c",
   "metadata": {},
   "outputs": [],
   "source": [
    "JSON Files:\n",
    "Use the json module to read and write JSON files.(dictionary type)"
   ]
  },
  {
   "cell_type": "code",
   "execution_count": 89,
   "id": "5518b2cd-c9cc-44eb-9d6b-9eda3c66563d",
   "metadata": {},
   "outputs": [
    {
     "name": "stdout",
     "output_type": "stream",
     "text": [
      "[{'name': 'john doe', 'email': 'JOHN@example.com', 'phone_number': '123-456-7890', 'address': '123 Main St, New York, NY 10001'}, {'name': 'jane smith', 'email': 'Jane.Smith@Email.com', 'phone_number': '(123) 456 7890', 'address': '456 Elm St, Los Angeles, CA 90001'}, {'name': 'john doe', 'email': 'john@example.com', 'phone_number': '1234567890', 'address': '123 Main St, New York, NY 10001'}, {'name': 'Jane Smith', 'email': 'jane.smith@email.com', 'phone_number': '123-456-7890', 'address': '456 Elm St, Los Angeles, CA 90001'}, {'name': 'john doe', 'email': 'john_doe@example.com', 'phone_number': '123 456 7890', 'address': '123 Main St, New York, NY 10001'}, {'name': 'mary johnson', 'email': 'mary_johnson@domain.com', 'phone_number': '234-567-8901', 'address': '789 Oak St, Chicago, IL 60601'}, {'name': 'Mary Johnson', 'email': 'mary.johnson@domain.com', 'phone_number': '234 567 8901', 'address': '789 Oak St, Chicago, IL 60601'}, {'name': 'susan brown', 'email': 'SUSAN.BROWN@EXAMPLE.com', 'phone_number': '345-678-9012', 'address': '101 Pine St, Miami, FL 33101'}, {'name': 'SUSAN BROWN', 'email': 'susan.brown@example.com', 'phone_number': '3456789012', 'address': '101 Pine St, Miami, FL 33101'}, {'name': 'James White', 'email': 'james.white@example.com', 'phone_number': '456-789-0123', 'address': '202 Maple St, Boston, MA 02101'}]\n"
     ]
    }
   ],
   "source": [
    "import json\n",
    "\n",
    "# Reading a JSON file\n",
    "with open('data.json', 'r') as file:\n",
    "    data = json.load(file)\n",
    "    print(data)\n",
    "\n",
    "# Writing to a JSON file\n",
    "with open('data.json', 'w') as file:\n",
    "    json.dump({'name': 'John', 'age': 30}, file)\n"
   ]
  },
  {
   "cell_type": "code",
   "execution_count": null,
   "id": "467cf7bf-57d1-4608-b0ff-2eca93715c50",
   "metadata": {},
   "outputs": [],
   "source": [
    "XML Files:\n",
    "Use the xml.etree.ElementTree module to read and write XML files."
   ]
  },
  {
   "cell_type": "markdown",
   "id": "41989095-8863-4396-a298-0a9cdb6e60c9",
   "metadata": {},
   "source": [
    "import xml.etree.ElementTree as ET\n",
    "\n",
    "\n",
    "# Writing to an XML file\n",
    "root = ET.Element('person')\n",
    "name = ET.SubElement(root, 'name')\n",
    "name.text = 'John'\n",
    "tree = ET.ElementTree(root)\n",
    "tree.write('output.xml')\n",
    "\n",
    "# Reading an XML file\n",
    "tree = ET.parse('data.xml')\n",
    "root = tree.getroot()\n",
    "for child in root:\n",
    "    print(child.tag, child.text)\n"
   ]
  },
  {
   "cell_type": "markdown",
   "id": "af92e91e-b2f7-4713-8e95-c586179a9e4d",
   "metadata": {},
   "source": [
    "#### 7) Handling file read/write operations to ensure data integrity and avoid corruption (for backup system)."
   ]
  },
  {
   "cell_type": "code",
   "execution_count": null,
   "id": "f3f08ceb-09bd-40ba-b93c-8234222bd694",
   "metadata": {},
   "outputs": [],
   "source": [
    "For a backup system, it’s important to ensure that data is not lost or corrupted during file operations. Here are some strategies:\n",
    "\n",
    "Use atomic operations: Write to a temporary file first, and then rename it to the destination file. This ensures the original file is not altered in case of an error.\n",
    "Error handling: Use try-except blocks to handle unexpected errors during file operations.\n",
    "File locks: Use file locking to prevent multiple processes from accessing the same file simultaneously, which could lead to corruption."
   ]
  },
  {
   "cell_type": "code",
   "execution_count": null,
   "id": "44db8801-3868-4218-99e2-7a8e82c8c85b",
   "metadata": {},
   "outputs": [],
   "source": [
    "Example of atomic write (using temporary files):"
   ]
  },
  {
   "cell_type": "code",
   "execution_count": 98,
   "id": "ffd2cf0e-0321-49ba-8b4c-c61adb5becd2",
   "metadata": {},
   "outputs": [
    {
     "name": "stdout",
     "output_type": "stream",
     "text": [
      "Error during backup: [Errno 2] No such file or directory: 'source_file.txt'\n"
     ]
    }
   ],
   "source": [
    "import os\n",
    "import shutil\n",
    "\n",
    "def backup_file(source, destination):\n",
    "    try:\n",
    "        temp_file = destination + '.tmp'\n",
    "        shutil.copy(source, temp_file)  # Copy file to temporary location\n",
    "        os.rename(temp_file, destination)  # Rename to destination file (atomic)\n",
    "    except Exception as e:\n",
    "        print(f\"Error during backup: {e}\")\n",
    "\n",
    "backup_file('source_file.txt', 'backup_file.txt')\n"
   ]
  },
  {
   "cell_type": "code",
   "execution_count": null,
   "id": "84f1a07e-10c4-4edf-9ceb-3656e8779ae4",
   "metadata": {},
   "outputs": [],
   "source": []
  }
 ],
 "metadata": {
  "kernelspec": {
   "display_name": "Python 3 (ipykernel)",
   "language": "python",
   "name": "python3"
  },
  "language_info": {
   "codemirror_mode": {
    "name": "ipython",
    "version": 3
   },
   "file_extension": ".py",
   "mimetype": "text/x-python",
   "name": "python",
   "nbconvert_exporter": "python",
   "pygments_lexer": "ipython3",
   "version": "3.12.4"
  }
 },
 "nbformat": 4,
 "nbformat_minor": 5
}
