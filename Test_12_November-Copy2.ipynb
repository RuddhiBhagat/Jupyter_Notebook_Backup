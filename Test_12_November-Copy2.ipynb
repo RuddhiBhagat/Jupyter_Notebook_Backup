{
 "cells": [
  {
   "cell_type": "markdown",
   "id": "e13c3125-642a-414c-8f91-3a3616003298",
   "metadata": {},
   "source": [
    "### Ruddhi Bhagat Test Notebook\n"
   ]
  },
  {
   "cell_type": "markdown",
   "id": "166c2c6a-56da-46d4-b5b1-0524eb19b7f8",
   "metadata": {},
   "source": [
    "**1) What are the pros and cons of a microservices architecture?**"
   ]
  },
  {
   "cell_type": "raw",
   "id": "04496cad-8853-49e0-8176-ddfa524fe2d4",
   "metadata": {},
   "source": [
    "**Pros of Microservices**\t\n",
    "    1.Scalability can be achieved using microservices architecture. We can scale services independently.\t\n",
    "    2.Different services can use different technologies and frameworks.Suppose one service uses machine learning algorithms then other miht use java technologies to carry out specific task.\n",
    "    3.Due to independence in building services, fast development and deployment can be achieved.\n",
    "    4.Failures in one service don’t affect the entire system.\n",
    "    5.Smaller and focused services are easier to maintain and update independently.\n",
    "    6.Though they are independent still they can communicate with each other through API's.\n",
    "========================================================================================================================================================\n",
    "**Cons of Microservices**\n",
    "    1.Higher system complexity due to multiple services requiring management.\n",
    "    2.Managing a large number of services can become complex. Each service needs to be monitored, deployed, and scaled independently.\n",
    "    3.Since microservices often communicate over a network, handling issues like network latency, failure recovery, and data consistency across services can be difficult.\n",
    "    4.Testing a system with many microservices can be more challenging ."
   ]
  },
  {
   "cell_type": "markdown",
   "id": "1e153929-1423-4ca0-841a-b72d6764ea39",
   "metadata": {},
   "source": [
    "**2) What is the Singleton pattern, and when would you use it?**\n"
   ]
  },
  {
   "cell_type": "raw",
   "id": "e757b8bb-b3b4-4ed9-ad76-08a62444d8c4",
   "metadata": {},
   "source": [
    "The Singleton pattern is a creational design pattern that ensures a class has only one instance throughout the application's lifecycle and provides a global point of access to that instance. In other words, it restricts the instantiation of a class to a single object and ensures that all parts of the application use the same instance.\n",
    "**When to use it**  \n",
    "1.You need global access to a single resource or service throughout your application.\n",
    "2.You want to control the instantiation of a resource to ensure it is only created once, saving resources and ensuring consistency across the system.\n",
    "3.If you need to create the Singleton instance only when it’s needed, rather than upfront. This can be useful for reducing resource usage at the start of the application.\n"
   ]
  },
  {
   "cell_type": "markdown",
   "id": "5eb3f552-cafc-456d-a996-8df4a459b39e",
   "metadata": {},
   "source": [
    "**3) What is the typical structure of a Python program?**\n"
   ]
  },
  {
   "cell_type": "markdown",
   "id": "228565e7-61b5-4444-9be6-4ecd7d8cb88a",
   "metadata": {},
   "source": [
    "The structure of a Python program generally follows as defining funcion, main function and then in that function calling and printing the results ,making the code readable and maintainable."
   ]
  },
  {
   "cell_type": "code",
   "execution_count": 20,
   "id": "ac32a944-7305-42eb-a027-6bce57603c4b",
   "metadata": {},
   "outputs": [
    {
     "name": "stdin",
     "output_type": "stream",
     "text": [
      "Enter the first number:  2\n",
      "Enter the second number:  3\n"
     ]
    },
    {
     "name": "stdout",
     "output_type": "stream",
     "text": [
      "The sum of 2.0 and 3.0 is: 5.0\n"
     ]
    }
   ],
   "source": [
    "# Function to add two numbers\n",
    "def add(a, b):\n",
    "    \"\"\"Returns the sum of a and b.\"\"\"\n",
    "    return a + b\n",
    "\n",
    "# Main program logic\n",
    "if __name__ == \"__main__\":\n",
    "    # Get user input for two numbers\n",
    "    num1 = float(input(\"Enter the first number: \"))\n",
    "    num2 = float(input(\"Enter the second number: \"))\n",
    "\n",
    "    # Perform the addition and display the result\n",
    "    result = add(num1, num2)\n",
    "    print(f\"The sum of {num1} and {num2} is: {result}\")\n"
   ]
  },
  {
   "cell_type": "markdown",
   "id": "ad87260a-4655-4726-bd5c-83a8d5cae353",
   "metadata": {},
   "source": [
    "\n",
    "**4) What are some best practices for structuring Python code to ensure readability?**\n"
   ]
  },
  {
   "cell_type": "markdown",
   "id": "4c89f67a-4ef3-440e-8b67-137af32afd5e",
   "metadata": {},
   "source": [
    "1. Follow indentation\n",
    "2. Use valid and meaningful variable names.\n",
    "3. Use uppercase letters to define constants.\n",
    "4. Write comments where needed in order to understand code to other readers.\n",
    "5. functions should be named properly.\n",
    "6. dont write all methods in similar class,rather group them according to their tasks.\n",
    "7. Minimize the use of global variables. Pass data through function parameters."
   ]
  },
  {
   "cell_type": "markdown",
   "id": "83558d7c-bdbd-4828-a910-5c21a332781b",
   "metadata": {},
   "source": [
    "**5) Can you modify a global variable inside a function without using the global keyword?**\n"
   ]
  },
  {
   "cell_type": "markdown",
   "id": "6d77af3b-b720-4c52-9a0d-ca8de27b58df",
   "metadata": {},
   "source": [
    "In Python, we cannot modify a global variable directly inside a function without using the global keyword."
   ]
  },
  {
   "cell_type": "code",
   "execution_count": 35,
   "id": "4c056dfd-0bad-4fbb-90c8-ba180fd36d23",
   "metadata": {},
   "outputs": [
    {
     "name": "stdout",
     "output_type": "stream",
     "text": [
      "20\n"
     ]
    }
   ],
   "source": [
    "x = 10  # Global variable\n",
    "\n",
    "def modify_global():\n",
    "    global x \n",
    "    x = 20 \n",
    "\n",
    "modify_global()\n",
    "print(x) \n"
   ]
  },
  {
   "cell_type": "markdown",
   "id": "ba2a9fa6-b663-408f-a377-a24858a8e4e1",
   "metadata": {},
   "source": [
    "\n",
    "**6) Can you use the global keyword in a class?**"
   ]
  },
  {
   "cell_type": "markdown",
   "id": "7dbb945b-9bb5-4b8d-b8fc-05c5922be54a",
   "metadata": {},
   "source": [
    "Yes, we can use the global keyword inside a class. The global keyword allows you to modify a variable that is defined in the global scope (outside the class and function). However, in a class, we typically work with instance variables and class variables, rather than global variables."
   ]
  },
  {
   "cell_type": "code",
   "execution_count": 43,
   "id": "57e2d29d-8bac-4860-971a-3cc9aa21019e",
   "metadata": {},
   "outputs": [
    {
     "name": "stdout",
     "output_type": "stream",
     "text": [
      "Before modification: x = 10, instance_variable = 5\n",
      "After modification: x = 20, instance_variable = 15\n"
     ]
    }
   ],
   "source": [
    "x = 10  # Global variable\n",
    "\n",
    "class MyClass:\n",
    "    def __init__(self):\n",
    "        self.instance_variable = 5  # Instance variable\n",
    "\n",
    "    def modify_global(self):\n",
    "        global x  # Declare that x is a global variable\n",
    "        x = 20  # Modify the global variable\n",
    "\n",
    "    def modify_instance(self):\n",
    "        self.instance_variable = 15  # Modify an instance variable\n",
    "\n",
    "# Create an instance of MyClass\n",
    "obj = MyClass()\n",
    "\n",
    "print(f\"Before modification: x = {x}, instance_variable = {obj.instance_variable}\")\n",
    "\n",
    "# Modify the global variable using the class method\n",
    "obj.modify_global()\n",
    "# Modify the instance variable using the class method\n",
    "obj.modify_instance()\n",
    "\n",
    "print(f\"After modification: x = {x}, instance_variable = {obj.instance_variable}\")"
   ]
  },
  {
   "cell_type": "markdown",
   "id": "e114e389-f755-4823-9692-4b7544359c53",
   "metadata": {},
   "source": [
    "**7) What are the potential issues with using global variables in large programs?**\n"
   ]
  },
  {
   "cell_type": "raw",
   "id": "551c2745-bf8e-47ea-9476-3e639866265d",
   "metadata": {},
   "source": [
    "Here are the potential issues with using global variables in large programs:\n",
    "1.Difficult to track and debug.\n",
    "2.Makes code hard to test.\n",
    "3.Harder to maintain.\n",
    "4.Global variables are hard to track across large codebases.\n",
    "5.It can be changed from anywhere so tracking the exact value might be difficult."
   ]
  },
  {
   "cell_type": "markdown",
   "id": "d0e59de7-c2af-4af3-9c46-5a4e82cda663",
   "metadata": {},
   "source": [
    "**8) What is the difference between is and == in Python when comparing variables?**\n"
   ]
  },
  {
   "cell_type": "markdown",
   "id": "7d210a73-98d8-48d7-a2d1-d72804d0899f",
   "metadata": {},
   "source": [
    "1. == is a Equality operator. It checks whether the data or content of the two objects is equal.\n",
    "2. The == operator is used to compare the values of two variables or objects."
   ]
  },
  {
   "cell_type": "code",
   "execution_count": 50,
   "id": "6273b02f-a503-47f3-bf19-ea0a25a8dfb6",
   "metadata": {},
   "outputs": [
    {
     "name": "stdout",
     "output_type": "stream",
     "text": [
      "True\n"
     ]
    }
   ],
   "source": [
    "a = [1, 2, 3]\n",
    "b = [1, 2, 3]\n",
    "\n",
    "print(a == b)  # True, because their values are the same\n"
   ]
  },
  {
   "cell_type": "markdown",
   "id": "011d2062-4d41-462a-803d-31863fa89705",
   "metadata": {},
   "source": [
    "1. 'is' is a identity operator.\n",
    "2. It checks for object identity, i.e., whether the two variables point to the exact same location in memory.\n",
    "   "
   ]
  },
  {
   "cell_type": "code",
   "execution_count": 54,
   "id": "f10a3d1b-e295-4bb2-b691-82dd539412c5",
   "metadata": {},
   "outputs": [
    {
     "name": "stdout",
     "output_type": "stream",
     "text": [
      "False\n"
     ]
    }
   ],
   "source": [
    "a = [1, 2, 3]\n",
    "b = [1, 2, 3]\n",
    "\n",
    "print(a is b)  # False, because they are different objects in memory, even though their content is the same\n"
   ]
  },
  {
   "cell_type": "markdown",
   "id": "b7dce443-6c68-4eaa-b3cb-a819373675f0",
   "metadata": {},
   "source": [
    "\n",
    "**9) How does Python handle variable assignment and memory management?**\n"
   ]
  },
  {
   "cell_type": "raw",
   "id": "c07f7d5d-4b8e-49c8-8dea-684be18d9b54",
   "metadata": {},
   "source": [
    "1.In Python, variable assignment and memory management are handled automatically by the interpreter.\n",
    "Variable assignment\n",
    "When you assign a value to a variable in Python, the interpreter doesn’t actually “create” a variable in the way that low-level languages do.\n",
    "Instead, it associates the variable name with a reference to an object in memory. Python uses a system of names (variables) and objects (data).\n",
    "\n"
   ]
  },
  {
   "cell_type": "raw",
   "id": "3c72e28b-351f-4e8d-b6ff-8ce9dc941873",
   "metadata": {},
   "source": [
    "x = 10\n",
    "#here what happens:\n",
    "#Python creates an integer object with the value 10 in memory.\n",
    "#The variable x is then bound to that integer object. Essentially, x becomes a reference to the object 10.\n"
   ]
  },
  {
   "cell_type": "raw",
   "id": "70d01688-7b42-4a45-a0ae-062b68100f2d",
   "metadata": {},
   "source": [
    "Memory Management\n",
    "Python uses an automatic memory management system with garbage collection to handle the allocation and deallocation of memory. This system involves:\n",
    "1.Reference counting\n",
    "2.Garbage collection (via cyclic garbage collector)\n",
    "Python uses reference counting to keep track of how many references (variables) point to an object.\n",
    "When an object’s reference count drops to zero (i.e., no variables are referencing it), the object is automatically deallocated (freed from memory).\n"
   ]
  },
  {
   "cell_type": "code",
   "execution_count": 62,
   "id": "e3424794-31b6-454d-87ca-7763411764ed",
   "metadata": {},
   "outputs": [],
   "source": [
    "a = [1, 2, 3]\n",
    "b = a  # Both a and b refer to the same list\n",
    "\n",
    "del a  # The reference count of the list is now 1, because only b refers to it\n",
    "del b  # Now the reference count drops to 0, and the list is deallocated\n"
   ]
  },
  {
   "cell_type": "markdown",
   "id": "96fc3ddd-20cd-4db0-9562-6d1a62780d1d",
   "metadata": {},
   "source": [
    "In addition to reference counting, Python has a garbage collector that runs periodically\n",
    "to identify and clean up objects that are no longer in use."
   ]
  },
  {
   "cell_type": "markdown",
   "id": "4f91d0ea-d26e-45d3-ab3e-8c1fe099043c",
   "metadata": {},
   "source": [
    "\n",
    "**10) What is the difference between mutable and immutable types in Python?**\n"
   ]
  },
  {
   "cell_type": "raw",
   "id": "7eeef734-4ffb-49d5-89d4-5c9d42319204",
   "metadata": {},
   "source": [
    "1. Mutable Types:\n",
    "Mutable types are those whose values can be changed after the object is created. \n",
    "You can modify the content of the object in-place without creating a new object.\n",
    "Example of mutable types: Lists, dictionaries, sets, byte arrays."
   ]
  },
  {
   "cell_type": "code",
   "execution_count": 67,
   "id": "70f51887-3986-44bc-8cb5-dd4ebc7beb80",
   "metadata": {},
   "outputs": [
    {
     "name": "stdout",
     "output_type": "stream",
     "text": [
      "[1, 2, 3, 4]\n",
      "[1, 2, 3, 4]\n"
     ]
    }
   ],
   "source": [
    "a = [1, 2, 3]\n",
    "b = a  # Both `a` and `b` refer to the same list\n",
    "\n",
    "a.append(4)  # Modify the list through `a`\n",
    "print(a)  # [1, 2, 3, 4]\n",
    "print(b)  # [1, 2, 3, 4] (also affected because `a` and `b` refer to the same object)\n"
   ]
  },
  {
   "cell_type": "markdown",
   "id": "baed0f23-06b1-4df0-a636-7d0f3d77d293",
   "metadata": {},
   "source": [
    "2. Immutable Types:\n",
    "Immutable types are those whose values cannot be changed after the object is created.\n",
    "If you try to modify an immutable object, Python will create a new object instead of modifying the original one.\n",
    "Example of immutable types: Integers, floats, strings, tuples, frozensets."
   ]
  },
  {
   "cell_type": "code",
   "execution_count": 69,
   "id": "6abc4224-6c7d-46ae-a0af-4c4c77eb7ec2",
   "metadata": {},
   "outputs": [
    {
     "name": "stdout",
     "output_type": "stream",
     "text": [
      "hello world\n",
      "hello\n"
     ]
    }
   ],
   "source": [
    "# Immutable type: String\n",
    "a = \"hello\"\n",
    "b = a  # `b` and `a` refer to the same string initially\n",
    "\n",
    "a = a + \" world\"  # This creates a new string object\n",
    "print(a)  # \"hello world\"\n",
    "print(b)  # \"hello\" (remains unchanged because strings are immutable)\n"
   ]
  },
  {
   "cell_type": "markdown",
   "id": "ed3037d1-3a15-41c5-b882-61bec1a55970",
   "metadata": {},
   "source": [
    "**11) What are Python's built-in data types for variables?**\n"
   ]
  },
  {
   "cell_type": "raw",
   "id": "1ade2cc8-374a-4bf8-a4fd-701fccdeb8f1",
   "metadata": {},
   "source": [
    "Category\t  |     Data Types\t              |        Example\n",
    "Numeric Types | int, float, complex       \t  | x = 5, y = 3.14, z = 2 + 3j\n",
    "Sequence Types|\tlist, tuple, range\t          | my_list = [1, 2, 3], my_tuple = (1, 2), my_range = range(5)\n",
    "Mapping Types |\tdict\t                      | my_dict = {\"name\": \"Alice\"}\n",
    "Set Types\t  | set, frozenset\t              | my_set = {1, 2, 3}, my_frozenset = frozenset([1, 2])\n",
    "Boolean Type  | bool\t                      | is_valid = True\n",
    "Binary Types  | bytes, bytearray, memoryview  | my_bytes = b\"hello\", my_bytearray = bytearray([65])\n",
    "None Type\t  | NoneType\t                  | my_var = None"
   ]
  },
  {
   "cell_type": "markdown",
   "id": "6c6b844b-c94c-4da4-97df-0bf946d9659f",
   "metadata": {},
   "source": [
    "**12) What is the difference between math.pow(x, y) and x ** y in Python?**"
   ]
  },
  {
   "cell_type": "raw",
   "id": "c46bfa84-8021-4dee-9078-4b5624d4b619",
   "metadata": {},
   "source": [
    "In Python, both math.pow(x, y) and x ** y are used to calculate the power of a number, i.e. x raised to the power of y.\n",
    "1. math.pow(x, y)\n",
    "math.pow(x, y) is a function in the math module, and it is used to calculate \n",
    "(x raised to the power of y).\n",
    "It always returns a floating-point result, even if both x and y are integers\n",
    "You need to import the math module before using math.pow()."
   ]
  },
  {
   "cell_type": "code",
   "execution_count": 73,
   "id": "c98efa96-0d81-4b6f-a4e9-d3493dd6f920",
   "metadata": {},
   "outputs": [
    {
     "name": "stdout",
     "output_type": "stream",
     "text": [
      "8.0\n"
     ]
    }
   ],
   "source": [
    "import math\n",
    "\n",
    "result = math.pow(2, 3)\n",
    "print(result)  # 8.0 (returns float)\n"
   ]
  },
  {
   "cell_type": "raw",
   "id": "f03903ff-6910-47ba-9694-f4de7ee8463d",
   "metadata": {},
   "source": [
    "2.x ** y (Exponentiation Operator)\n",
    "x ** y is the exponentiation operator in Python, used to raise x to the power of y.\n",
    "This operator works with both integers and floating-point numbers and will return an integer or float depending on the input values.\n",
    "This is a built-in operator and does not require importing any module."
   ]
  },
  {
   "cell_type": "code",
   "execution_count": 75,
   "id": "1d7a8f37-3bfd-4ff8-a604-bd51934e174d",
   "metadata": {},
   "outputs": [
    {
     "name": "stdout",
     "output_type": "stream",
     "text": [
      "8\n",
      "8.0\n"
     ]
    }
   ],
   "source": [
    "result = 2 ** 3\n",
    "print(result)  # 8 (returns integer)\n",
    "\n",
    "result2 = 2 ** 3.0\n",
    "print(result2)  # 8.0 (returns float)\n"
   ]
  },
  {
   "cell_type": "markdown",
   "id": "6d08530f-84a2-4448-ae38-36f8cdd8d4ac",
   "metadata": {},
   "source": [
    "**13) What is the difference between random.sample() and random.shuffle()?**\n"
   ]
  },
  {
   "cell_type": "raw",
   "id": "5d2f8439-86cd-4b98-9fd1-3593b4e2bb8b",
   "metadata": {},
   "source": [
    "1. random.sample()\n",
    "The original list remains unchanged.\n",
    "It returns a new list of randomly selected elements.\n",
    "You can specify the number of elements you want to randomly select."
   ]
  },
  {
   "cell_type": "code",
   "execution_count": 78,
   "id": "dcce265d-7d8f-49b9-a558-3c76b4196191",
   "metadata": {},
   "outputs": [
    {
     "name": "stdout",
     "output_type": "stream",
     "text": [
      "[5, 4, 6]\n",
      "[1, 2, 3, 4, 5, 6]\n"
     ]
    }
   ],
   "source": [
    "import random\n",
    "# Sample 3 random elements from a list\n",
    "my_list = [1, 2, 3, 4, 5, 6]\n",
    "sampled = random.sample(my_list, 3)\n",
    "print(sampled)  # Output: A new list with 3 random elements\n",
    "print(my_list)  # Original list remains unchanged\n"
   ]
  },
  {
   "cell_type": "raw",
   "id": "219feaa8-c555-4fc9-8bbb-9ff7675d9787",
   "metadata": {},
   "source": [
    "2.random.shuffle()\n",
    "It modifies the original list in place.\n",
    "The function does not return anything (None is returned).\n",
    "It randomizes the order of the elements."
   ]
  },
  {
   "cell_type": "code",
   "execution_count": 80,
   "id": "6b841f7d-147f-4e31-8feb-00bcd1e509d7",
   "metadata": {},
   "outputs": [
    {
     "name": "stdout",
     "output_type": "stream",
     "text": [
      "[2, 1, 4, 5, 3]\n"
     ]
    }
   ],
   "source": [
    "import random\n",
    "# Shuffle a list in place\n",
    "my_list = [1, 2, 3, 4, 5]\n",
    "random.shuffle(my_list)\n",
    "print(my_list)  # Output: A shuffled list\n"
   ]
  },
  {
   "cell_type": "markdown",
   "id": "b869b701-ffaa-4d87-af9b-6a12bcea6067",
   "metadata": {},
   "source": [
    "\n",
    "**14) How would you create a random string of fixed length in Python?**\n"
   ]
  },
  {
   "cell_type": "raw",
   "id": "1c5d00d3-5e30-4f43-a839-f766bca107a9",
   "metadata": {},
   "source": [
    "random.choices(): Use this if you want a random string of fixed length with potential for character repetition.\n",
    "random.sample(): Use this if you want a string with unique characters, without repetition.\n",
    "secrets.choice(): Use this when you need a cryptographically secure random string (e.g., for passwords or security purposes).\n",
    "uuid module: Use this if you need a UUID-based random string (typically for identifiers)."
   ]
  },
  {
   "cell_type": "code",
   "execution_count": 84,
   "id": "b23a5021-c6c9-4d68-a3ce-27e60b98a78b",
   "metadata": {},
   "outputs": [
    {
     "name": "stdout",
     "output_type": "stream",
     "text": [
      "GryRikRIIw\n"
     ]
    }
   ],
   "source": [
    "#Example 1 for random.choices()\n",
    "import random\n",
    "import string\n",
    "\n",
    "# Length of the random string\n",
    "length = 10\n",
    "\n",
    "# Create a random string of the specified length\n",
    "random_string = ''.join(random.choices(string.ascii_letters + string.digits, k=length))\n",
    "\n",
    "print(random_string)\n"
   ]
  },
  {
   "cell_type": "code",
   "execution_count": 86,
   "id": "0c1217e1-7ad7-43f6-b8a4-e719467c62ff",
   "metadata": {},
   "outputs": [
    {
     "name": "stdout",
     "output_type": "stream",
     "text": [
      "F6jANqpgYx\n"
     ]
    }
   ],
   "source": [
    "#Example 2 for random.sample()\n",
    "import random\n",
    "import string\n",
    "\n",
    "# Length of the random string\n",
    "length = 10\n",
    "\n",
    "# Create a random string of unique characters of the specified length\n",
    "random_string = ''.join(random.sample(string.ascii_letters + string.digits, k=length))\n",
    "\n",
    "print(random_string)\n"
   ]
  },
  {
   "cell_type": "markdown",
   "id": "302ea4c4-3e7e-4a37-a415-7187f250e092",
   "metadata": {},
   "source": [
    "**15) What is the purpose of the not operator in Python?**\n"
   ]
  },
  {
   "cell_type": "raw",
   "id": "9a2423a0-583e-4586-bcee-fb7dcd475438",
   "metadata": {},
   "source": [
    "Negation: The not operator negates the value of a boolean expression.\n",
    "Returns boolean: It always returns either True or False.\n",
    "Short-circuit behavior: It evaluates the expression only once and returns the negated boolean result."
   ]
  },
  {
   "cell_type": "code",
   "execution_count": 91,
   "id": "e130a7ab-5935-4966-9171-c8d9b3844a00",
   "metadata": {},
   "outputs": [
    {
     "name": "stdout",
     "output_type": "stream",
     "text": [
      "False\n",
      "True\n"
     ]
    }
   ],
   "source": [
    "x = True\n",
    "print(not x)  # Output: False \n",
    "\n",
    "y = False\n",
    "print(not y)  # Output: True\n"
   ]
  },
  {
   "cell_type": "code",
   "execution_count": 93,
   "id": "32a0583e-07cd-43f3-b0ee-21381f9acdfb",
   "metadata": {},
   "outputs": [
    {
     "name": "stdout",
     "output_type": "stream",
     "text": [
      "True\n"
     ]
    }
   ],
   "source": [
    "a = 5\n",
    "b = 10\n",
    "\n",
    "# Check if `a` is not equal to `b`\n",
    "print(not a == b)  # Output: True, because a is not equal to b\n"
   ]
  },
  {
   "cell_type": "code",
   "execution_count": 95,
   "id": "8bcd24e0-f955-4eae-9a38-33406d8b3c67",
   "metadata": {},
   "outputs": [
    {
     "name": "stdout",
     "output_type": "stream",
     "text": [
      "It's not raining!\n"
     ]
    }
   ],
   "source": [
    "is_raining = False\n",
    "\n",
    "if not is_raining:\n",
    "    print(\"It's not raining!\")  # Output: \"It's not raining!\"\n",
    "else:\n",
    "    print(\"It's raining!\")\n"
   ]
  },
  {
   "cell_type": "markdown",
   "id": "cfe6bd61-2428-4386-9ec1-497a43c66e0a",
   "metadata": {},
   "source": [
    "**16) What is short-circuiting in logical operators?**\n"
   ]
  },
  {
   "cell_type": "raw",
   "id": "640f9e55-0e76-4814-bc62-9a5e051f0709",
   "metadata": {},
   "source": [
    "Short-circuiting in logical operators refers to the behavior \n",
    "where the second operand of a logical expression is not evaluated if the result can be determined from the first operand alone.\n",
    "This behavior occurs in and and or operators in Python."
   ]
  },
  {
   "cell_type": "code",
   "execution_count": 98,
   "id": "bb28bd67-7c3b-4f2b-8bee-632057a8b48d",
   "metadata": {},
   "outputs": [
    {
     "name": "stdout",
     "output_type": "stream",
     "text": [
      "False\n"
     ]
    }
   ],
   "source": [
    "x = False\n",
    "y = 10\n",
    "\n",
    "# Since x is False, y will not be evaluated\n",
    "result = x and (y / 2)\n",
    "print(result)  # Output: False\n"
   ]
  },
  {
   "cell_type": "code",
   "execution_count": 100,
   "id": "9f655fc8-bf4c-404c-8d48-f2ed9f2ee06c",
   "metadata": {},
   "outputs": [
    {
     "name": "stdout",
     "output_type": "stream",
     "text": [
      "True\n"
     ]
    }
   ],
   "source": [
    "a = True\n",
    "b = 5\n",
    "\n",
    "# Since a is True, b will not be evaluated\n",
    "result = a or (b / 2)\n",
    "print(result)  # Output: True\n"
   ]
  },
  {
   "cell_type": "markdown",
   "id": "f2667708-7481-47b1-a467-b624b2fdb784",
   "metadata": {},
   "source": [
    "\n",
    "**17) How does the in operator work in Python?**"
   ]
  },
  {
   "cell_type": "markdown",
   "id": "1b5a5582-a4c4-403b-b65b-78fadbe88424",
   "metadata": {},
   "source": [
    "The in operator in Python is used to check if a value exists inside a container, such as a list, tuple, string, dictionary, or other iterable objects. \n",
    "It returns a boolean value: True if the value is found, and False if it is not."
   ]
  },
  {
   "cell_type": "code",
   "execution_count": 104,
   "id": "1ecb87fd-c724-48ce-aa6e-f05db7aaaea3",
   "metadata": {},
   "outputs": [
    {
     "name": "stdout",
     "output_type": "stream",
     "text": [
      "True\n",
      "False\n"
     ]
    }
   ],
   "source": [
    "my_list = [1, 2, 3, 4, 5]\n",
    "print(3 in my_list)  # Output: True\n",
    "print(6 in my_list)  # Output: False\n"
   ]
  },
  {
   "cell_type": "code",
   "execution_count": 106,
   "id": "d009cf1e-f13c-4616-ba6b-06a5b56c3150",
   "metadata": {},
   "outputs": [
    {
     "name": "stdout",
     "output_type": "stream",
     "text": [
      "True\n",
      "False\n",
      "True\n"
     ]
    }
   ],
   "source": [
    "#it is important to note that it's different way to check whether dictionary value is present or not.\n",
    "my_dict = {'name': 'Alice', 'age': 25}\n",
    "print('name' in my_dict)  # True, because 'name' is a key in the dictionary\n",
    "print(25 in my_dict)      # False, because 25 is not a key (it's a value)\n",
    "print(25 in my_dict.values())  # True, because 25 is a value in the dictionary\n"
   ]
  },
  {
   "cell_type": "code",
   "execution_count": null,
   "id": "8d9e488c-9ece-4910-9098-86abe1fe198e",
   "metadata": {},
   "outputs": [],
   "source": []
  }
 ],
 "metadata": {
  "kernelspec": {
   "display_name": "Python 3 (ipykernel)",
   "language": "python",
   "name": "python3"
  },
  "language_info": {
   "codemirror_mode": {
    "name": "ipython",
    "version": 3
   },
   "file_extension": ".py",
   "mimetype": "text/x-python",
   "name": "python",
   "nbconvert_exporter": "python",
   "pygments_lexer": "ipython3",
   "version": "3.12.4"
  }
 },
 "nbformat": 4,
 "nbformat_minor": 5
}
