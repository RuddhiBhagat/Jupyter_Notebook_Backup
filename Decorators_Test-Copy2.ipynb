{
 "cells": [
  {
   "cell_type": "markdown",
   "id": "16e06a17-a12a-4afd-b38b-577ca78bb064",
   "metadata": {},
   "source": [
    "##### 1. Explain how decorators and closures are related. Can a decorator be implemented without using closures? Why or why not?"
   ]
  },
  {
   "cell_type": "markdown",
   "id": "e51ce3f0-70b3-4f2f-9e1c-f18e4ad0d3a6",
   "metadata": {},
   "source": [
    "how decorators and closures are related??\n",
    "\n",
    "Closure: A closure occurs when a function is defined inside another function and the inner function \"remembers\" variables\n",
    "from the outer function, even after the outer function has finished running.\n"
   ]
  },
  {
   "cell_type": "code",
   "execution_count": 6,
   "id": "df87a3f3-5407-45ff-8655-b8a421f92379",
   "metadata": {},
   "outputs": [
    {
     "name": "stdout",
     "output_type": "stream",
     "text": [
      "10\n"
     ]
    }
   ],
   "source": [
    "def outer():\n",
    "    x = 10\n",
    "    def inner():\n",
    "        print(x)  # inner function remembers 'x' from outer\n",
    "    return inner\n",
    "\n",
    "closure = outer()  # 'closure' is the inner function\n",
    "closure()  # Prints 10\n"
   ]
  },
  {
   "cell_type": "markdown",
   "id": "80c5e775-aae1-491a-b1fc-c5e1ec966e04",
   "metadata": {},
   "source": [
    "Decorator: A decorator is a function that takes another function as input, modifies or adds behavior to it, and then returns a new function.\n",
    "Decorators often use closures because they need to \"wrap\" the original function and add extra behavior while still accessing and calling the original function."
   ]
  },
  {
   "cell_type": "code",
   "execution_count": 12,
   "id": "f2e3dda9-fe3c-40f5-ba3d-042d4cddec28",
   "metadata": {},
   "outputs": [
    {
     "name": "stdout",
     "output_type": "stream",
     "text": [
      "Before calling the function.\n",
      "Hello!\n",
      "After calling the function.\n"
     ]
    }
   ],
   "source": [
    "def decorator(func):\n",
    "    def wrapper():\n",
    "        print(\"Before calling the function.\")\n",
    "        func()  # Calls the original function\n",
    "        print(\"After calling the function.\")\n",
    "    return wrapper\n",
    "\n",
    "@decorator\n",
    "def say_hello():\n",
    "    print(\"Hello!\")\n",
    "\n",
    "say_hello()  # This now calls the wrapped function\n"
   ]
  },
  {
   "cell_type": "markdown",
   "id": "1730f329-8827-4954-9e7f-63057b7b98d3",
   "metadata": {},
   "source": [
    "Decorators use closures to wrap functions and remember them, adding extra behavior before or after calling the original function.\n",
    "The wrapper function inside a decorator is a closure because it remembers and has access to the original function passed to it."
   ]
  },
  {
   "cell_type": "markdown",
   "id": "3127969d-912e-4a31-bcdc-f61949a4a194",
   "metadata": {},
   "source": [
    "Yes, a decorator can technically be implemented without using closures, but it's not typical and is less common in Python.\n",
    "Most decorators use closures because they are a simple and effective way to modify or add behavior to functions.\n",
    "However, decorators can also be implemented using classes or other techniques."
   ]
  },
  {
   "cell_type": "markdown",
   "id": "db43a5ab-227a-4a80-952a-f97d74d52b9b",
   "metadata": {},
   "source": [
    "##### 2. How do you create a parameterized decorator? Write a decorator that takes an argument specifying how many times to retry a function upon failure."
   ]
  },
  {
   "cell_type": "markdown",
   "id": "68de3519-477d-4718-ba6d-487739394155",
   "metadata": {},
   "source": [
    "To create a parameterized decorator (i.e., a decorator that takes arguments),\n",
    "you need to make the decorator itself return a function that takes arguments.\n",
    "This involves nested functions — one function to accept the arguments for the decorator, and another to wrap the original function."
   ]
  },
  {
   "cell_type": "code",
   "execution_count": 25,
   "id": "4530b2e6-8808-4d62-bc49-9e1f3af2a157",
   "metadata": {},
   "outputs": [
    {
     "name": "stdout",
     "output_type": "stream",
     "text": [
      "Running function...\n",
      "Retrying...\n",
      "Running function...\n",
      "Retrying...\n",
      "Running function...\n",
      "Retrying...\n"
     ]
    },
    {
     "data": {
      "text/plain": [
       "'Done with retrying'"
      ]
     },
     "execution_count": 25,
     "metadata": {},
     "output_type": "execute_result"
    }
   ],
   "source": [
    "# Simple retry decorator\n",
    "def retry(retries):\n",
    "    def decorator(func):\n",
    "        def wrapper():\n",
    "            for _ in range(retries):\n",
    "                func()  # Call the function each time\n",
    "                print(\"Retrying...\")\n",
    "            return \"Done with retrying\"\n",
    "        return wrapper\n",
    "    return decorator\n",
    "\n",
    "# Simple function that will be retried\n",
    "@retry(3)  # Retry 3 times\n",
    "def simple_func():\n",
    "    print(\"Running function...\")\n",
    "\n",
    "# Run the function\n",
    "simple_func()\n"
   ]
  },
  {
   "cell_type": "markdown",
   "id": "40e0c733-b78d-4e56-93b1-1c45ae4b9e22",
   "metadata": {},
   "source": [
    "##### 3. Write a simple decorator that prints the execution of a function."
   ]
  },
  {
   "cell_type": "code",
   "execution_count": 29,
   "id": "c6e83b22-e7ca-4365-8843-74a5fa2d10be",
   "metadata": {},
   "outputs": [
    {
     "name": "stdout",
     "output_type": "stream",
     "text": [
      "Executing say_hello...\n",
      "Hello!\n"
     ]
    }
   ],
   "source": [
    "# Simple decorator to print function execution\n",
    "def print_execution(func):\n",
    "    def wrapper(*args, **kwargs):\n",
    "        print(f\"Executing {func.__name__}...\")\n",
    "        return func(*args, **kwargs)  # Call the original function\n",
    "    return wrapper\n",
    "\n",
    "# Example function to use the decorator\n",
    "@print_execution\n",
    "def say_hello():\n",
    "    print(\"Hello!\")\n",
    "\n",
    "# Run the function\n",
    "say_hello()\n"
   ]
  },
  {
   "cell_type": "markdown",
   "id": "1abca9ed-07de-409c-82f9-b0b75674ee84",
   "metadata": {},
   "source": [
    "##### 4. Create a decorator call_counter that tracks how many times a function is called. Use it with a function say_hello that prints \"Hello!\"."
   ]
  },
  {
   "cell_type": "code",
   "execution_count": 33,
   "id": "48533efd-fb9c-41ac-be14-914f9a58f647",
   "metadata": {},
   "outputs": [
    {
     "name": "stdout",
     "output_type": "stream",
     "text": [
      "say_hello has been called 1 times\n",
      "Hello!\n",
      "say_hello has been called 2 times\n",
      "Hello!\n",
      "say_hello has been called 3 times\n",
      "Hello!\n"
     ]
    }
   ],
   "source": [
    "# Decorator to count how many times a function is called\n",
    "def call_counter(func):\n",
    "    def wrapper(*args, **kwargs):\n",
    "        wrapper.calls += 1  # Increment the call counter\n",
    "        print(f\"{func.__name__} has been called {wrapper.calls} times\")\n",
    "        return func(*args, **kwargs)  # Call the original function\n",
    "    wrapper.calls = 0  # Initialize the call counter\n",
    "    return wrapper\n",
    "\n",
    "# Function that will be decorated\n",
    "@call_counter\n",
    "def say_hello():\n",
    "    print(\"Hello!\")\n",
    "\n",
    "# Run the function a few times\n",
    "say_hello()\n",
    "say_hello()\n",
    "say_hello()\n"
   ]
  },
  {
   "cell_type": "markdown",
   "id": "cda554ad-c532-49b5-9cae-c54f0a55f3fd",
   "metadata": {},
   "source": [
    "##### 5. Write a decorator double_result that doubles the result of the decorated function. Use it with a function add that adds two numbers."
   ]
  },
  {
   "cell_type": "code",
   "execution_count": 36,
   "id": "f179ce56-c63c-4049-9d6c-27e7e8fe70f2",
   "metadata": {},
   "outputs": [
    {
     "name": "stdout",
     "output_type": "stream",
     "text": [
      "16\n"
     ]
    }
   ],
   "source": [
    "# Decorator to double the result of a function\n",
    "def double_result(func):\n",
    "    def wrapper(*args, **kwargs):\n",
    "        result = func(*args, **kwargs)  # Call the original function\n",
    "        return result * 2  # Double the result\n",
    "    return wrapper\n",
    "\n",
    "# Function that adds two numbers\n",
    "@double_result\n",
    "def add(a, b):\n",
    "    return a + b\n",
    "\n",
    "# Run the function\n",
    "print(add(3, 5))  # (3 + 5) * 2 = 16\n"
   ]
  },
  {
   "cell_type": "markdown",
   "id": "f881a426-280a-42d1-abf8-7b18fe909e20",
   "metadata": {},
   "source": [
    "##### 6. What happens when multiple decorators are applied to a single function?"
   ]
  },
  {
   "cell_type": "markdown",
   "id": "885bd680-5205-4436-ab6a-3479aef210d6",
   "metadata": {},
   "source": [
    "When multiple decorators are applied to a single function, they are executed from the innermost to the outermost decorator. \n",
    "In other words, the decorator closest to the function gets applied first,\n",
    "and the decorators further out wrap the result of the previous decorator."
   ]
  },
  {
   "cell_type": "code",
   "execution_count": 40,
   "id": "4e1826fd-9da5-485a-923c-6924ff0adf7f",
   "metadata": {},
   "outputs": [
    {
     "name": "stdout",
     "output_type": "stream",
     "text": [
      "Hello! Let's start the function.\n",
      "Hello there!\n",
      "Goodbye! The function has finished.\n"
     ]
    }
   ],
   "source": [
    "# Greeting decorator\n",
    "def greeting_decorator(func):\n",
    "    def wrapper(*args, **kwargs):\n",
    "        print(\"Hello! Let's start the function.\")\n",
    "        return func(*args, **kwargs)\n",
    "    return wrapper\n",
    "\n",
    "# Farewell decorator\n",
    "def farewell_decorator(func):\n",
    "    def wrapper(*args, **kwargs):\n",
    "        result = func(*args, **kwargs)\n",
    "        print(\"Goodbye! The function has finished.\")\n",
    "        return result\n",
    "    return wrapper\n",
    "\n",
    "# Function to be decorated\n",
    "@greeting_decorator  # First decorator\n",
    "@farewell_decorator  # Second decorator\n",
    "def say_hello():\n",
    "    print(\"Hello there!\")\n",
    "\n",
    "# Run the function\n",
    "say_hello()\n"
   ]
  },
  {
   "cell_type": "markdown",
   "id": "ed417538-e168-4536-8f14-dfdd9072b83c",
   "metadata": {},
   "source": [
    "##### 7.  What are some common use cases for decorators?"
   ]
  },
  {
   "cell_type": "raw",
   "id": "3332c5c6-6b95-4c9a-9f45-872ed311b386",
   "metadata": {},
   "source": [
    "Here are some common use cases for decorators:\n",
    "\n",
    "Logging: Track function calls, inputs, and outputs.\n",
    "Authorization / Authentication: Check user permissions before allowing access to a function.\n",
    "Memoization / Caching: Cache function results to improve performance.\n",
    "Timing / Performance Measurement: Measure how long a function takes to execute.\n",
    "Input Validation: Validate function arguments before execution.\n",
    "Retry Logic: Retry a function on failure (e.g., for network requests).\n",
    "Method Wrapping in Classes: Add additional behavior to class methods.\n",
    "Enriching Functionality: Modify or extend the behavior of functions without changing their code.\n",
    "Debugging / Tracing: Automatically trace or log function calls for debugging purposes."
   ]
  },
  {
   "cell_type": "code",
   "execution_count": null,
   "id": "1178d684-193f-4a86-8ff8-583daf912342",
   "metadata": {},
   "outputs": [],
   "source": []
  }
 ],
 "metadata": {
  "kernelspec": {
   "display_name": "Python 3 (ipykernel)",
   "language": "python",
   "name": "python3"
  },
  "language_info": {
   "codemirror_mode": {
    "name": "ipython",
    "version": 3
   },
   "file_extension": ".py",
   "mimetype": "text/x-python",
   "name": "python",
   "nbconvert_exporter": "python",
   "pygments_lexer": "ipython3",
   "version": "3.12.4"
  }
 },
 "nbformat": 4,
 "nbformat_minor": 5
}
