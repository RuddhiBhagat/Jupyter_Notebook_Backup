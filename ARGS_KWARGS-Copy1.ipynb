{
 "cells": [
  {
   "cell_type": "code",
   "execution_count": null,
   "id": "a151ffa7-669c-47e7-80a6-4afbb6413838",
   "metadata": {},
   "outputs": [],
   "source": [
    "#You are tasked with designing a flexible function that simulates an online shopping cart system. The function should accept the following: \n"
   ]
  },
  {
   "cell_type": "code",
   "execution_count": null,
   "id": "39e54eb7-71f3-4c6e-875c-03a57ce0da06",
   "metadata": {},
   "outputs": [],
   "source": [
    "1. #**A list of items to purchase**: Each item is represented as a tuple containing the name of the item, its price, and the quantity purchased. Use `*args` to handle this list.  \n",
    "   #Example: `(\"Laptop\", 1000, 1), (\"Mouse\", 20, 2), (\"Keyboard\", 50, 1)`"
   ]
  },
  {
   "cell_type": "code",
   "execution_count": 191,
   "id": "a10b3add-a190-4f81-97d5-2f3e20c1497a",
   "metadata": {},
   "outputs": [],
   "source": [
    "\n",
    "def shopping_cart(*args,**kwargs):\n",
    "    sub_total = 0\n",
    "    for i in args:\n",
    "        for item in i:\n",
    "            sub_cost = item[1] * item[2]\n",
    "            print(f\"{item[0]}: ${item[1]} * {item[2]} = ${sub_cost}\")\n",
    "            sub_total += sub_cost\n",
    "    print(f\"Subtotal = ${sub_total}\")\n",
    "\n",
    "    for j,k in kwargs.items():\n",
    "        if (j==\"discount\"):\n",
    "            print(f\"Hey! You lucky,you got Discount of {k}%\")\n",
    "            got = sub_total*k/100\n",
    "            sub_total -= sub_total*k/100\n",
    "            print(f\"Discount {k}% = {got}, new price = {sub_total}\")\n",
    "\n",
    "        if (j == \"promo\"):\n",
    "            if(k == \"SAVE10\"):\n",
    "                print(f\"Promo Code Applied! {k}\")\n",
    "                sub_total -= 10\n",
    "                print(sub_total)\n",
    "            \n",
    "\n",
    "        if(j==\"delivery\"):\n",
    "            if sub_total > 500:\n",
    "                print(\"Free Delivery!!!\")\n",
    "            else:\n",
    "                sub_total += 50\n",
    "                print(\"Delivery Charges of $50 applied\")\n",
    "            print(f\"Total Amount : {sub_total}\")\n",
    "            \n",
    "        \n"
   ]
  },
  {
   "cell_type": "code",
   "execution_count": 193,
   "id": "1f8b8dd9-e09a-463b-b955-5d855736768f",
   "metadata": {},
   "outputs": [
    {
     "name": "stdout",
     "output_type": "stream",
     "text": [
      "Laptop: $1000 * 1 = $1000\n",
      "Mouse: $50 * 2 = $100\n",
      "Keyboard: $100 * 1 = $100\n",
      "Subtotal = $1200\n",
      "Hey! You lucky,you got Discount of 20%\n",
      "Discount 20% = 240.0, new price = 960.0\n",
      "Promo Code Applied! SAVE10\n",
      "950.0\n",
      "Free Delivery!!!\n",
      "Total Amount : 950.0\n"
     ]
    }
   ],
   "source": [
    "list1 = [(\"Laptop\", 1000, 1), (\"Mouse\", 50, 2), (\"Keyboard\", 100, 1)]\n",
    "shopping_cart(list1,discount=20,promo=\"SAVE10\",delivery=50)"
   ]
  },
  {
   "cell_type": "code",
   "execution_count": null,
   "id": "9d327b1d-f7af-4db5-a7d0-283f205bb300",
   "metadata": {},
   "outputs": [],
   "source": []
  },
  {
   "cell_type": "code",
   "execution_count": null,
   "id": "2967fac2-7b12-42a5-91d0-9b559bd1bc58",
   "metadata": {},
   "outputs": [],
   "source": []
  }
 ],
 "metadata": {
  "kernelspec": {
   "display_name": "Python 3 (ipykernel)",
   "language": "python",
   "name": "python3"
  },
  "language_info": {
   "codemirror_mode": {
    "name": "ipython",
    "version": 3
   },
   "file_extension": ".py",
   "mimetype": "text/x-python",
   "name": "python",
   "nbconvert_exporter": "python",
   "pygments_lexer": "ipython3",
   "version": "3.12.4"
  }
 },
 "nbformat": 4,
 "nbformat_minor": 5
}
