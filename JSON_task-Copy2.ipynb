{
 "cells": [
  {
   "cell_type": "code",
   "execution_count": 25,
   "id": "2db8497d-9327-4d29-8937-4af282f82cd1",
   "metadata": {},
   "outputs": [
    {
     "data": {
      "text/plain": [
       "[{'name': 'john doe',\n",
       "  'email': 'JOHN@example.com',\n",
       "  'phone_number': '123-456-7890',\n",
       "  'address': '123 Main St, New York, NY 10001'},\n",
       " {'name': 'jane smith',\n",
       "  'email': 'Jane.Smith@Email.com',\n",
       "  'phone_number': '(123) 456 7890',\n",
       "  'address': '456 Elm St, Los Angeles, CA 90001'},\n",
       " {'name': 'john doe',\n",
       "  'email': 'john@example.com',\n",
       "  'phone_number': '1234567890',\n",
       "  'address': '123 Main St, New York, NY 10001'},\n",
       " {'name': 'Jane Smith',\n",
       "  'email': 'jane.smith@email.com',\n",
       "  'phone_number': '123-456-7890',\n",
       "  'address': '456 Elm St, Los Angeles, CA 90001'},\n",
       " {'name': 'john doe',\n",
       "  'email': 'john_doe@example.com',\n",
       "  'phone_number': '123 456 7890',\n",
       "  'address': '123 Main St, New York, NY 10001'},\n",
       " {'name': 'mary johnson',\n",
       "  'email': 'mary_johnson@domain.com',\n",
       "  'phone_number': '234-567-8901',\n",
       "  'address': '789 Oak St, Chicago, IL 60601'},\n",
       " {'name': 'Mary Johnson',\n",
       "  'email': 'mary.johnson@domain.com',\n",
       "  'phone_number': '234 567 8901',\n",
       "  'address': '789 Oak St, Chicago, IL 60601'},\n",
       " {'name': 'susan brown',\n",
       "  'email': 'SUSAN.BROWN@EXAMPLE.com',\n",
       "  'phone_number': '345-678-9012',\n",
       "  'address': '101 Pine St, Miami, FL 33101'},\n",
       " {'name': 'SUSAN BROWN',\n",
       "  'email': 'susan.brown@example.com',\n",
       "  'phone_number': '3456789012',\n",
       "  'address': '101 Pine St, Miami, FL 33101'},\n",
       " {'name': 'James White',\n",
       "  'email': 'james.white@example.com',\n",
       "  'phone_number': '456-789-0123',\n",
       "  'address': '202 Maple St, Boston, MA 02101'}]"
      ]
     },
     "execution_count": 25,
     "metadata": {},
     "output_type": "execute_result"
    }
   ],
   "source": [
    "import json\n",
    "\n",
    "data = [\n",
    "    {\"name\": \"john doe\", \"email\": \"JOHN@example.com\", \"phone_number\": \"123-456-7890\", \"address\": \"123 Main St, New York, NY 10001\"},\n",
    "    {\"name\": \"jane smith\", \"email\": \"Jane.Smith@Email.com\", \"phone_number\": \"(123) 456 7890\", \"address\": \"456 Elm St, Los Angeles, CA 90001\"},\n",
    "    {\"name\": \"john doe\", \"email\": \"john@example.com\", \"phone_number\": \"1234567890\", \"address\": \"123 Main St, New York, NY 10001\"},\n",
    "    {\"name\": \"Jane Smith\", \"email\": \"jane.smith@email.com\", \"phone_number\": \"123-456-7890\", \"address\": \"456 Elm St, Los Angeles, CA 90001\"},\n",
    "    {\"name\": \"john doe\", \"email\": \"john_doe@example.com\", \"phone_number\": \"123 456 7890\", \"address\": \"123 Main St, New York, NY 10001\"},\n",
    "    {\"name\": \"mary johnson\", \"email\": \"mary_johnson@domain.com\", \"phone_number\": \"234-567-8901\", \"address\": \"789 Oak St, Chicago, IL 60601\"},\n",
    "    {\"name\": \"Mary Johnson\", \"email\": \"mary.johnson@domain.com\", \"phone_number\": \"234 567 8901\", \"address\": \"789 Oak St, Chicago, IL 60601\"},\n",
    "    {\"name\": \"susan brown\", \"email\": \"SUSAN.BROWN@EXAMPLE.com\", \"phone_number\": \"345-678-9012\", \"address\": \"101 Pine St, Miami, FL 33101\"},\n",
    "    {\"name\": \"SUSAN BROWN\", \"email\": \"susan.brown@example.com\", \"phone_number\": \"3456789012\", \"address\": \"101 Pine St, Miami, FL 33101\"},\n",
    "    {\"name\": \"James White\", \"email\": \"james.white@example.com\", \"phone_number\": \"456-789-0123\", \"address\": \"202 Maple St, Boston, MA 02101\"}\n",
    "]\n",
    "\n",
    "# Open a file in write mode and save the data as JSON\n",
    "with open('data.json', 'w') as json_file:\n",
    "    json.dump(data, json_file, indent=4)\n",
    "data"
   ]
  },
  {
   "cell_type": "code",
   "execution_count": 27,
   "id": "e92896b1-cc88-4f36-ad6a-2fbcd770642d",
   "metadata": {},
   "outputs": [
    {
     "data": {
      "text/plain": [
       "[{'name': 'john doe',\n",
       "  'email': 'JOHN@example.com',\n",
       "  'phone_number': '123-456-7890',\n",
       "  'address': '123 Main St, New York, NY 10001'},\n",
       " {'name': 'jane smith',\n",
       "  'email': 'Jane.Smith@Email.com',\n",
       "  'phone_number': '(123) 456 7890',\n",
       "  'address': '456 Elm St, Los Angeles, CA 90001'},\n",
       " {'name': 'john doe',\n",
       "  'email': 'john@example.com',\n",
       "  'phone_number': '1234567890',\n",
       "  'address': '123 Main St, New York, NY 10001'},\n",
       " {'name': 'Jane Smith',\n",
       "  'email': 'jane.smith@email.com',\n",
       "  'phone_number': '123-456-7890',\n",
       "  'address': '456 Elm St, Los Angeles, CA 90001'},\n",
       " {'name': 'john doe',\n",
       "  'email': 'john_doe@example.com',\n",
       "  'phone_number': '123 456 7890',\n",
       "  'address': '123 Main St, New York, NY 10001'},\n",
       " {'name': 'mary johnson',\n",
       "  'email': 'mary_johnson@domain.com',\n",
       "  'phone_number': '234-567-8901',\n",
       "  'address': '789 Oak St, Chicago, IL 60601'},\n",
       " {'name': 'Mary Johnson',\n",
       "  'email': 'mary.johnson@domain.com',\n",
       "  'phone_number': '234 567 8901',\n",
       "  'address': '789 Oak St, Chicago, IL 60601'},\n",
       " {'name': 'susan brown',\n",
       "  'email': 'SUSAN.BROWN@EXAMPLE.com',\n",
       "  'phone_number': '345-678-9012',\n",
       "  'address': '101 Pine St, Miami, FL 33101'},\n",
       " {'name': 'SUSAN BROWN',\n",
       "  'email': 'susan.brown@example.com',\n",
       "  'phone_number': '3456789012',\n",
       "  'address': '101 Pine St, Miami, FL 33101'},\n",
       " {'name': 'James White',\n",
       "  'email': 'james.white@example.com',\n",
       "  'phone_number': '456-789-0123',\n",
       "  'address': '202 Maple St, Boston, MA 02101'}]"
      ]
     },
     "execution_count": 27,
     "metadata": {},
     "output_type": "execute_result"
    }
   ],
   "source": [
    "with open('data.json', 'r') as json_file:\n",
    "    json.load(json_file)\n",
    "data"
   ]
  },
  {
   "cell_type": "code",
   "execution_count": 29,
   "id": "e2f20298-8e42-4dcc-872e-8f3a271c9645",
   "metadata": {},
   "outputs": [
    {
     "data": {
      "text/plain": [
       "[{'name': 'john doe',\n",
       "  'email': 'john@example.com',\n",
       "  'phone_number': '123-456-7890',\n",
       "  'address': '123 Main St, New York, NY 10001'},\n",
       " {'name': 'jane smith',\n",
       "  'email': 'jane.smith@email.com',\n",
       "  'phone_number': '(123) 456 7890',\n",
       "  'address': '456 Elm St, Los Angeles, CA 90001'},\n",
       " {'name': 'john doe',\n",
       "  'email': 'john@example.com',\n",
       "  'phone_number': '1234567890',\n",
       "  'address': '123 Main St, New York, NY 10001'},\n",
       " {'name': 'Jane Smith',\n",
       "  'email': 'jane.smith@email.com',\n",
       "  'phone_number': '123-456-7890',\n",
       "  'address': '456 Elm St, Los Angeles, CA 90001'},\n",
       " {'name': 'john doe',\n",
       "  'email': 'john_doe@example.com',\n",
       "  'phone_number': '123 456 7890',\n",
       "  'address': '123 Main St, New York, NY 10001'},\n",
       " {'name': 'mary johnson',\n",
       "  'email': 'mary_johnson@domain.com',\n",
       "  'phone_number': '234-567-8901',\n",
       "  'address': '789 Oak St, Chicago, IL 60601'},\n",
       " {'name': 'Mary Johnson',\n",
       "  'email': 'mary.johnson@domain.com',\n",
       "  'phone_number': '234 567 8901',\n",
       "  'address': '789 Oak St, Chicago, IL 60601'},\n",
       " {'name': 'susan brown',\n",
       "  'email': 'susan.brown@example.com',\n",
       "  'phone_number': '345-678-9012',\n",
       "  'address': '101 Pine St, Miami, FL 33101'},\n",
       " {'name': 'SUSAN BROWN',\n",
       "  'email': 'susan.brown@example.com',\n",
       "  'phone_number': '3456789012',\n",
       "  'address': '101 Pine St, Miami, FL 33101'},\n",
       " {'name': 'James White',\n",
       "  'email': 'james.white@example.com',\n",
       "  'phone_number': '456-789-0123',\n",
       "  'address': '202 Maple St, Boston, MA 02101'}]"
      ]
     },
     "execution_count": 29,
     "metadata": {},
     "output_type": "execute_result"
    }
   ],
   "source": [
    "for i in data:\n",
    "    i['email'] = i['email'].lower()\n",
    "data"
   ]
  },
  {
   "cell_type": "code",
   "execution_count": 4,
   "id": "e2d0d378-15bd-492f-bf3b-9159a25fac85",
   "metadata": {},
   "outputs": [
    {
     "data": {
      "text/plain": [
       "[{'name': 'John Doe',\n",
       "  'email': 'john@example.com',\n",
       "  'phone_number': '123-456-7890',\n",
       "  'address': '123 Main St, New York, NY 10001'},\n",
       " {'name': 'Jane Smith',\n",
       "  'email': 'jane.smith@email.com',\n",
       "  'phone_number': '(123) 456 7890',\n",
       "  'address': '456 Elm St, Los Angeles, CA 90001'},\n",
       " {'name': 'John Doe',\n",
       "  'email': 'john@example.com',\n",
       "  'phone_number': '1234567890',\n",
       "  'address': '123 Main St, New York, NY 10001'},\n",
       " {'name': 'Jane Smith',\n",
       "  'email': 'jane.smith@email.com',\n",
       "  'phone_number': '123-456-7890',\n",
       "  'address': '456 Elm St, Los Angeles, CA 90001'},\n",
       " {'name': 'John Doe',\n",
       "  'email': 'john_doe@example.com',\n",
       "  'phone_number': '123 456 7890',\n",
       "  'address': '123 Main St, New York, NY 10001'},\n",
       " {'name': 'Mary Johnson',\n",
       "  'email': 'mary_johnson@domain.com',\n",
       "  'phone_number': '234-567-8901',\n",
       "  'address': '789 Oak St, Chicago, IL 60601'},\n",
       " {'name': 'Mary Johnson',\n",
       "  'email': 'mary.johnson@domain.com',\n",
       "  'phone_number': '234 567 8901',\n",
       "  'address': '789 Oak St, Chicago, IL 60601'},\n",
       " {'name': 'Susan Brown',\n",
       "  'email': 'susan.brown@example.com',\n",
       "  'phone_number': '345-678-9012',\n",
       "  'address': '101 Pine St, Miami, FL 33101'},\n",
       " {'name': 'Susan Brown',\n",
       "  'email': 'susan.brown@example.com',\n",
       "  'phone_number': '3456789012',\n",
       "  'address': '101 Pine St, Miami, FL 33101'},\n",
       " {'name': 'James White',\n",
       "  'email': 'james.white@example.com',\n",
       "  'phone_number': '456-789-0123',\n",
       "  'address': '202 Maple St, Boston, MA 02101'}]"
      ]
     },
     "execution_count": 4,
     "metadata": {},
     "output_type": "execute_result"
    }
   ],
   "source": [
    "for i in data:\n",
    "    i[\"name\"] = i[\"name\"].title()\n",
    "data"
   ]
  },
  {
   "cell_type": "code",
   "execution_count": 31,
   "id": "0a6845a7-b7c2-4fb8-bb7b-ba96741374b7",
   "metadata": {},
   "outputs": [
    {
     "data": {
      "text/plain": [
       "[{'name': 'john doe',\n",
       "  'email': 'john@example.com',\n",
       "  'phone_number': '(123) 456-7890',\n",
       "  'address': '123 Main St, New York, NY 10001'},\n",
       " {'name': 'jane smith',\n",
       "  'email': 'jane.smith@email.com',\n",
       "  'phone_number': '(123) 456-7890',\n",
       "  'address': '456 Elm St, Los Angeles, CA 90001'},\n",
       " {'name': 'john doe',\n",
       "  'email': 'john@example.com',\n",
       "  'phone_number': '(123) 456-7890',\n",
       "  'address': '123 Main St, New York, NY 10001'},\n",
       " {'name': 'Jane Smith',\n",
       "  'email': 'jane.smith@email.com',\n",
       "  'phone_number': '(123) 456-7890',\n",
       "  'address': '456 Elm St, Los Angeles, CA 90001'},\n",
       " {'name': 'john doe',\n",
       "  'email': 'john_doe@example.com',\n",
       "  'phone_number': '(123) 456-7890',\n",
       "  'address': '123 Main St, New York, NY 10001'},\n",
       " {'name': 'mary johnson',\n",
       "  'email': 'mary_johnson@domain.com',\n",
       "  'phone_number': '(234) 567-8901',\n",
       "  'address': '789 Oak St, Chicago, IL 60601'},\n",
       " {'name': 'Mary Johnson',\n",
       "  'email': 'mary.johnson@domain.com',\n",
       "  'phone_number': '(234) 567-8901',\n",
       "  'address': '789 Oak St, Chicago, IL 60601'},\n",
       " {'name': 'susan brown',\n",
       "  'email': 'susan.brown@example.com',\n",
       "  'phone_number': '(345) 678-9012',\n",
       "  'address': '101 Pine St, Miami, FL 33101'},\n",
       " {'name': 'SUSAN BROWN',\n",
       "  'email': 'susan.brown@example.com',\n",
       "  'phone_number': '(345) 678-9012',\n",
       "  'address': '101 Pine St, Miami, FL 33101'},\n",
       " {'name': 'James White',\n",
       "  'email': 'james.white@example.com',\n",
       "  'phone_number': '(456) 789-0123',\n",
       "  'address': '202 Maple St, Boston, MA 02101'}]"
      ]
     },
     "execution_count": 31,
     "metadata": {},
     "output_type": "execute_result"
    }
   ],
   "source": [
    "import re\n",
    "def clean_num(phone):\n",
    "    #a = r'\\D'\n",
    "    k= re.sub(r'\\D','',phone)\n",
    "    if len(k) == 11:\n",
    "        k = k[1:]\n",
    "    elif len(k) == 12:\n",
    "        k = k[2:]\n",
    "    if len(k) == 10:\n",
    "         return f\"({k[0:3]}) {k[3:6]}-{k[6:]}\"\n",
    "for i in data:\n",
    "    i['phone_number'] = clean_num(i['phone_number'])\n",
    "data"
   ]
  },
  {
   "cell_type": "code",
   "execution_count": 33,
   "id": "4896c4ed-4828-4915-8852-eba71c6bff12",
   "metadata": {},
   "outputs": [
    {
     "name": "stdout",
     "output_type": "stream",
     "text": [
      "(123) 456-7890\n",
      "(123) 456-7890\n",
      "(123) 456-7890\n",
      "(123) 456-7890\n",
      "(123) 456-7890\n",
      "(234) 567-8901\n",
      "(234) 567-8901\n",
      "(345) 678-9012\n",
      "(345) 678-9012\n",
      "(456) 789-0123\n"
     ]
    }
   ],
   "source": [
    "for i in data:\n",
    "    print(i['phone_number'])"
   ]
  },
  {
   "cell_type": "code",
   "execution_count": 35,
   "id": "a8e1595a-4ea7-402c-bb63-a3526a1d5af1",
   "metadata": {},
   "outputs": [
    {
     "data": {
      "text/plain": [
       "[{'name': 'john doe',\n",
       "  'email': 'john@example.com',\n",
       "  'phone_number': '(123) 456-7890',\n",
       "  'address': '123 Main St, New York, NY 10001'},\n",
       " {'name': 'jane smith',\n",
       "  'email': 'jane.smith@email.com',\n",
       "  'phone_number': '(123) 456-7890',\n",
       "  'address': '456 Elm St, Los Angeles, CA 90001'},\n",
       " {'name': 'john doe',\n",
       "  'email': 'john@example.com',\n",
       "  'phone_number': '(123) 456-7890',\n",
       "  'address': '123 Main St, New York, NY 10001'},\n",
       " {'name': 'Jane Smith',\n",
       "  'email': 'jane.smith@email.com',\n",
       "  'phone_number': '(123) 456-7890',\n",
       "  'address': '456 Elm St, Los Angeles, CA 90001'},\n",
       " {'name': 'john doe',\n",
       "  'email': 'john_doe@example.com',\n",
       "  'phone_number': '(123) 456-7890',\n",
       "  'address': '123 Main St, New York, NY 10001'},\n",
       " {'name': 'mary johnson',\n",
       "  'email': 'mary_johnson@domain.com',\n",
       "  'phone_number': '(234) 567-8901',\n",
       "  'address': '789 Oak St, Chicago, IL 60601'},\n",
       " {'name': 'Mary Johnson',\n",
       "  'email': 'mary.johnson@domain.com',\n",
       "  'phone_number': '(234) 567-8901',\n",
       "  'address': '789 Oak St, Chicago, IL 60601'},\n",
       " {'name': 'susan brown',\n",
       "  'email': 'susan.brown@example.com',\n",
       "  'phone_number': '(345) 678-9012',\n",
       "  'address': '101 Pine St, Miami, FL 33101'},\n",
       " {'name': 'SUSAN BROWN',\n",
       "  'email': 'susan.brown@example.com',\n",
       "  'phone_number': '(345) 678-9012',\n",
       "  'address': '101 Pine St, Miami, FL 33101'},\n",
       " {'name': 'James White',\n",
       "  'email': 'james.white@example.com',\n",
       "  'phone_number': '(456) 789-0123',\n",
       "  'address': '202 Maple St, Boston, MA 02101'}]"
      ]
     },
     "execution_count": 35,
     "metadata": {},
     "output_type": "execute_result"
    }
   ],
   "source": [
    "new = data\n",
    "new"
   ]
  },
  {
   "cell_type": "code",
   "execution_count": 37,
   "id": "9a83983e-f160-43b7-8ed0-22e250be89ca",
   "metadata": {},
   "outputs": [
    {
     "name": "stdout",
     "output_type": "stream",
     "text": [
      "{'name': 'john doe', 'email': 'john@example.com', 'phone_number': '(123) 456-7890', 'address': '123 Main St, New York, NY 10001'}\n",
      "{'name': 'jane smith', 'email': 'jane.smith@email.com', 'phone_number': '(123) 456-7890', 'address': '456 Elm St, Los Angeles, CA 90001'}\n",
      "{'name': 'Jane Smith', 'email': 'jane.smith@email.com', 'phone_number': '(123) 456-7890', 'address': '456 Elm St, Los Angeles, CA 90001'}\n",
      "{'name': 'john doe', 'email': 'john_doe@example.com', 'phone_number': '(123) 456-7890', 'address': '123 Main St, New York, NY 10001'}\n",
      "{'name': 'mary johnson', 'email': 'mary_johnson@domain.com', 'phone_number': '(234) 567-8901', 'address': '789 Oak St, Chicago, IL 60601'}\n",
      "{'name': 'Mary Johnson', 'email': 'mary.johnson@domain.com', 'phone_number': '(234) 567-8901', 'address': '789 Oak St, Chicago, IL 60601'}\n",
      "{'name': 'susan brown', 'email': 'susan.brown@example.com', 'phone_number': '(345) 678-9012', 'address': '101 Pine St, Miami, FL 33101'}\n",
      "{'name': 'SUSAN BROWN', 'email': 'susan.brown@example.com', 'phone_number': '(345) 678-9012', 'address': '101 Pine St, Miami, FL 33101'}\n",
      "{'name': 'James White', 'email': 'james.white@example.com', 'phone_number': '(456) 789-0123', 'address': '202 Maple St, Boston, MA 02101'}\n"
     ]
    }
   ],
   "source": [
    "data = {frozenset(item.items()) : \n",
    "            item for item in data}.values()\n",
    "for i in data:\n",
    "    print(i)"
   ]
  },
  {
   "cell_type": "code",
   "execution_count": 39,
   "id": "800af1d8-467f-46f8-afbf-c4644e06aa90",
   "metadata": {},
   "outputs": [
    {
     "data": {
      "text/plain": [
       "dict_values([{'name': 'john doe', 'email': 'john@example.com', 'phone_number': '(123) 456-7890', 'address': {'street': '123 Main St', 'city': 'New York', 'state': 'NY', 'zip_code': '10001'}}, {'name': 'jane smith', 'email': 'jane.smith@email.com', 'phone_number': '(123) 456-7890', 'address': {'street': '456 Elm St', 'city': 'Los Angeles', 'state': 'CA', 'zip_code': '90001'}}, {'name': 'Jane Smith', 'email': 'jane.smith@email.com', 'phone_number': '(123) 456-7890', 'address': {'street': '456 Elm St', 'city': 'Los Angeles', 'state': 'CA', 'zip_code': '90001'}}, {'name': 'john doe', 'email': 'john_doe@example.com', 'phone_number': '(123) 456-7890', 'address': {'street': '123 Main St', 'city': 'New York', 'state': 'NY', 'zip_code': '10001'}}, {'name': 'mary johnson', 'email': 'mary_johnson@domain.com', 'phone_number': '(234) 567-8901', 'address': {'street': '789 Oak St', 'city': 'Chicago', 'state': 'IL', 'zip_code': '60601'}}, {'name': 'Mary Johnson', 'email': 'mary.johnson@domain.com', 'phone_number': '(234) 567-8901', 'address': {'street': '789 Oak St', 'city': 'Chicago', 'state': 'IL', 'zip_code': '60601'}}, {'name': 'susan brown', 'email': 'susan.brown@example.com', 'phone_number': '(345) 678-9012', 'address': {'street': '101 Pine St', 'city': 'Miami', 'state': 'FL', 'zip_code': '33101'}}, {'name': 'SUSAN BROWN', 'email': 'susan.brown@example.com', 'phone_number': '(345) 678-9012', 'address': {'street': '101 Pine St', 'city': 'Miami', 'state': 'FL', 'zip_code': '33101'}}, {'name': 'James White', 'email': 'james.white@example.com', 'phone_number': '(456) 789-0123', 'address': {'street': '202 Maple St', 'city': 'Boston', 'state': 'MA', 'zip_code': '02101'}}])"
      ]
     },
     "execution_count": 39,
     "metadata": {},
     "output_type": "execute_result"
    }
   ],
   "source": [
    "import re\n",
    "def split_address(address):\n",
    "    match = re.match(r\"^(.*),\\s*(.*),\\s*([A-Z]{2})\\s*(\\d{5})$\", address)\n",
    "    if match:\n",
    "        street, city, state, zip_code = match.groups()\n",
    "        return {\n",
    "            \"street\": street.strip(),\n",
    "            \"city\": city.strip(),\n",
    "            \"state\": state.strip(),\n",
    "            \"zip_code\": zip_code.strip(),\n",
    "        }\n",
    "    else:\n",
    "        return {\"street\": \"\", \"city\": \"\", \"state\": \"\", \"zip_code\": \"\"}  # Handle invalid addresses\n",
    "\n",
    "for record in data:\n",
    "    record[\"address\"] = split_address(record[\"address\"])\n",
    "\n",
    "data"
   ]
  },
  {
   "cell_type": "code",
   "execution_count": 41,
   "id": "16d0adbd-ad0f-4a17-909a-fc008030805f",
   "metadata": {
    "scrolled": true
   },
   "outputs": [
    {
     "name": "stdout",
     "output_type": "stream",
     "text": [
      "{'name': 'john doe', 'email': 'john@example.com', 'phone_number': '(123) 456-7890', 'address': {'street': '123 Main St', 'city': 'New York', 'state': 'NY', 'zip_code': '10001'}}\n",
      "{'name': 'jane smith', 'email': 'jane.smith@email.com', 'phone_number': '(123) 456-7890', 'address': {'street': '456 Elm St', 'city': 'Los Angeles', 'state': 'CA', 'zip_code': '90001'}}\n",
      "{'name': 'Jane Smith', 'email': 'jane.smith@email.com', 'phone_number': '(123) 456-7890', 'address': {'street': '456 Elm St', 'city': 'Los Angeles', 'state': 'CA', 'zip_code': '90001'}}\n",
      "{'name': 'john doe', 'email': 'john_doe@example.com', 'phone_number': '(123) 456-7890', 'address': {'street': '123 Main St', 'city': 'New York', 'state': 'NY', 'zip_code': '10001'}}\n",
      "{'name': 'mary johnson', 'email': 'mary_johnson@domain.com', 'phone_number': '(234) 567-8901', 'address': {'street': '789 Oak St', 'city': 'Chicago', 'state': 'IL', 'zip_code': '60601'}}\n",
      "{'name': 'Mary Johnson', 'email': 'mary.johnson@domain.com', 'phone_number': '(234) 567-8901', 'address': {'street': '789 Oak St', 'city': 'Chicago', 'state': 'IL', 'zip_code': '60601'}}\n",
      "{'name': 'susan brown', 'email': 'susan.brown@example.com', 'phone_number': '(345) 678-9012', 'address': {'street': '101 Pine St', 'city': 'Miami', 'state': 'FL', 'zip_code': '33101'}}\n",
      "{'name': 'SUSAN BROWN', 'email': 'susan.brown@example.com', 'phone_number': '(345) 678-9012', 'address': {'street': '101 Pine St', 'city': 'Miami', 'state': 'FL', 'zip_code': '33101'}}\n",
      "{'name': 'James White', 'email': 'james.white@example.com', 'phone_number': '(456) 789-0123', 'address': {'street': '202 Maple St', 'city': 'Boston', 'state': 'MA', 'zip_code': '02101'}}\n"
     ]
    }
   ],
   "source": [
    "for i in data:\n",
    "    print(i)"
   ]
  },
  {
   "cell_type": "code",
   "execution_count": 45,
   "id": "f9a699da-1656-4f91-b726-f3b99bf4d60e",
   "metadata": {},
   "outputs": [
    {
     "name": "stdout",
     "output_type": "stream",
     "text": [
      "['NY', 'CA', 'CA', 'NY', 'IL', 'IL', 'FL', 'FL', 'MA']\n"
     ]
    }
   ],
   "source": [
    "# Display the state abbreviations\n",
    "state_abbreviations = [record['address']['state'] for record in data]\n",
    "print(state_abbreviations)"
   ]
  },
  {
   "cell_type": "code",
   "execution_count": 59,
   "id": "b30d48b5-7bc3-47d2-a7a4-ce7e58cfc441",
   "metadata": {},
   "outputs": [
    {
     "name": "stdout",
     "output_type": "stream",
     "text": [
      "Data has been written to 'Cleaned_sample.json'.\n"
     ]
    }
   ],
   "source": [
    "import json\n",
    "\n",
    "def convert_dict_values(obj):\n",
    "    if isinstance(obj, dict):\n",
    "        return {key: convert_dict_values(value) for key, value in obj.items()}\n",
    "    elif isinstance(obj, list):\n",
    "        return [convert_dict_values(item) for item in obj]\n",
    "    else:\n",
    "        return obj\n",
    "\n",
    "# Convert the data to ensure all dict_values \n",
    "cleaned_data = convert_dict_values(data)\n",
    "\n",
    "# Write the cleaned data to a JSON file\n",
    "with open(\"Cleaned_sample.json\", \"w\") as outfile:\n",
    "    json.dump(cleaned_data, outfile, indent=4)\n",
    "\n",
    "print(\"Data has been written to 'Cleaned_sample.json'.\")\n"
   ]
  },
  {
   "cell_type": "code",
   "execution_count": null,
   "id": "88dd9f38-6250-4498-afd9-13b26334a8ef",
   "metadata": {},
   "outputs": [],
   "source": []
  }
 ],
 "metadata": {
  "kernelspec": {
   "display_name": "Python 3 (ipykernel)",
   "language": "python",
   "name": "python3"
  },
  "language_info": {
   "codemirror_mode": {
    "name": "ipython",
    "version": 3
   },
   "file_extension": ".py",
   "mimetype": "text/x-python",
   "name": "python",
   "nbconvert_exporter": "python",
   "pygments_lexer": "ipython3",
   "version": "3.12.4"
  }
 },
 "nbformat": 4,
 "nbformat_minor": 5
}
